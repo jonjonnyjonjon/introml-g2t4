{
 "cells": [
  {
   "cell_type": "markdown",
   "id": "58b687c1",
   "metadata": {},
   "source": [
    "# Model: Logistic Regression\n",
    "---"
   ]
  },
  {
   "cell_type": "markdown",
   "id": "c91de7de",
   "metadata": {},
   "source": [
    "# 1. Setting up the notebook"
   ]
  },
  {
   "cell_type": "code",
   "execution_count": 5,
   "id": "9b335f22",
   "metadata": {},
   "outputs": [],
   "source": [
    "import pandas as pd\n",
    "import matplotlib.pyplot as plt\n",
    "%matplotlib inline\n",
    "\n",
    "from imblearn.pipeline import Pipeline\n",
    "from sklearn.compose import ColumnTransformer\n",
    "from sklearn.preprocessing import MinMaxScaler\n",
    "from imblearn.over_sampling import SMOTE\n",
    "from sklearn.linear_model import LogisticRegression\n",
    "\n",
    "from sklearn.metrics import make_scorer, confusion_matrix, precision_score, recall_score, f1_score, fbeta_score, accuracy_score, roc_auc_score, ConfusionMatrixDisplay\n",
    "from sklearn.model_selection import GridSearchCV, StratifiedKFold, cross_validate\n",
    "\n",
    "\n",
    "import warnings\n",
    "warnings.filterwarnings('ignore')"
   ]
  },
  {
   "cell_type": "code",
   "execution_count": 6,
   "id": "4817f49e",
   "metadata": {},
   "outputs": [],
   "source": [
    "df_train = pd.read_csv(\"../data/train.csv\")\n",
    "df_test = pd.read_csv(\"../data/test.csv\")\n",
    "\n",
    "y_train = df_train[[\"attrition_flag\"]]\n",
    "x_train = df_train.drop(\"attrition_flag\", axis=1)\n",
    "\n",
    "y_test = df_test[[\"attrition_flag\"]]\n",
    "x_test = df_test.drop(\"attrition_flag\", axis=1)"
   ]
  },
  {
   "cell_type": "code",
   "execution_count": 7,
   "id": "dee08dfe",
   "metadata": {},
   "outputs": [],
   "source": [
    "def cv_evaluate_model(clf):\n",
    "    scale_features = x_train.drop(\"gender\", axis=1).columns\n",
    "\n",
    "    scaler = ColumnTransformer(transformers=[ ('scaler', MinMaxScaler(), scale_features) ], remainder='passthrough')\n",
    "\n",
    "    pipeline = Pipeline(steps = [['scaler', scaler],\n",
    "                                 ['smote', SMOTE(random_state=2021)],\n",
    "                                 ['classifier', clf]])\n",
    "\n",
    "    stratified_kfold = StratifiedKFold(shuffle=True, n_splits=5, random_state=2021)\n",
    "\n",
    "    scoring = {\"recall\": 'recall',\n",
    "               \"fbeta_2\": make_scorer(fbeta_score, beta=2),\n",
    "               \"roc_auc\": make_scorer(roc_auc_score),\n",
    "              }\n",
    "\n",
    "    scores = cross_validate(pipeline, x_train, y_train.values.ravel(), cv=stratified_kfold,\n",
    "                           scoring = scoring)\n",
    "\n",
    "    recall = [ val for val in scores['test_recall'] ]\n",
    "    fbeta_2 = [ val for val in scores['test_fbeta_2'] ]\n",
    "    auc = [ val for val in scores['test_roc_auc'] ]\n",
    "    recall.append( sum(recall) / len(recall) )\n",
    "    fbeta_2.append( sum(fbeta_2) / len(fbeta_2) )\n",
    "    auc.append( sum(auc) / len(auc) )\n",
    "\n",
    "    score_df = pd.DataFrame(data=[recall, fbeta_2, auc], columns=['Fold 1','Fold 2','Fold 3','Fold 4','Fold 5', 'Average'],\n",
    "                            index=['Recall','Fbeta2','AUC'])\n",
    "    return score_df\n",
    "\n",
    "def print_combis(param_grid):\n",
    "    '''\n",
    "    Print number of combinations in a param_grid\n",
    "    '''\n",
    "    total_combi = 1\n",
    "    for param, value in param_grid.items():\n",
    "        print(param, value)\n",
    "        total_combi *= len(value)\n",
    "\n",
    "    print('-----------------')\n",
    "    print('Total combinations:', total_combi)\n",
    "\n",
    "def print_scores(y_test, y_pred):\n",
    "    '''\n",
    "    Print evaluation metrics\n",
    "    '''\n",
    "    print(f\"-------------------------TEST SCORES-----------------------\")\n",
    "    print(f\"Recall: {recall_score(y_test, y_pred)}\")\n",
    "    print(f\"F2-Score: {fbeta_score(y_test, y_pred, beta=2)}\")\n",
    "    print(f\"AUC Score: {roc_auc_score(y_test, y_pred)}\")"
   ]
  },
  {
   "cell_type": "markdown",
   "id": "bf5367f0",
   "metadata": {},
   "source": [
    "# 2. Running base model"
   ]
  },
  {
   "cell_type": "code",
   "execution_count": 4,
   "id": "0e8cae31",
   "metadata": {},
   "outputs": [
    {
     "data": {
      "text/html": [
       "<div>\n",
       "<style scoped>\n",
       "    .dataframe tbody tr th:only-of-type {\n",
       "        vertical-align: middle;\n",
       "    }\n",
       "\n",
       "    .dataframe tbody tr th {\n",
       "        vertical-align: top;\n",
       "    }\n",
       "\n",
       "    .dataframe thead th {\n",
       "        text-align: right;\n",
       "    }\n",
       "</style>\n",
       "<table border=\"1\" class=\"dataframe\">\n",
       "  <thead>\n",
       "    <tr style=\"text-align: right;\">\n",
       "      <th></th>\n",
       "      <th>Fold 1</th>\n",
       "      <th>Fold 2</th>\n",
       "      <th>Fold 3</th>\n",
       "      <th>Fold 4</th>\n",
       "      <th>Fold 5</th>\n",
       "      <th>Average</th>\n",
       "    </tr>\n",
       "  </thead>\n",
       "  <tbody>\n",
       "    <tr>\n",
       "      <th>Recall</th>\n",
       "      <td>0.839080</td>\n",
       "      <td>0.823077</td>\n",
       "      <td>0.796154</td>\n",
       "      <td>0.819231</td>\n",
       "      <td>0.808429</td>\n",
       "      <td>0.817194</td>\n",
       "    </tr>\n",
       "    <tr>\n",
       "      <th>Fbeta2</th>\n",
       "      <td>0.717092</td>\n",
       "      <td>0.716198</td>\n",
       "      <td>0.706967</td>\n",
       "      <td>0.721545</td>\n",
       "      <td>0.717199</td>\n",
       "      <td>0.715800</td>\n",
       "    </tr>\n",
       "    <tr>\n",
       "      <th>AUC</th>\n",
       "      <td>0.822481</td>\n",
       "      <td>0.823303</td>\n",
       "      <td>0.818298</td>\n",
       "      <td>0.827630</td>\n",
       "      <td>0.824744</td>\n",
       "      <td>0.823291</td>\n",
       "    </tr>\n",
       "  </tbody>\n",
       "</table>\n",
       "</div>"
      ],
      "text/plain": [
       "          Fold 1    Fold 2    Fold 3    Fold 4    Fold 5   Average\n",
       "Recall  0.839080  0.823077  0.796154  0.819231  0.808429  0.817194\n",
       "Fbeta2  0.717092  0.716198  0.706967  0.721545  0.717199  0.715800\n",
       "AUC     0.822481  0.823303  0.818298  0.827630  0.824744  0.823291"
      ]
     },
     "metadata": {},
     "output_type": "display_data"
    }
   ],
   "source": [
    "log_reg = LogisticRegression(random_state=2021)\n",
    "scores = cv_evaluate_model(log_reg)\n",
    "display(scores)"
   ]
  },
  {
   "cell_type": "markdown",
   "id": "9da57ba6",
   "metadata": {},
   "source": [
    "# 3. Hyperparamter tuning with GridSearchCV"
   ]
  },
  {
   "cell_type": "markdown",
   "id": "40876e10",
   "metadata": {},
   "source": [
    "## 4.1 First Grid Search"
   ]
  },
  {
   "cell_type": "code",
   "execution_count": 8,
   "id": "4b32dbe0",
   "metadata": {},
   "outputs": [
    {
     "name": "stdout",
     "output_type": "stream",
     "text": [
      "classifier__C [0.001, 0.01, 0.1, 1, 10, 100, 1000]\n",
      "classifier__fit_intercept [True, False]\n",
      "classifier__max_iter [100, 200, 300, 400, 500, 600, 700, 800, 900, 1000]\n",
      "classifier__multi_class ['auto', 'ovr', 'multinomial']\n",
      "classifier__penalty ['l1', 'l2', 'elasticnet', 'none']\n",
      "classifier__solver ['newton-cg', 'lbfgs', 'liblinear', 'sag', 'saga']\n",
      "-----------------\n",
      "Total combinations: 8400\n"
     ]
    }
   ],
   "source": [
    "param_grid = {\n",
    "    'classifier__C' : [0.001, 0.01, 0.1, 1, 10, 100, 1000],\n",
    "    'classifier__fit_intercept' : [True, False],\n",
    "    'classifier__max_iter' : [100, 200, 300, 400, 500, 600, 700, 800, 900, 1000],\n",
    "    'classifier__multi_class' : ['auto', 'ovr', 'multinomial'],\n",
    "    'classifier__penalty' : ['l1', 'l2', 'elasticnet', 'none'],\n",
    "    'classifier__solver' : ['newton-cg', 'lbfgs', 'liblinear', 'sag', 'saga']\n",
    "}\n",
    "\n",
    "print_combis(param_grid)"
   ]
  },
  {
   "cell_type": "code",
   "execution_count": 35,
   "id": "b8dcf4d5",
   "metadata": {},
   "outputs": [
    {
     "data": {
      "text/plain": [
       "GridSearchCV(cv=StratifiedKFold(n_splits=5, random_state=2021, shuffle=True),\n",
       "             estimator=Pipeline(steps=[('scaler',\n",
       "                                        ColumnTransformer(transformers=[('scaler',\n",
       "                                                                         MinMaxScaler(),\n",
       "                                                                         Index(['dependent_count', 'total_relationship_count', 'months_inactive_12_mon',\n",
       "       'contacts_count_12_mon', 'credit_limit', 'total_revolving_bal',\n",
       "       'total_amt_change_q4_q1', 'total_trans_amt', '...\n",
       "             param_grid={'classifier__C': [0.001, 0.01, 0.1, 1, 10, 100, 1000],\n",
       "                         'classifier__fit_intercept': [True, False],\n",
       "                         'classifier__max_iter': [100, 200, 300, 400, 500, 600,\n",
       "                                                  700, 800, 900, 1000],\n",
       "                         'classifier__multi_class': ['auto', 'ovr',\n",
       "                                                     'multinomial'],\n",
       "                         'classifier__penalty': ['l1', 'l2', 'elasticnet',\n",
       "                                                 'none'],\n",
       "                         'classifier__solver': ['newton-cg', 'lbfgs',\n",
       "                                                'liblinear', 'sag', 'saga']},\n",
       "             scoring='recall')"
      ]
     },
     "execution_count": 35,
     "metadata": {},
     "output_type": "execute_result"
    }
   ],
   "source": [
    "scale_features = x_train.drop(\"gender\", axis=1).columns\n",
    "pipeline = Pipeline([\n",
    "    ('scaler', ColumnTransformer(transformers=[('scaler', MinMaxScaler(), scale_features)], remainder='passthrough')),\n",
    "    ('smote', SMOTE(random_state = 2021)), \n",
    "    ('classifier', LogisticRegression(random_state=2021))\n",
    "])\n",
    "\n",
    "logreg_gridsearch = GridSearchCV(\n",
    "    estimator = pipeline,\n",
    "    param_grid = param_grid,\n",
    "    scoring = 'recall',\n",
    "    cv = StratifiedKFold(shuffle=True, n_splits=5, random_state=2021),\n",
    "    refit = True,\n",
    "    n_jobs = -1\n",
    ")"
   ]
  },
  {
   "cell_type": "code",
   "execution_count": 84,
   "id": "5612eca6",
   "metadata": {},
   "outputs": [
    {
     "name": "stdout",
     "output_type": "stream",
     "text": [
      "{'classifier__C': 1, 'classifier__fit_intercept': True, 'classifier__max_iter': 100, 'classifier__multi_class': 'auto', 'classifier__penalty': 'l2', 'classifier__solver': 'newton-cg'}\n"
     ]
    }
   ],
   "source": [
    "logreg_gridsearch.fit(x_train, y_train.values.ravel())\n",
    "print(logreg_gridsearch.best_params_)"
   ]
  },
  {
   "cell_type": "markdown",
   "id": "ac945499",
   "metadata": {},
   "source": [
    "## 4.2 Second Grid Search"
   ]
  },
  {
   "cell_type": "markdown",
   "id": "dd0a3337",
   "metadata": {},
   "source": [
    "#### Best Params from First Grid Search:\n",
    "{'classifier__C': 1, 'classifier__fit_intercept': True, 'classifier__max_iter': 100, 'classifier__multi_class': 'auto', 'classifier__penalty': 'l2', 'classifier__solver': 'newton-cg'}"
   ]
  },
  {
   "cell_type": "code",
   "execution_count": 23,
   "id": "3981485b",
   "metadata": {},
   "outputs": [
    {
     "name": "stdout",
     "output_type": "stream",
     "text": [
      "classifier__C [1, 2, 3, 4, 5]\n",
      "classifier__fit_intercept [True, False]\n",
      "classifier__max_iter [70, 80, 90, 100, 110, 120, 130]\n",
      "classifier__multi_class ['auto', 'ovr', 'multinomial']\n",
      "classifier__penalty ['l1', 'l2', 'elasticnet', 'none']\n",
      "classifier__solver ['newton-cg', 'lbfgs', 'liblinear', 'sag', 'saga']\n",
      "-----------------\n",
      "Total combinations: 4200\n"
     ]
    }
   ],
   "source": [
    "param_grid2 = {\n",
    "    'classifier__C' : [1, 2, 3, 4, 5],\n",
    "    'classifier__fit_intercept' : [True, False],\n",
    "    'classifier__max_iter' : [70, 80, 90, 100, 110, 120, 130],\n",
    "    'classifier__multi_class' : ['auto', 'ovr', 'multinomial'],\n",
    "    'classifier__penalty' : ['l1', 'l2', 'elasticnet', 'none'],\n",
    "    'classifier__solver' : ['newton-cg', 'lbfgs', 'liblinear', 'sag', 'saga']\n",
    "}\n",
    "\n",
    "print_combis(param_grid2)"
   ]
  },
  {
   "cell_type": "code",
   "execution_count": 24,
   "id": "50aa7ac5",
   "metadata": {},
   "outputs": [],
   "source": [
    "logreg_gridsearch2 = GridSearchCV(\n",
    "    estimator = pipeline,\n",
    "    param_grid = param_grid2,\n",
    "    scoring = 'recall',\n",
    "    cv = StratifiedKFold(shuffle=True, n_splits=5, random_state=2021),\n",
    "    refit = True,\n",
    "    n_jobs = -1\n",
    ")"
   ]
  },
  {
   "cell_type": "code",
   "execution_count": 25,
   "id": "d5404207",
   "metadata": {},
   "outputs": [
    {
     "data": {
      "text/plain": [
       "GridSearchCV(cv=StratifiedKFold(n_splits=5, random_state=2021, shuffle=True),\n",
       "             estimator=Pipeline(steps=[('scaler',\n",
       "                                        ColumnTransformer(transformers=[('scaler',\n",
       "                                                                         MinMaxScaler(),\n",
       "                                                                         Index(['dependent_count', 'total_relationship_count', 'months_inactive_12_mon',\n",
       "       'contacts_count_12_mon', 'credit_limit', 'total_revolving_bal',\n",
       "       'total_amt_change_q4_q1', 'total_trans_amt', '...\n",
       "                                        LogisticRegression(random_state=2021))]),\n",
       "             n_jobs=-1,\n",
       "             param_grid={'classifier__C': [1, 2, 3, 4, 5],\n",
       "                         'classifier__fit_intercept': [True, False],\n",
       "                         'classifier__max_iter': [70, 80, 90, 100, 110, 120,\n",
       "                                                  130],\n",
       "                         'classifier__multi_class': ['auto', 'ovr',\n",
       "                                                     'multinomial'],\n",
       "                         'classifier__penalty': ['l1', 'l2', 'elasticnet',\n",
       "                                                 'none'],\n",
       "                         'classifier__solver': ['newton-cg', 'lbfgs',\n",
       "                                                'liblinear', 'sag', 'saga']},\n",
       "             scoring='recall')"
      ]
     },
     "execution_count": 25,
     "metadata": {},
     "output_type": "execute_result"
    }
   ],
   "source": [
    "logreg_gridsearch2.fit(x_train, y_train.values.ravel())"
   ]
  },
  {
   "cell_type": "code",
   "execution_count": 27,
   "id": "36aa6991",
   "metadata": {},
   "outputs": [
    {
     "name": "stdout",
     "output_type": "stream",
     "text": [
      "{'classifier__C': 1, 'classifier__fit_intercept': True, 'classifier__max_iter': 70, 'classifier__multi_class': 'auto', 'classifier__penalty': 'l2', 'classifier__solver': 'newton-cg'}\n"
     ]
    }
   ],
   "source": [
    "best_params2 = logreg_gridsearch2.best_params_\n",
    "print(best_params2)"
   ]
  },
  {
   "cell_type": "markdown",
   "id": "9677ff61",
   "metadata": {},
   "source": [
    "## 4.3 Third Grid Search"
   ]
  },
  {
   "cell_type": "markdown",
   "id": "6cbe152c",
   "metadata": {},
   "source": [
    "#### Best Params of Second Grid Search:\n",
    "{'classifier__C': 1, 'classifier__fit_intercept': True, 'classifier__max_iter': 70, 'classifier__multi_class': 'auto', 'classifier__penalty': 'l2', 'classifier__solver': 'newton-cg'}"
   ]
  },
  {
   "cell_type": "code",
   "execution_count": 91,
   "id": "790d14ff",
   "metadata": {},
   "outputs": [
    {
     "name": "stdout",
     "output_type": "stream",
     "text": [
      "classifier__C [0.5, 0.6, 0.7, 0.8, 0.9, 1.0]\n",
      "classifier__fit_intercept [True, False]\n",
      "classifier__max_iter [10, 20, 30, 40, 50, 60, 70]\n",
      "classifier__multi_class ['auto', 'ovr', 'multinomial']\n",
      "classifier__penalty ['l1', 'l2', 'elasticnet', 'none']\n",
      "classifier__solver ['newton-cg', 'lbfgs', 'liblinear', 'sag', 'saga']\n",
      "-----------------\n",
      "Total combinations: 5040\n"
     ]
    }
   ],
   "source": [
    "param_grid3 = {\n",
    "    'classifier__C' : [0.5, 0.6, 0.7, 0.8, 0.9, 1.0],\n",
    "    'classifier__fit_intercept' : [True, False],\n",
    "    'classifier__max_iter' : [10, 20, 30, 40, 50, 60, 70],\n",
    "    'classifier__multi_class' : ['auto', 'ovr', 'multinomial'],\n",
    "    'classifier__penalty' : ['l1', 'l2', 'elasticnet', 'none'],\n",
    "    'classifier__solver' : ['newton-cg', 'lbfgs', 'liblinear', 'sag', 'saga']\n",
    "}\n",
    "\n",
    "print_combis(param_grid3)"
   ]
  },
  {
   "cell_type": "code",
   "execution_count": 92,
   "id": "41158d00",
   "metadata": {},
   "outputs": [],
   "source": [
    "logreg_gridsearch3 = GridSearchCV(\n",
    "    estimator = pipeline,\n",
    "    param_grid = param_grid3,\n",
    "    scoring = 'recall',\n",
    "    cv = StratifiedKFold(shuffle=True, n_splits=5, random_state=2021),\n",
    "    refit = True,\n",
    "    n_jobs = -1\n",
    ")"
   ]
  },
  {
   "cell_type": "code",
   "execution_count": 93,
   "id": "0d59c2d2",
   "metadata": {},
   "outputs": [
    {
     "data": {
      "text/plain": [
       "GridSearchCV(cv=StratifiedKFold(n_splits=5, random_state=2021, shuffle=True),\n",
       "             estimator=Pipeline(steps=[('scaler',\n",
       "                                        ColumnTransformer(transformers=[('scaler',\n",
       "                                                                         MinMaxScaler(),\n",
       "                                                                         Index(['dependent_count', 'total_relationship_count', 'months_inactive_12_mon',\n",
       "       'contacts_count_12_mon', 'credit_limit', 'total_revolving_bal',\n",
       "       'total_amt_change_q4_q1', 'total_trans_amt', '...\n",
       "                                        LogisticRegression(random_state=2021))]),\n",
       "             n_jobs=-1,\n",
       "             param_grid={'classifier__C': [0.5, 0.6, 0.7, 0.8, 0.9, 1.0],\n",
       "                         'classifier__fit_intercept': [True, False],\n",
       "                         'classifier__max_iter': [10, 20, 30, 40, 50, 60, 70],\n",
       "                         'classifier__multi_class': ['auto', 'ovr',\n",
       "                                                     'multinomial'],\n",
       "                         'classifier__penalty': ['l1', 'l2', 'elasticnet',\n",
       "                                                 'none'],\n",
       "                         'classifier__solver': ['newton-cg', 'lbfgs',\n",
       "                                                'liblinear', 'sag', 'saga']},\n",
       "             scoring='recall')"
      ]
     },
     "execution_count": 93,
     "metadata": {},
     "output_type": "execute_result"
    }
   ],
   "source": [
    "logreg_gridsearch3.fit(x_train, y_train.values.ravel())"
   ]
  },
  {
   "cell_type": "code",
   "execution_count": 94,
   "id": "2a6b3160",
   "metadata": {},
   "outputs": [
    {
     "name": "stdout",
     "output_type": "stream",
     "text": [
      "{'classifier__C': 0.5, 'classifier__fit_intercept': True, 'classifier__max_iter': 10, 'classifier__multi_class': 'auto', 'classifier__penalty': 'l2', 'classifier__solver': 'sag'}\n"
     ]
    }
   ],
   "source": [
    "best_params3 = logreg_gridsearch3.best_params_\n",
    "print(best_params3)"
   ]
  },
  {
   "cell_type": "markdown",
   "id": "11d60eb9",
   "metadata": {},
   "source": [
    "# 4. Evaluation on Test set"
   ]
  },
  {
   "cell_type": "markdown",
   "id": "27ee6f86",
   "metadata": {},
   "source": [
    "#### Best params from First Grid Search:\n",
    "{'classifier__C': 1, 'classifier__fit_intercept': True, 'classifier__max_iter': 100, 'classifier__multi_class': 'auto', 'classifier__penalty': 'l2', 'classifier__solver': 'newton-cg'}\n",
    "#### Best params from Second Grid Search:\n",
    "{'classifier__C': 1, 'classifier__fit_intercept': True, 'classifier__max_iter': 70, 'classifier__multi_class': 'auto', 'classifier__penalty': 'l2', 'classifier__solver': 'newton-cg'}\n",
    "#### Best params from Third Grid Search:\n",
    "{'classifier__C': 0.5, 'classifier__fit_intercept': True, 'classifier__max_iter': 10, 'classifier__multi_class': 'auto', 'classifier__penalty': 'l2', 'classifier__solver': 'sag'}"
   ]
  },
  {
   "cell_type": "code",
   "execution_count": 8,
   "id": "ed4603c9",
   "metadata": {},
   "outputs": [
    {
     "name": "stdout",
     "output_type": "stream",
     "text": [
      "-----------------------PERFORMANCE EVALUATION--------------------  \n",
      "Recall: 0.7169230769230769 \n",
      "Fbeta2: 0.6328082563824009 \n",
      "AUC Score: 0.76792655903767 \n"
     ]
    }
   ],
   "source": [
    "logreg_clf3 = LogisticRegression(\n",
    "    C=0.5,\n",
    "    fit_intercept=True,\n",
    "    max_iter=10,\n",
    "    multi_class='auto',\n",
    "    penalty='l2',\n",
    "    solver='newton-cg'\n",
    ")\n",
    "\n",
    "scale_features = x_train.drop(\"gender\", axis=1).columns\n",
    "\n",
    "scaler = ColumnTransformer(transformers=[ ('scaler', MinMaxScaler(), scale_features) ], remainder='passthrough')\n",
    "\n",
    "pipeline = Pipeline(steps = [['scaler', scaler],\n",
    "                             ['smote', SMOTE(random_state=2021)],\n",
    "                             ['classifier', logreg_clf3]]) # Use best classifier - gridsearch 3 best params\n",
    "\n",
    "pipeline.fit(x_train, y_train.values.ravel() )\n",
    "\n",
    "y_pred = pipeline.predict(x_test)\n",
    "\n",
    "print(\"-----------------------PERFORMANCE EVALUATION--------------------  \")\n",
    "print(f\"Recall: {recall_score(y_test, y_pred)} \")\n",
    "print(f\"Fbeta2: {fbeta_score(y_test, y_pred, beta=2)} \")\n",
    "print(f\"AUC Score: {roc_auc_score(y_test, y_pred)} \")"
   ]
  },
  {
   "cell_type": "code",
   "execution_count": 9,
   "id": "3596ea0b",
   "metadata": {},
   "outputs": [
    {
     "data": {
      "image/png": "[encoded data removed]",
      "text/plain": [
       "<Figure size 432x288 with 2 Axes>"
      ]
     },
     "metadata": {
      "needs_background": "light"
     },
     "output_type": "display_data"
    }
   ],
   "source": [
    "cm = confusion_matrix(y_test, y_pred)\n",
    "labels = ['Existing Customer', 'Attrited Customer']\n",
    "\n",
    "diagram = ConfusionMatrixDisplay(confusion_matrix=cm, display_labels=labels)\n",
    "diagram.plot(cmap=plt.cm.Blues)\n",
    "plt.show()"
   ]
  }
 ],
 "metadata": {
  "kernelspec": {
   "display_name": "Python 3 (ipykernel)",
   "language": "python",
   "name": "python3"
  },
  "language_info": {
   "codemirror_mode": {
    "name": "ipython",
    "version": 3
   },
   "file_extension": ".py",
   "mimetype": "text/x-python",
   "name": "python",
   "nbconvert_exporter": "python",
   "pygments_lexer": "ipython3",
   "version": "3.8.10"
  }
 },
 "nbformat": 4,
 "nbformat_minor": 5
}
