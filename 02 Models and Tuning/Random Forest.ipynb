{
 "cells": [
  {
   "cell_type": "markdown",
   "metadata": {},
   "source": [
    "# Model: Random Forest\n",
    "---"
   ]
  },
  {
   "cell_type": "markdown",
   "metadata": {},
   "source": [
    "# 1. Setting up the notebook"
   ]
  },
  {
   "cell_type": "code",
   "execution_count": 2,
   "metadata": {
    "execution": {
     "iopub.execute_input": "2021-11-07T00:58:15.944510Z",
     "iopub.status.busy": "2021-11-07T00:58:15.944205Z",
     "iopub.status.idle": "2021-11-07T00:58:16.274881Z",
     "shell.execute_reply": "2021-11-07T00:58:16.274008Z",
     "shell.execute_reply.started": "2021-11-07T00:58:15.944467Z"
    }
   },
   "outputs": [],
   "source": [
    "import pandas as pd\n",
    "import numpy as np\n",
    "import seaborn as sns\n",
    "import matplotlib.pyplot as plt\n",
    "%matplotlib inline\n",
    "\n",
    "from sklearn.preprocessing import MinMaxScaler\n",
    "from imblearn.over_sampling import SMOTE\n",
    "from imblearn.pipeline import Pipeline\n",
    "from sklearn.compose import ColumnTransformer\n",
    "from sklearn.ensemble import RandomForestClassifier\n",
    "from sklearn.model_selection import StratifiedKFold, GridSearchCV, cross_validate\n",
    "from sklearn.metrics import make_scorer, recall_score, fbeta_score, roc_auc_score"
   ]
  },
  {
   "cell_type": "code",
   "execution_count": 3,
   "metadata": {
    "execution": {
     "iopub.execute_input": "2021-11-07T00:58:16.276831Z",
     "iopub.status.busy": "2021-11-07T00:58:16.276199Z",
     "iopub.status.idle": "2021-11-07T00:58:16.309811Z",
     "shell.execute_reply": "2021-11-07T00:58:16.308881Z",
     "shell.execute_reply.started": "2021-11-07T00:58:16.276784Z"
    }
   },
   "outputs": [],
   "source": [
    "df_train = pd.read_csv(\"../Data/train.csv\")\n",
    "y_train = df_train[[\"attrition_flag\"]]\n",
    "x_train = df_train.drop(\"attrition_flag\", axis=1)"
   ]
  },
  {
   "cell_type": "markdown",
   "metadata": {},
   "source": [
    "# 2. Running base model"
   ]
  },
  {
   "cell_type": "code",
   "execution_count": 4,
   "metadata": {},
   "outputs": [],
   "source": [
    "def cv_evaluate_model(rf_clf):\n",
    "    scale_features = x_train.drop(\"gender\", axis=1).columns\n",
    "    scaler = ColumnTransformer(transformers=[ ('scaler', MinMaxScaler(), scale_features) ], remainder='passthrough')\n",
    "    pipeline = Pipeline(steps = [['scaler', scaler ],\n",
    "                                 ['smote', SMOTE(random_state=2021)],\n",
    "                                 ['classifier', rf_clf]\n",
    "                                ])\n",
    "\n",
    "    stratified_kfold = StratifiedKFold(shuffle=True, n_splits=3, random_state=2021)\n",
    "\n",
    "    scoring = {\"accuracy\": \"accuracy\",\n",
    "               \"recall\": 'recall',\n",
    "               \"precision\": \"precision\",\n",
    "               \"fbeta_2\": make_scorer(fbeta_score, beta=2),\n",
    "               \"roc_auc\": make_scorer(roc_auc_score),\n",
    "              }\n",
    "\n",
    "    scores = cross_validate(pipeline, x_train, y_train.values.ravel(), cv=stratified_kfold,\n",
    "                           scoring = scoring)\n",
    "\n",
    "    accuracy = [ val for val in scores['test_accuracy'] ]\n",
    "    recall = [ val for val in scores['test_recall'] ]\n",
    "    precision = [ val for val in scores['test_precision'] ]\n",
    "    fbeta_2 = [ val for val in scores['test_fbeta_2'] ]\n",
    "    auc = [ val for val in scores['test_roc_auc'] ]\n",
    "\n",
    "    accuracy.append( sum(accuracy) / len(accuracy) )\n",
    "    recall.append( sum(recall) / len(recall) )\n",
    "    precision.append( sum(precision) / len(precision) )\n",
    "    fbeta_2.append( sum(fbeta_2) / len(fbeta_2) )\n",
    "    auc.append( sum(auc) / len(auc) )\n",
    "\n",
    "    score_df = pd.DataFrame(data=[accuracy, recall, precision, fbeta_2, auc], columns=['Fold 1','Fold 2','Fold 3', 'Average'],\n",
    "                                index=['Accuracy', 'Recall', 'Precision', 'Fbeta2', 'AUC'])\n",
    "    return score_df"
   ]
  },
  {
   "cell_type": "code",
   "execution_count": 5,
   "metadata": {},
   "outputs": [
    {
     "data": {
      "text/html": [
       "<div>\n",
       "<style scoped>\n",
       "    .dataframe tbody tr th:only-of-type {\n",
       "        vertical-align: middle;\n",
       "    }\n",
       "\n",
       "    .dataframe tbody tr th {\n",
       "        vertical-align: top;\n",
       "    }\n",
       "\n",
       "    .dataframe thead th {\n",
       "        text-align: right;\n",
       "    }\n",
       "</style>\n",
       "<table border=\"1\" class=\"dataframe\">\n",
       "  <thead>\n",
       "    <tr style=\"text-align: right;\">\n",
       "      <th></th>\n",
       "      <th>Fold 1</th>\n",
       "      <th>Fold 2</th>\n",
       "      <th>Fold 3</th>\n",
       "      <th>Average</th>\n",
       "    </tr>\n",
       "  </thead>\n",
       "  <tbody>\n",
       "    <tr>\n",
       "      <th>Accuracy</th>\n",
       "      <td>0.929285</td>\n",
       "      <td>0.924815</td>\n",
       "      <td>0.924074</td>\n",
       "      <td>0.926058</td>\n",
       "    </tr>\n",
       "    <tr>\n",
       "      <th>Recall</th>\n",
       "      <td>0.769585</td>\n",
       "      <td>0.781106</td>\n",
       "      <td>0.730415</td>\n",
       "      <td>0.760369</td>\n",
       "    </tr>\n",
       "    <tr>\n",
       "      <th>Precision</th>\n",
       "      <td>0.785882</td>\n",
       "      <td>0.758389</td>\n",
       "      <td>0.782716</td>\n",
       "      <td>0.775663</td>\n",
       "    </tr>\n",
       "    <tr>\n",
       "      <th>Fbeta2</th>\n",
       "      <td>0.772790</td>\n",
       "      <td>0.776454</td>\n",
       "      <td>0.740308</td>\n",
       "      <td>0.763184</td>\n",
       "    </tr>\n",
       "    <tr>\n",
       "      <th>AUC</th>\n",
       "      <td>0.864722</td>\n",
       "      <td>0.866722</td>\n",
       "      <td>0.845790</td>\n",
       "      <td>0.859078</td>\n",
       "    </tr>\n",
       "  </tbody>\n",
       "</table>\n",
       "</div>"
      ],
      "text/plain": [
       "             Fold 1    Fold 2    Fold 3   Average\n",
       "Accuracy   0.929285  0.924815  0.924074  0.926058\n",
       "Recall     0.769585  0.781106  0.730415  0.760369\n",
       "Precision  0.785882  0.758389  0.782716  0.775663\n",
       "Fbeta2     0.772790  0.776454  0.740308  0.763184\n",
       "AUC        0.864722  0.866722  0.845790  0.859078"
      ]
     },
     "metadata": {},
     "output_type": "display_data"
    }
   ],
   "source": [
    "rf_clf = RandomForestClassifier(random_state=2021)\n",
    "base_model = cv_evaluate_model(rf_clf)\n",
    "display(base_model)"
   ]
  },
  {
   "cell_type": "markdown",
   "metadata": {},
   "source": [
    "# 3. Hyper parameter tuning with GridSearchCV"
   ]
  },
  {
   "cell_type": "markdown",
   "metadata": {},
   "source": [
    "## 3.1 First Grid Search"
   ]
  },
  {
   "cell_type": "code",
   "execution_count": 4,
   "metadata": {
    "execution": {
     "iopub.execute_input": "2021-11-07T00:58:26.765506Z",
     "iopub.status.busy": "2021-11-07T00:58:26.765201Z",
     "iopub.status.idle": "2021-11-07T00:58:26.775473Z",
     "shell.execute_reply": "2021-11-07T00:58:26.774665Z",
     "shell.execute_reply.started": "2021-11-07T00:58:26.765476Z"
    }
   },
   "outputs": [
    {
     "name": "stdout",
     "output_type": "stream",
     "text": [
      "classifier__n_estimators [100, 300, 500, 700, 900]\n",
      "classifier__max_features ['sqrt', 'log2']\n",
      "classifier__min_samples_split [3, 5, 8, 10, 13]\n",
      "classifier__min_samples_leaf [1, 3, 5, 8, 10]\n",
      "classifier__max_depth [5, 10, 15, 20]\n",
      "-----------------\n",
      "Total combinations: 1000\n",
      "Across 5-folds = 5000\n"
     ]
    }
   ],
   "source": [
    "# Creating parameter grid to search\n",
    "n_estimators = [100, 300, 500, 700, 900]\n",
    "max_features = ['sqrt', 'log2']\n",
    "max_depth = [5, 10, 15, 20]\n",
    "min_samples_split = [3, 5, 8, 10, 13]\n",
    "min_samples_leaf = [1, 3, 5, 8, 10]\n",
    "\n",
    "params_grid = {\n",
    "                'classifier__n_estimators': n_estimators,\n",
    "                'classifier__max_features': max_features,\n",
    "                'classifier__min_samples_split': min_samples_split,\n",
    "                'classifier__min_samples_leaf': min_samples_leaf,\n",
    "                'classifier__max_depth': max_depth\n",
    "              }\n",
    "\n",
    "total_combi = 1\n",
    "for param, value in params_grid.items():\n",
    "    print(param, value)\n",
    "    total_combi *= len(value)\n",
    "\n",
    "print('-----------------')\n",
    "print('Total combinations:', total_combi)\n",
    "print('Across 5-folds =',total_combi*5)"
   ]
  },
  {
   "cell_type": "code",
   "execution_count": 5,
   "metadata": {
    "execution": {
     "iopub.execute_input": "2021-11-07T00:58:26.777811Z",
     "iopub.status.busy": "2021-11-07T00:58:26.776780Z",
     "iopub.status.idle": "2021-11-07T00:58:26.790819Z",
     "shell.execute_reply": "2021-11-07T00:58:26.789887Z",
     "shell.execute_reply.started": "2021-11-07T00:58:26.777765Z"
    }
   },
   "outputs": [],
   "source": [
    "smote_sampler = SMOTE(random_state=2021)\n",
    "rf_clf = RandomForestClassifier(random_state=2021)\n",
    "\n",
    "scale_features = x_train.columns\n",
    "\n",
    "scaler = ColumnTransformer(transformers=[ ('scaler', MinMaxScaler(), scale_features) ], remainder='passthrough')\n",
    "\n",
    "pipeline = Pipeline(steps = [['scaler', scaler],\n",
    "                             ['smote', smote_sampler],\n",
    "                             ['classifier', rf_clf]])\n",
    "\n",
    "stratified_kfold = StratifiedKFold(shuffle=True, n_splits=5, random_state=2021)\n",
    "\n",
    "rf_gridsearch = GridSearchCV(estimator = pipeline,\n",
    "                           param_grid = params_grid,\n",
    "                           scoring = 'recall',\n",
    "                           cv = stratified_kfold,\n",
    "                           refit = True,\n",
    "                           n_jobs = -1)\n",
    "\n",
    "rf_gridsearch.fit(x_train, y_train.values.ravel() )\n",
    "\n",
    "best_parameters = rf_gridsearch.best_params_\n",
    "print(best_parameters)"
   ]
  },
  {
   "cell_type": "markdown",
   "metadata": {},
   "source": [
    "{'classifier__max_depth': 10, 'classifier__max_features': 'sqrt', 'classifier__min_samples_leaf': 8, 'classifier__min_samples_split': 3, 'classifier__n_estimators': 100}"
   ]
  },
  {
   "cell_type": "markdown",
   "metadata": {},
   "source": [
    "## 3.2 Second Grid Search\n",
    "This second parameter search space aims to narrow down the search space based on the results obtained in the first grid search.\n",
    "\n",
    "**Previous parameter search space:**\n",
    "- n_estimators [100, 300, 500, 700, 900]\n",
    "- max_features ['sqrt', 'log2']\n",
    "- min_samples_split [3, 5, 8, 10, 13]\n",
    "- min_samples_leaf [1, 3, 5, 8, 10]\n",
    "- max_depth [5, 10, 15, 20]\n",
    "\n",
    "**Obtained results:**\n",
    "\n",
    "| Feature           | Value | New search space |\n",
    "|-------------------|:-----:|------------|\n",
    "| n_estimators      | 100   | [50, 75, 100, 125, 150] |\n",
    "| max_features      |'sqrt' | Leave as sqrt |\n",
    "| min_samples_split | 3     | [2, 3, 4] |\n",
    "| min_samples_leaf  | 8     | [6, 7, 8, 9] |\n",
    "| max_depth         | 10    | [8, 9, 10, 11, 12] |\n"
   ]
  },
  {
   "cell_type": "code",
   "execution_count": 6,
   "metadata": {
    "execution": {
     "iopub.execute_input": "2021-11-07T00:58:35.526828Z",
     "iopub.status.busy": "2021-11-07T00:58:35.526411Z",
     "iopub.status.idle": "2021-11-07T00:58:35.535333Z",
     "shell.execute_reply": "2021-11-07T00:58:35.534376Z",
     "shell.execute_reply.started": "2021-11-07T00:58:35.526798Z"
    }
   },
   "outputs": [
    {
     "name": "stdout",
     "output_type": "stream",
     "text": [
      "classifier__n_estimators [50, 75, 100, 125, 150]\n",
      "classifier__min_samples_split [2, 3, 4]\n",
      "classifier__min_samples_leaf [6, 7, 8, 9, 10]\n",
      "classifier__max_depth [8, 9, 10, 11, 12]\n",
      "-----------------\n",
      "Total combinations: 375\n",
      "Across 5-folds = 1875\n"
     ]
    }
   ],
   "source": [
    "# Creating parameter grid to search\n",
    "n_estimators = [50, 75, 100, 125, 150]\n",
    "min_samples_split = [2, 3, 4]\n",
    "min_samples_leaf = [6, 7, 8, 9, 10]\n",
    "max_depth = [8, 9, 10, 11, 12]\n",
    "\n",
    "params_grid = {\n",
    "                'classifier__n_estimators': n_estimators,\n",
    "                'classifier__min_samples_split': min_samples_split,\n",
    "                'classifier__min_samples_leaf': min_samples_leaf,\n",
    "                'classifier__max_depth': max_depth\n",
    "              }\n",
    "\n",
    "total_combi = 1\n",
    "for param, value in params_grid.items():\n",
    "    print(param, value)\n",
    "    total_combi *= len(value)\n",
    "\n",
    "print('-----------------')\n",
    "print('Total combinations:', total_combi)\n",
    "print('Across 5-folds =',total_combi*5)"
   ]
  },
  {
   "cell_type": "code",
   "execution_count": 7,
   "metadata": {
    "execution": {
     "iopub.execute_input": "2021-11-07T00:58:35.537190Z",
     "iopub.status.busy": "2021-11-07T00:58:35.536854Z",
     "iopub.status.idle": "2021-11-07T00:58:35.552911Z",
     "shell.execute_reply": "2021-11-07T00:58:35.552179Z",
     "shell.execute_reply.started": "2021-11-07T00:58:35.537147Z"
    }
   },
   "outputs": [],
   "source": [
    "smote_sampler = SMOTE(random_state=2021)\n",
    "rf_clf = RandomForestClassifier(max_features='sqrt', random_state=2021)\n",
    "\n",
    "scale_features = x_train.columns\n",
    "\n",
    "scaler = ColumnTransformer(transformers=[ ('scaler', MinMaxScaler(), scale_features) ], remainder='passthrough')\n",
    "\n",
    "pipeline = Pipeline(steps = [['scaler', scaler],\n",
    "                             ['smote', smote_sampler],\n",
    "                             ['classifier', rf_clf]])\n",
    "\n",
    "stratified_kfold = StratifiedKFold(shuffle=True, n_splits=5, random_state=2021)\n",
    "\n",
    "rf_gridsearch = GridSearchCV(estimator = pipeline,\n",
    "                           param_grid = params_grid,\n",
    "                           scoring = 'recall',\n",
    "                           cv = stratified_kfold,\n",
    "                           refit = True,\n",
    "                           n_jobs = -1)\n",
    "\n",
    "rf_gridsearch.fit(x_train, y_train.values.ravel() )\n",
    "\n",
    "best_parameters = rf_gridsearch.best_params_\n",
    "print(best_parameters)"
   ]
  },
  {
   "cell_type": "markdown",
   "metadata": {},
   "source": [
    "{'classifier__max_depth': 10, 'classifier__min_samples_leaf': 8, 'classifier__min_samples_split': 2, 'classifier__n_estimators': 125}"
   ]
  },
  {
   "cell_type": "markdown",
   "metadata": {},
   "source": [
    "## 3.3 Third Grid Search\n",
    "This third parameter search space aims to narrow down the search space based on the results obtained in the first grid search.\n",
    "\n",
    "**Previous parameter search spaces:**\n",
    "1. GridSearch 1\n",
    "- n_estimators = [100, 300, 500, 700, 900]\n",
    "- max_features = ['sqrt', 'log2']\n",
    "- min_samples_split = [3, 5, 8, 10, 13]\n",
    "- min_samples_leaf = [1, 3, 5, 8, 10]\n",
    "- max_depth = [5, 10, 15, 20]\n",
    "\n",
    "2. GridSearch 2\n",
    "- n_estimators = [50, 75, 100, 125, 150]\n",
    "- min_samples_split = [2, 3, 4]\n",
    "- min_samples_leaf = [6, 7, 8, 9, 10]\n",
    "- max_depth = [8, 9, 10, 11, 12]\n",
    "\n",
    "**Obtained results:**\n",
    "\n",
    "| Feature           | GridSearch1 | GridSearch2 |      New search space     |\n",
    "|-------------------|:-----------:|:-----------:|:-------------------------:|\n",
    "| n_estimators      |     100     |     125     | [100, 105, 110, 115, 120, 125, 130, 135, 140, 145, 150] |\n",
    "| min_samples_split |      3      |      2      |         [2,3]             |\n",
    "| min_samples_leaf  |      8      |      8      |         Leave as 8        |\n",
    "|    max_depth      |     10      |     10      |         Leave as 10       |\n",
    "\n"
   ]
  },
  {
   "cell_type": "code",
   "execution_count": 8,
   "metadata": {
    "execution": {
     "iopub.execute_input": "2021-11-07T00:58:46.459703Z",
     "iopub.status.busy": "2021-11-07T00:58:46.459364Z",
     "iopub.status.idle": "2021-11-07T00:58:46.468047Z",
     "shell.execute_reply": "2021-11-07T00:58:46.467159Z",
     "shell.execute_reply.started": "2021-11-07T00:58:46.459661Z"
    }
   },
   "outputs": [
    {
     "name": "stdout",
     "output_type": "stream",
     "text": [
      "classifier__n_estimators [100, 105, 110, 115, 120, 125, 130, 135, 140, 145, 150]\n",
      "classifier__min_samples_split [2, 3]\n",
      "-----------------\n",
      "Total combinations: 22\n",
      "Across 5-folds = 110\n"
     ]
    }
   ],
   "source": [
    "# Creating parameter grid to search\n",
    "n_estimators = [100, 105, 110, 115, 120, 125, 130, 135, 140, 145, 150]\n",
    "min_samples_split = [2, 3]\n",
    "\n",
    "params_grid = {\n",
    "                'classifier__n_estimators': n_estimators,\n",
    "                'classifier__min_samples_split': min_samples_split\n",
    "              }\n",
    "\n",
    "total_combi = 1\n",
    "for param, value in params_grid.items():\n",
    "    print(param, value)\n",
    "    total_combi *= len(value)\n",
    "\n",
    "print('-----------------')\n",
    "print('Total combinations:', total_combi)\n",
    "print('Across 5-folds =', total_combi*5)"
   ]
  },
  {
   "cell_type": "code",
   "execution_count": 9,
   "metadata": {
    "execution": {
     "iopub.execute_input": "2021-11-07T00:58:46.470070Z",
     "iopub.status.busy": "2021-11-07T00:58:46.469768Z",
     "iopub.status.idle": "2021-11-07T00:58:46.484911Z",
     "shell.execute_reply": "2021-11-07T00:58:46.484014Z",
     "shell.execute_reply.started": "2021-11-07T00:58:46.470030Z"
    }
   },
   "outputs": [],
   "source": [
    "# running grid search 3\n",
    "smote_sampler = SMOTE(random_state=2021)\n",
    "rf_clf = RandomForestClassifier(min_samples_leaf=8, max_depth=10, max_features='sqrt', random_state=2021)\n",
    "\n",
    "scale_features = x_train.columns\n",
    "\n",
    "scaler = ColumnTransformer(transformers=[ ('scaler', MinMaxScaler(), scale_features) ], remainder='passthrough')\n",
    "\n",
    "pipeline = Pipeline(steps = [['scaler', scaler],\n",
    "                             ['smote', smote_sampler],\n",
    "                             ['classifier', rf_clf]])\n",
    "\n",
    "stratified_kfold = StratifiedKFold(shuffle=True, n_splits=5, random_state=2021)\n",
    "\n",
    "rf_gridsearch = GridSearchCV(estimator = pipeline,\n",
    "                           param_grid = params_grid,\n",
    "                           scoring = 'recall',\n",
    "                           cv = stratified_kfold,\n",
    "                           refit = True,\n",
    "                           n_jobs = -1)\n",
    "\n",
    "rf_gridsearch.fit(x_train, y_train.values.ravel() )\n",
    "\n",
    "best_parameters = rf_gridsearch.best_params_\n",
    "print(best_parameters)"
   ]
  },
  {
   "cell_type": "markdown",
   "metadata": {},
   "source": [
    "{'classifier__min_samples_split': 2, 'classifier__n_estimators': 105}"
   ]
  },
  {
   "cell_type": "markdown",
   "metadata": {},
   "source": [
    "# 4. Conclusion"
   ]
  },
  {
   "cell_type": "markdown",
   "metadata": {},
   "source": [
    "#### Best params from First Grid Search:\n",
    "{'classifier__max_depth': 10, 'classifier__max_features': 'sqrt', 'classifier__min_samples_leaf': 8, 'classifier__min_samples_split': 3, 'classifier__n_estimators': 100}\n",
    "#### Best params from Second Grid Search:\n",
    "{'classifier__max_depth': 10, 'classifier__min_samples_leaf': 8, 'classifier__min_samples_split': 2, 'classifier__n_estimators': 125}\n",
    "#### Best params from Third Grid Search:\n",
    "{'classifier__min_samples_split': 2, 'classifier__n_estimators': 105}"
   ]
  }
 ],
 "metadata": {
  "kernelspec": {
   "display_name": "Python 3 (ipykernel)",
   "language": "python",
   "name": "python3"
  },
  "language_info": {
   "codemirror_mode": {
    "name": "ipython",
    "version": 3
   },
   "file_extension": ".py",
   "mimetype": "text/x-python",
   "name": "python",
   "nbconvert_exporter": "python",
   "pygments_lexer": "ipython3",
   "version": "3.8.10"
  }
 },
 "nbformat": 4,
 "nbformat_minor": 4
}
