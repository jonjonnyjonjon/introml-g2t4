{
 "cells": [
  {
   "cell_type": "markdown",
   "id": "98fddcb1",
   "metadata": {},
   "source": [
    "# Model: XGBoost\n",
    "---"
   ]
  },
  {
   "cell_type": "markdown",
   "id": "d51dca08",
   "metadata": {},
   "source": [
    "# 1. Setting up the notebook"
   ]
  },
  {
   "cell_type": "code",
   "execution_count": 10,
   "id": "9681e448",
   "metadata": {},
   "outputs": [],
   "source": [
    "import pandas as pd\n",
    "import numpy as np\n",
    "\n",
    "from sklearn.preprocessing import MinMaxScaler\n",
    "from sklearn.model_selection import GridSearchCV, RandomizedSearchCV, StratifiedKFold, cross_validate\n",
    "from imblearn.over_sampling import SMOTE\n",
    "from imblearn.pipeline import Pipeline\n",
    "from sklearn.compose import ColumnTransformer\n",
    "\n",
    "from xgboost import XGBClassifier\n",
    "from sklearn.metrics import recall_score, fbeta_score, roc_auc_score, make_scorer"
   ]
  },
  {
   "cell_type": "code",
   "execution_count": 11,
   "id": "b973afe6",
   "metadata": {
    "scrolled": false
   },
   "outputs": [],
   "source": [
    "df_train = pd.read_csv(\"../Data/train.csv\")\n",
    "y_train = df_train[[\"attrition_flag\"]]\n",
    "x_train = df_train.drop(\"attrition_flag\", axis=1)"
   ]
  },
  {
   "cell_type": "markdown",
   "id": "65b62bd7",
   "metadata": {},
   "source": [
    "# 2. Running base model"
   ]
  },
  {
   "cell_type": "code",
   "execution_count": 4,
   "id": "2b3165af",
   "metadata": {},
   "outputs": [],
   "source": [
    "def cv_evaluate_model(xgb):\n",
    "    scale_features = x_train.drop(\"gender\", axis=1).columns\n",
    "    scaler = ColumnTransformer(transformers=[ ('scaler', MinMaxScaler(), scale_features) ], remainder='passthrough')\n",
    "    pipeline = Pipeline(steps = [['scaler', scaler ],\n",
    "                                 ['smote', SMOTE(random_state=2021)],\n",
    "                                 ['classifier', xgb]\n",
    "                                ])\n",
    "\n",
    "    stratified_kfold = StratifiedKFold(shuffle=True, n_splits=3, random_state=2021)\n",
    "\n",
    "    scoring = {\"accuracy\": \"accuracy\",\n",
    "               \"recall\": 'recall',\n",
    "               \"precision\": \"precision\",\n",
    "               \"fbeta_2\": make_scorer(fbeta_score, beta=2),\n",
    "               \"roc_auc\": make_scorer(roc_auc_score),\n",
    "              }\n",
    "\n",
    "    scores = cross_validate(pipeline, x_train, y_train.values.ravel(), cv=stratified_kfold,\n",
    "                           scoring = scoring)\n",
    "\n",
    "    accuracy = [ val for val in scores['test_accuracy'] ]\n",
    "    recall = [ val for val in scores['test_recall'] ]\n",
    "    precision = [ val for val in scores['test_precision'] ]\n",
    "    fbeta_2 = [ val for val in scores['test_fbeta_2'] ]\n",
    "    auc = [ val for val in scores['test_roc_auc'] ]\n",
    "\n",
    "    accuracy.append( sum(accuracy) / len(accuracy) )\n",
    "    recall.append( sum(recall) / len(recall) )\n",
    "    precision.append( sum(precision) / len(precision) )\n",
    "    fbeta_2.append( sum(fbeta_2) / len(fbeta_2) )\n",
    "    auc.append( sum(auc) / len(auc) )\n",
    "\n",
    "    score_df = pd.DataFrame(data=[accuracy, recall, precision, fbeta_2, auc], columns=['Fold 1','Fold 2','Fold 3', 'Average'],\n",
    "                                index=['Accuracy', 'Recall', 'Precision', 'Fbeta2', 'AUC'])\n",
    "    return score_df"
   ]
  },
  {
   "cell_type": "code",
   "execution_count": 5,
   "id": "94e0533c",
   "metadata": {},
   "outputs": [
    {
     "data": {
      "text/html": [
       "<div>\n",
       "<style scoped>\n",
       "    .dataframe tbody tr th:only-of-type {\n",
       "        vertical-align: middle;\n",
       "    }\n",
       "\n",
       "    .dataframe tbody tr th {\n",
       "        vertical-align: top;\n",
       "    }\n",
       "\n",
       "    .dataframe thead th {\n",
       "        text-align: right;\n",
       "    }\n",
       "</style>\n",
       "<table border=\"1\" class=\"dataframe\">\n",
       "  <thead>\n",
       "    <tr style=\"text-align: right;\">\n",
       "      <th></th>\n",
       "      <th>Fold 1</th>\n",
       "      <th>Fold 2</th>\n",
       "      <th>Fold 3</th>\n",
       "      <th>Average</th>\n",
       "    </tr>\n",
       "  </thead>\n",
       "  <tbody>\n",
       "    <tr>\n",
       "      <th>Accuracy</th>\n",
       "      <td>0.951870</td>\n",
       "      <td>0.957778</td>\n",
       "      <td>0.954815</td>\n",
       "      <td>0.954821</td>\n",
       "    </tr>\n",
       "    <tr>\n",
       "      <th>Recall</th>\n",
       "      <td>0.832168</td>\n",
       "      <td>0.852804</td>\n",
       "      <td>0.871795</td>\n",
       "      <td>0.852255</td>\n",
       "    </tr>\n",
       "    <tr>\n",
       "      <th>Precision</th>\n",
       "      <td>0.860241</td>\n",
       "      <td>0.877404</td>\n",
       "      <td>0.848073</td>\n",
       "      <td>0.861906</td>\n",
       "    </tr>\n",
       "    <tr>\n",
       "      <th>Fbeta2</th>\n",
       "      <td>0.837635</td>\n",
       "      <td>0.857613</td>\n",
       "      <td>0.866945</td>\n",
       "      <td>0.854064</td>\n",
       "    </tr>\n",
       "    <tr>\n",
       "      <th>AUC</th>\n",
       "      <td>0.903320</td>\n",
       "      <td>0.915178</td>\n",
       "      <td>0.921146</td>\n",
       "      <td>0.913215</td>\n",
       "    </tr>\n",
       "  </tbody>\n",
       "</table>\n",
       "</div>"
      ],
      "text/plain": [
       "             Fold 1    Fold 2    Fold 3   Average\n",
       "Accuracy   0.951870  0.957778  0.954815  0.954821\n",
       "Recall     0.832168  0.852804  0.871795  0.852255\n",
       "Precision  0.860241  0.877404  0.848073  0.861906\n",
       "Fbeta2     0.837635  0.857613  0.866945  0.854064\n",
       "AUC        0.903320  0.915178  0.921146  0.913215"
      ]
     },
     "metadata": {},
     "output_type": "display_data"
    }
   ],
   "source": [
    "xgb_base = XGBClassifier(eval_metric=\"logloss\", \n",
    "                    use_label_encoder=False, \n",
    "                    random_state=2021)\n",
    "\n",
    "base_model = cv_evaluate_model(xgb_base)\n",
    "display(base_model)"
   ]
  },
  {
   "cell_type": "markdown",
   "id": "a44f528a",
   "metadata": {},
   "source": [
    "# 3. Hyperparameter tuning with GridSearchCV"
   ]
  },
  {
   "cell_type": "markdown",
   "id": "1f3ba548",
   "metadata": {},
   "source": [
    "## 3.1 First Grid Search"
   ]
  },
  {
   "cell_type": "code",
   "execution_count": 6,
   "id": "12f4b454",
   "metadata": {},
   "outputs": [
    {
     "name": "stdout",
     "output_type": "stream",
     "text": [
      "classifier__learning_rate [0.2, 0.3, 0.4, 0.5]\n",
      "classifier__max_depth [5, 10, 15, 20]\n",
      "classifier__gamma [0.2, 0.5, 0.7, 1.0]\n",
      "classifier__subsample [0.5, 0.6, 0.8, 0.9]\n",
      "-----------------\n",
      "Total combinations: 256\n"
     ]
    }
   ],
   "source": [
    "learning_rates = [0.2, 0.3, 0.4, 0.5]\n",
    "max_depths = [5, 10, 15, 20]\n",
    "gammas = [0.2, 0.5, 0.7, 1.0]\n",
    "subsamples = [0.5, 0.6, 0.8, 0.9]\n",
    "\n",
    "params_grid = {\n",
    "                'classifier__learning_rate': learning_rates,\n",
    "                'classifier__max_depth': max_depths,\n",
    "                'classifier__gamma': gammas,\n",
    "                'classifier__subsample': subsamples\n",
    "              }\n",
    "\n",
    "total_combi = 1\n",
    "for param, value in params_grid.items():\n",
    "    print(param, value)\n",
    "    total_combi *= len(value)\n",
    "\n",
    "print('-----------------')\n",
    "print('Total combinations:', total_combi)"
   ]
  },
  {
   "cell_type": "code",
   "execution_count": null,
   "id": "c95e9084",
   "metadata": {},
   "outputs": [],
   "source": [
    "# scale_features = x_train.drop(\"gender\", axis=1).columns\n",
    "scale_features = x_train.columns\n",
    "\n",
    "xgb = XGBClassifier(eval_metric=\"logloss\", use_label_encoder=False, random_state=2021)\n",
    "scaler = ColumnTransformer(transformers=[ ('scaler', MinMaxScaler(), scale_features) ], remainder='passthrough')\n",
    "\n",
    "pipeline = Pipeline(steps = [['scaler', scaler],\n",
    "                             ['smote', SMOTE(random_state=2021)],\n",
    "                             ['classifier', xgb]])\n",
    "\n",
    "stratified_kfold = StratifiedKFold(shuffle=True, n_splits=5, random_state=2021)\n",
    "\n",
    "xgb_gridsearch = GridSearchCV(\n",
    "                                estimator = pipeline,\n",
    "                                param_grid = params_grid,\n",
    "                                scoring = 'recall',\n",
    "                                cv = stratified_kfold,\n",
    "                                refit = True,\n",
    "                                n_jobs = -1\n",
    "                             )\n",
    "\n",
    "xgb_gridsearch.fit(x_train, y_train.values.ravel())\n",
    "\n",
    "print(xgb_gridsearch.best_params_)\n"
   ]
  },
  {
   "cell_type": "markdown",
   "id": "9c0d74a3",
   "metadata": {},
   "source": [
    "{'classifier__gamma': 1.0, 'classifier__learning_rate': 0.3, 'classifier__max_depth': 5, 'classifier__subsample': 0.9}"
   ]
  },
  {
   "cell_type": "markdown",
   "id": "ffef0958",
   "metadata": {},
   "source": [
    "## 3.2 Second Grid Search"
   ]
  },
  {
   "cell_type": "markdown",
   "id": "bd5d812a",
   "metadata": {},
   "source": [
    "#### Best Params of First Grid Search\n",
    "{'classifier__gamma': 1.0, 'classifier__learning_rate': 0.3, 'classifier__max_depth': 5, 'classifier__subsample': 0.9}"
   ]
  },
  {
   "cell_type": "code",
   "execution_count": 9,
   "id": "5fae9735",
   "metadata": {},
   "outputs": [
    {
     "name": "stdout",
     "output_type": "stream",
     "text": [
      "classifier__learning_rate [0.25, 0.27, 0.3, 0.32, 0.35]\n",
      "classifier__max_depth [3, 5, 7]\n",
      "classifier__gamma [0.8, 0.9, 1]\n",
      "classifier__subsample [0.85, 0.9, 0.95]\n",
      "-----------------\n",
      "Total combinations: 135\n"
     ]
    }
   ],
   "source": [
    "learning_rates = [0.25, 0.27, 0.3, 0.32, 0.35]\n",
    "max_depths = [3, 5, 7]\n",
    "gammas = [0.8, 0.9, 1]\n",
    "subsamples = [0.85, 0.9, 0.95]\n",
    "\n",
    "params_grid = {\n",
    "                'classifier__learning_rate': learning_rates,\n",
    "                'classifier__max_depth': max_depths,\n",
    "                'classifier__gamma': gammas,\n",
    "                'classifier__subsample': subsamples\n",
    "              }\n",
    "\n",
    "total_combi = 1\n",
    "for param, value in params_grid.items():\n",
    "    print(param, value)\n",
    "    total_combi *= len(value)\n",
    "\n",
    "print('-----------------')\n",
    "print('Total combinations:', total_combi)"
   ]
  },
  {
   "cell_type": "code",
   "execution_count": null,
   "id": "142a1001",
   "metadata": {},
   "outputs": [],
   "source": [
    "scale_features = x_train.drop(\"gender\", axis=1).columns\n",
    "xgb = XGBClassifier(eval_metric=\"logloss\", use_label_encoder=False, random_state=2021)\n",
    "scaler = ColumnTransformer(transformers=[ ('scaler', MinMaxScaler(), scale_features) ], remainder='passthrough')\n",
    "\n",
    "pipeline = Pipeline(steps = [['scaler', scaler],\n",
    "                             ['smote', SMOTE(random_state=2021)],\n",
    "                             ['classifier', xgb]])\n",
    "\n",
    "stratified_kfold = StratifiedKFold(shuffle=True, n_splits=5, random_state=2021)\n",
    "\n",
    "xgb_gridsearch = GridSearchCV(\n",
    "                                estimator = pipeline,\n",
    "                                param_grid = params_grid,\n",
    "                                scoring = 'recall',\n",
    "                                cv = stratified_kfold,\n",
    "                                refit = True,\n",
    "                                n_jobs = -1\n",
    "                             )\n",
    "\n",
    "xgb_gridsearch.fit(x_train, y_train.values.ravel())\n",
    "\n",
    "print(xgb_gridsearch.best_params_)"
   ]
  },
  {
   "cell_type": "markdown",
   "id": "674f4302",
   "metadata": {},
   "source": [
    "{'classifier__gamma': 1, 'classifier__learning_rate': 0.25, 'classifier__max_depth': 3, 'classifier__subsample': 0.9}"
   ]
  },
  {
   "cell_type": "markdown",
   "id": "d1f32863",
   "metadata": {},
   "source": [
    "## 3.3 Third Grid Search"
   ]
  },
  {
   "cell_type": "markdown",
   "id": "8ffd605d",
   "metadata": {},
   "source": [
    "#### Best params from Second Grid Search:\n",
    "{'classifier__gamma': 1, 'classifier__learning_rate': 0.25, 'classifier__max_depth': 3, 'classifier__subsample': 0.9}"
   ]
  },
  {
   "cell_type": "code",
   "execution_count": 8,
   "id": "b8451697",
   "metadata": {},
   "outputs": [
    {
     "name": "stdout",
     "output_type": "stream",
     "text": [
      "classifier__learning_rate [0.24, 0.25, 0.26]\n",
      "classifier__max_depth [3, 4, 5]\n",
      "classifier__gamma [0.8, 0.9, 1]\n",
      "classifier__subsample [0.87, 0.9, 0.92]\n",
      "-----------------\n",
      "Total combinations: 81\n"
     ]
    }
   ],
   "source": [
    "learning_rates = [0.24, 0.25, 0.26]\n",
    "max_depths = [3, 4, 5]\n",
    "gamma = [1]\n",
    "subsamples = [0.87, 0.9, 0.92]\n",
    "\n",
    "params_grid = {\n",
    "                'classifier__learning_rate': learning_rates,\n",
    "                'classifier__max_depth': max_depths,\n",
    "                'classifier__gamma': gammas,\n",
    "                'classifier__subsample': subsamples\n",
    "              }\n",
    "\n",
    "total_combi = 1\n",
    "for param, value in params_grid.items():\n",
    "    print(param, value)\n",
    "    total_combi *= len(value)\n",
    "\n",
    "print('-----------------')\n",
    "print('Total combinations:', total_combi)"
   ]
  },
  {
   "cell_type": "code",
   "execution_count": null,
   "id": "af7ccad5",
   "metadata": {},
   "outputs": [],
   "source": [
    "\n",
    "scale_features = x_train.columns\n",
    "oversampler = SMOTE(random_state=2021)\n",
    "scaler = ColumnTransformer(transformers=[ ('scaler', MinMaxScaler(), scale_features) ])\n",
    "xgb = XGBClassifier(eval_metric=\"logloss\", use_label_encoder=False, random_state=2021)\n",
    "\n",
    "pipeline = Pipeline(steps = [['scaler', scaler],\n",
    "                             ['smote', oversampler],\n",
    "                             ['classifier', xgb]])\n",
    "\n",
    "stratified_kfold = StratifiedKFold(shuffle=True, n_splits=5, random_state=2021)\n",
    "\n",
    "xgb_gridsearch = GridSearchCV(\n",
    "                                estimator = pipeline,\n",
    "                                param_grid = params_grid,\n",
    "                                scoring = 'recall',\n",
    "                                cv = stratified_kfold,\n",
    "                                refit = True,\n",
    "                                n_jobs = -1\n",
    "                             )\n",
    "\n",
    "xgb_gridsearch.fit(x_train, y_train.values.ravel())\n",
    "\n",
    "print(xgb_gridsearch.best_params_)"
   ]
  },
  {
   "cell_type": "markdown",
   "id": "9ddcaab1",
   "metadata": {},
   "source": [
    "{'classifier__gamma': 1, 'classifier__learning_rate': 0.25, 'classifier__max_depth': 3, 'classifier__subsample': 0.9}"
   ]
  },
  {
   "cell_type": "markdown",
   "id": "a8aecf4b",
   "metadata": {},
   "source": [
    "# 4. Conclusion"
   ]
  },
  {
   "cell_type": "markdown",
   "id": "3dc6fdc6",
   "metadata": {},
   "source": [
    "#### Best params from First Grid Search:\n",
    "{'classifier__gamma': 1.0, 'classifier__learning_rate': 0.3, 'classifier__max_depth': 5, 'classifier__subsample': 0.9}\n",
    "#### Best params from Second Grid Search:\n",
    "{'classifier__gamma': 1.0, 'classifier__learning_rate': 0.25, 'classifier__max_depth': 3, 'classifier__subsample': 0.9}\n",
    "#### Best params from Third Grid Search:\n",
    "{'classifier__gamma': 1.0, 'classifier__learning_rate': 0.25, 'classifier__max_depth': 3, 'classifier__subsample': 0.9}"
   ]
  }
 ],
 "metadata": {
  "kernelspec": {
   "display_name": "Python 3 (ipykernel)",
   "language": "python",
   "name": "python3"
  },
  "language_info": {
   "codemirror_mode": {
    "name": "ipython",
    "version": 3
   },
   "file_extension": ".py",
   "mimetype": "text/x-python",
   "name": "python",
   "nbconvert_exporter": "python",
   "pygments_lexer": "ipython3",
   "version": "3.8.10"
  }
 },
 "nbformat": 4,
 "nbformat_minor": 5
}
