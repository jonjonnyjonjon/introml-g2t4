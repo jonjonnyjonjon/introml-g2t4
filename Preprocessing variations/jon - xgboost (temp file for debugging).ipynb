{
 "cells": [
  {
   "cell_type": "markdown",
   "id": "d51dca08",
   "metadata": {},
   "source": [
    "# Importing packages and libraries\n",
    "https://machinelearningmastery.com/data-preparation-gradient-boosting-xgboost-python/"
   ]
  },
  {
   "cell_type": "code",
   "execution_count": 1,
   "id": "9681e448",
   "metadata": {},
   "outputs": [],
   "source": [
    "import pandas as pd\n",
    "import numpy as np\n",
    "import seaborn as sns\n",
    "import matplotlib.pyplot as plt\n",
    "%matplotlib inline\n",
    "\n",
    "from sklearn.preprocessing import OneHotEncoder\n",
    "from sklearn.preprocessing import OrdinalEncoder\n",
    "from sklearn.preprocessing import LabelEncoder\n",
    "from sklearn.preprocessing import MinMaxScaler\n",
    "\n",
    "from sklearn.decomposition import PCA\n",
    "from sklearn.feature_selection import chi2\n",
    "\n",
    "from sklearn.model_selection import train_test_split\n",
    "from imblearn.over_sampling import SMOTE\n",
    "\n",
    "from xgboost import XGBClassifier\n",
    "from sklearn.metrics import confusion_matrix, precision_score, recall_score, f1_score, fbeta_score, accuracy_score, roc_auc_score\n",
    "from sklearn.model_selection import GridSearchCV"
   ]
  },
  {
   "cell_type": "markdown",
   "id": "b2dcbfbd",
   "metadata": {},
   "source": [
    "# Reading file and tidying"
   ]
  },
  {
   "cell_type": "code",
   "execution_count": 2,
   "id": "b973afe6",
   "metadata": {
    "scrolled": true
   },
   "outputs": [],
   "source": [
    "df = pd.read_csv(\"../Data/BankChurners.csv\")\n",
    "df.drop(columns=[\"CLIENTNUM\", \"Naive_Bayes_Classifier_Attrition_Flag_Card_Category_Contacts_Count_12_mon_Dependent_count_Education_Level_Months_Inactive_12_mon_1\", \"Naive_Bayes_Classifier_Attrition_Flag_Card_Category_Contacts_Count_12_mon_Dependent_count_Education_Level_Months_Inactive_12_mon_2\"], axis=1, inplace=True)\n",
    "\n",
    "# tidy up and standardise column naming\n",
    "tidied_cols = []\n",
    "for col_name in df.columns:\n",
    "    col_name = col_name.lower()\n",
    "    if '_ct' in col_name:\n",
    "        col_name = col_name.replace('_ct', '_count')\n",
    "    if '_chng' in col_name:\n",
    "        col_name = col_name.replace('_chng', '_change')\n",
    "    tidied_cols.append( col_name )\n",
    "\n",
    "df.columns = tidied_cols.copy()\n",
    "\n",
    "numerical = list(df.describe().columns)\n",
    "\n",
    "categorical = [i for i in df.columns if i not in numerical and i != \"attrition_flag\"]"
   ]
  },
  {
   "cell_type": "markdown",
   "id": "cd1f0076",
   "metadata": {},
   "source": [
    "# Create train test split"
   ]
  },
  {
   "cell_type": "code",
   "execution_count": 3,
   "id": "7659560e",
   "metadata": {},
   "outputs": [
    {
     "name": "stdout",
     "output_type": "stream",
     "text": [
      "<class 'pandas.core.frame.DataFrame'>\n",
      "RangeIndex: 10127 entries, 0 to 10126\n",
      "Data columns (total 19 columns):\n",
      " #   Column                    Non-Null Count  Dtype  \n",
      "---  ------                    --------------  -----  \n",
      " 0   customer_age              10127 non-null  int64  \n",
      " 1   gender                    10127 non-null  object \n",
      " 2   dependent_count           10127 non-null  int64  \n",
      " 3   education_level           10127 non-null  object \n",
      " 4   marital_status            10127 non-null  object \n",
      " 5   income_category           10127 non-null  object \n",
      " 6   card_category             10127 non-null  object \n",
      " 7   months_on_book            10127 non-null  int64  \n",
      " 8   total_relationship_count  10127 non-null  int64  \n",
      " 9   months_inactive_12_mon    10127 non-null  int64  \n",
      " 10  contacts_count_12_mon     10127 non-null  int64  \n",
      " 11  credit_limit              10127 non-null  float64\n",
      " 12  total_revolving_bal       10127 non-null  int64  \n",
      " 13  avg_open_to_buy           10127 non-null  float64\n",
      " 14  total_amt_change_q4_q1    10127 non-null  float64\n",
      " 15  total_trans_amt           10127 non-null  int64  \n",
      " 16  total_trans_count         10127 non-null  int64  \n",
      " 17  total_count_change_q4_q1  10127 non-null  float64\n",
      " 18  avg_utilization_ratio     10127 non-null  float64\n",
      "dtypes: float64(5), int64(9), object(5)\n",
      "memory usage: 1.5+ MB\n"
     ]
    }
   ],
   "source": [
    "y = df[[\"attrition_flag\"]]\n",
    "x = df.drop(\"attrition_flag\", axis=1)\n",
    "x.info()"
   ]
  },
  {
   "cell_type": "code",
   "execution_count": 4,
   "id": "022bb4db",
   "metadata": {},
   "outputs": [],
   "source": [
    "x_train, x_test, y_train, y_test = train_test_split(x, y, test_size = 0.2, stratify = y, random_state = 2021)"
   ]
  },
  {
   "cell_type": "code",
   "execution_count": 5,
   "id": "d40ac3ff",
   "metadata": {},
   "outputs": [],
   "source": [
    "def impute_unknown(df_x):\n",
    "    x = df_x.copy()\n",
    "\n",
    "    marital_status_mode = x[\"marital_status\"].mode()[0]\n",
    "    x[\"marital_status\"] = x[\"marital_status\"].replace(\"Unknown\", marital_status_mode)\n",
    "    education_level_mode = x[\"education_level\"].mode()[0]\n",
    "    x[\"education_level\"] = x[\"education_level\"].replace(\"Unknown\", education_level_mode)\n",
    "    income_category_mode = x[\"income_category\"].mode()[0]\n",
    "    x[\"income_category\"] = x[\"income_category\"].replace(\"Unknown\", income_category_mode)\n",
    "    \n",
    "    return x"
   ]
  },
  {
   "cell_type": "markdown",
   "id": "db64dd31",
   "metadata": {},
   "source": [
    "# Preparing for modelling"
   ]
  },
  {
   "cell_type": "code",
   "execution_count": 6,
   "id": "b6b537b4",
   "metadata": {},
   "outputs": [],
   "source": [
    "def data_preprocessing(df_x, df_y):\n",
    "    x = df_x.copy()\n",
    "    y = df_y.copy()\n",
    "    \n",
    "    label_enc = LabelEncoder()\n",
    "    y[\"attrition_flag\"] = label_enc.fit_transform(y[\"attrition_flag\"])\n",
    "    x[\"gender\"] = label_enc.fit_transform(x[\"gender\"])\n",
    "    \n",
    "    onehot_enc = OneHotEncoder(handle_unknown='ignore', sparse=False)\n",
    "\n",
    "    values = onehot_enc.fit_transform(x[[\"marital_status\"]])\n",
    "    labels = np.array([\"divorced\", \"married\", \"single\"]).ravel()\n",
    "    marital_status_df = pd.DataFrame(values, columns=labels)\n",
    "\n",
    "    x.reset_index(drop=True, inplace=True)\n",
    "    marital_status_df.reset_index(drop=True, inplace=True)\n",
    "    x = pd.concat([x, marital_status_df], axis=1)\n",
    "    x.drop(\"marital_status\", axis=1, inplace=True)\n",
    "    \n",
    "    edu_level_mapper = {\"Doctorate\": 1, \"Post-Graduate\": 2, \"Graduate\": 3, \"College\": 4, \"High School\": 5, \"Uneducated\": 6}\n",
    "    x[\"education_level\"] = x[\"education_level\"].replace(edu_level_mapper)\n",
    "\n",
    "    income_cat_mapper = {\"$120K +\": 1, \"$80K - $120K\":2, \"$60K - $80K\":3, \"$40K - $60K\": 4, \"Less than $40K\": 5}\n",
    "    x[\"income_category\"] = x[\"income_category\"].replace(income_cat_mapper)\n",
    "\n",
    "    card_cat_mapper = {\"Platinum\":1, \"Gold\":2, \"Silver\":3, \"Blue\": 4}\n",
    "    x[\"card_category\"] = x[\"card_category\"].replace(card_cat_mapper)\n",
    "    \n",
    "    # Transformation and scaling\n",
    "    skewed = [\"credit_limit\", \"total_amt_change_q4_q1\", \"total_trans_amt\", \"total_count_change_q4_q1\"]\n",
    "\n",
    "    for skewed_col in skewed:\n",
    "        x[skewed_col] = np.where(x[skewed_col] > 0 , np.log(x[skewed_col]), 0)\n",
    "        # data_log[skewed_col] = np.log(data_log[skewed_col].mask(data_log[skewed_col] <=0)).fillna(0)\n",
    "\n",
    "    scaler = MinMaxScaler()\n",
    "    x[numerical] = scaler.fit_transform(x[numerical]) \n",
    "    \n",
    "    return x, y"
   ]
  },
  {
   "cell_type": "markdown",
   "id": "c28a90b6",
   "metadata": {},
   "source": [
    "### Execute preprocessing steps"
   ]
  },
  {
   "cell_type": "code",
   "execution_count": 7,
   "id": "09912798",
   "metadata": {
    "scrolled": true
   },
   "outputs": [
    {
     "name": "stderr",
     "output_type": "stream",
     "text": [
      "/Library/Frameworks/Python.framework/Versions/3.8/lib/python3.8/site-packages/pandas/core/arraylike.py:364: RuntimeWarning: divide by zero encountered in log\n",
      "  result = getattr(ufunc, method)(*inputs, **kwargs)\n",
      "/Library/Frameworks/Python.framework/Versions/3.8/lib/python3.8/site-packages/pandas/core/arraylike.py:364: RuntimeWarning: divide by zero encountered in log\n",
      "  result = getattr(ufunc, method)(*inputs, **kwargs)\n"
     ]
    }
   ],
   "source": [
    "# Data cleaning - imputing unknown\n",
    "x_train = impute_unknown(x_train)\n",
    "x_test = impute_unknown(x_test)\n",
    "\n",
    "# Dropping correlated features\n",
    "df = df.drop(columns=[\"customer_age\", \"avg_open_to_buy\", \"total_trans_count\"])\n",
    "\n",
    "# Feature engineering and feature scaling\n",
    "x_train, y_train = data_preprocessing(x_train, y_train)\n",
    "x_test, y_test = data_preprocessing(x_test, y_test)"
   ]
  },
  {
   "cell_type": "markdown",
   "id": "ccb6105b",
   "metadata": {},
   "source": [
    "# Running Model"
   ]
  },
  {
   "cell_type": "code",
   "execution_count": 8,
   "id": "b166ec65",
   "metadata": {},
   "outputs": [],
   "source": [
    "def run_variation_model(x_train, y_train, x_test, y_test, variation):\n",
    "    if \"pca\" in variation:\n",
    "        pca = PCA(0.9, random_state=2021)\n",
    "        x_train = pca.fit_transform(x_train)\n",
    "        x_test = pca.fit_transform(x_test)\n",
    "        \n",
    "#     https://medium.com/analytics-vidhya/categorical-feature-selection-using-chi-squared-test-e4c0d0af6b7e\n",
    "#     https://towardsdatascience.com/using-the-chi-squared-test-for-feature-selection-with-implementation-b15a4dad93f1\n",
    "    if \"chi_square\" in variation:\n",
    "        chi_scores = chi2(x_train, y_train)\n",
    "        p_values = pd.Series(chi_scores[1], index = x_train.columns)\n",
    "        p_values.sort_values(ascending = False , inplace = True)\n",
    "#         p_values.plot.bar()\n",
    "        x_train = x_train.drop([\"card_category\", \"months_on_book\", \"divorced\", \"total_amt_change_q4_q1\", \"dependent_count\", \"single\", \"income_category\", \"married\", \"education_level\", \"credit_limit\", \"gender\"], axis=1)\n",
    "        x_test = x_test.drop([\"card_category\", \"months_on_book\", \"divorced\", \"total_amt_change_q4_q1\", \"dependent_count\", \"single\", \"income_category\", \"married\", \"education_level\", \"credit_limit\", \"gender\"], axis=1)\n",
    "        \n",
    "    if \"smote\" in variation:\n",
    "        oversampler = SMOTE(random_state=2021)\n",
    "        x_train, y_train = oversampler.fit_resample(x_train, y_train)\n",
    "        \n",
    "        \n",
    "    xgb = XGBClassifier(use_label_encoder=False,\n",
    "                    random_state=2021)\n",
    "    xgb.fit(x_train, y_train, eval_metric='logloss')\n",
    "    y_pred = xgb.predict(x_test)\n",
    "    \n",
    "    print(f\"-------------------------TEST SCORES for {variation}-----------------------\")\n",
    "    print(f\"Recall: {recall_score(y_test, y_pred)}\")\n",
    "    print(f\"Precision: {precision_score(y_test, y_pred)}\")\n",
    "    print(f\"F2-Score: {fbeta_score(y_test, y_pred, beta=2)}\")\n",
    "    print(f\"Accuracy score: {accuracy_score(y_test, y_pred)}\")\n",
    "    print(f\"AUC Score: {roc_auc_score(y_test, y_pred)}\")\n",
    "    print()"
   ]
  },
  {
   "cell_type": "markdown",
   "id": "3fcd15a9",
   "metadata": {},
   "source": [
    "#### Applying xgboost model"
   ]
  },
  {
   "cell_type": "code",
   "execution_count": 15,
   "id": "95f8e70d",
   "metadata": {},
   "outputs": [
    {
     "name": "stdout",
     "output_type": "stream",
     "text": [
      "-------------------------TEST SCORES for base-----------------------\n",
      "Recall: 0.9835390946502057\n",
      "Precision: 0.9738067520372526\n",
      "F2-Score: 0.9815770945787373\n",
      "Accuracy score: 0.9639684106614018\n",
      "AUC Score: 0.9225387780943337\n",
      "\n",
      "-------------------------TEST SCORES for smote-----------------------\n",
      "Recall: 0.9794238683127572\n",
      "Precision: 0.9765533411488863\n",
      "F2-Score: 0.9788484136310223\n",
      "Accuracy score: 0.9629812438302073\n",
      "AUC Score: 0.928173472617917\n",
      "\n",
      "-------------------------TEST SCORES for chi_square-----------------------\n",
      "Recall: 0.9776601998824221\n",
      "Precision: 0.9747948417350527\n",
      "F2-Score: 0.9770857814336076\n",
      "Accuracy score: 0.9600197433366239\n",
      "AUC Score: 0.922676253787365\n",
      "\n",
      "-------------------------TEST SCORES for pca-----------------------\n",
      "Recall: 0.9394473838918284\n",
      "Precision: 0.8550026752273944\n",
      "F2-Score: 0.9212498558745531\n",
      "Accuracy score: 0.8153998025666338\n",
      "AUC Score: 0.5528006150228373\n",
      "\n",
      "-------------------------TEST SCORES for smote, chi_square-----------------------\n",
      "Recall: 0.9682539682539683\n",
      "Precision: 0.9815256257449344\n",
      "F2-Score: 0.9708795095496344\n",
      "Accuracy score: 0.9580454096742349\n",
      "AUC Score: 0.9364346764346765\n",
      "\n",
      "-------------------------TEST SCORES for smote, pca-----------------------\n",
      "Recall: 0.8177542621987066\n",
      "Precision: 0.8672069825436409\n",
      "F2-Score: 0.8271883920076119\n",
      "Accuracy score: 0.7418558736426456\n",
      "AUC Score: 0.5811848234070456\n",
      "\n"
     ]
    }
   ],
   "source": [
    "# # # https://xgboost.readthedocs.io/en/latest/python/python_api.html#module-xgboost.sklearn\n",
    "\n",
    "\n",
    "variations = [\"base\", \"smote\", \"chi_square\", \"pca\", \"smote, chi_square\", \"smote, pca\"]\n",
    "# variations = [\"chi_square\"]\n",
    "for variation in variations:\n",
    "    run_variation_model(x_train, y_train, x_test, y_test, variation)\n",
    "\n",
    "# xgb.fit(x_train, y_train, eval_metric='logloss')\n",
    "# y_pred = xgb.predict(x_test)\n",
    "# cm = confusion_matrix(y_test, y_pred)\n",
    "# print(cm)\n",
    "# TN | FP\n",
    "# FN| TP"
   ]
  },
  {
   "cell_type": "code",
   "execution_count": 10,
   "id": "23acf80b",
   "metadata": {},
   "outputs": [],
   "source": [
    "# # https://towardsdatascience.com/doing-xgboost-hyper-parameter-tuning-the-smart-way-part-1-of-2-f6d255a45dde\n",
    "# # {\"learning_rate\"    : [0.05, 0.10, 0.15, 0.20, 0.25, 0.30 ] ,\n",
    "# #  \"max_depth\"        : [ 3, 4, 5, 6, 8, 10, 12, 15],\n",
    "# #  \"min_child_weight\" : [ 1, 3, 5, 7 ], Minimum sum of instance weight(hessian) needed in a child.\n",
    "# #  \"gamma\"            : [ 0.0, 0.1, 0.2 , 0.3, 0.4 ], Minimum loss reduction required to make a further partition on a leaf node of the tree.\n",
    "# #  \"colsample_bytree\" : [ 0.3, 0.4, 0.5 , 0.7 ] } Subsample ratio of columns when constructing each tree.\n",
    "# # GridSearch, Coordinate Descent\n",
    "\n",
    "# model = XGBClassifier(n_jobs=-1, random_state=0)\n",
    "\n",
    "# param_dist = {\n",
    "#     \"learning_rate\": [0.05, 0.10, 0.15, 0.20, 0.25, 0.30],\n",
    "#     \"max_depth\": [3, 4, 5, 6, 8, 10, 12, 15],\n",
    "#     'min_child_weight': [1, 3, 5, 7],\n",
    "#     'gamma': [0.0, 0.1, 0.2 , 0.3, 0.4],\n",
    "#     'colsample_bytree': [0.3, 0.4, 0.5 , 0.7],\n",
    "# }\n",
    "\n",
    "# grid_search = GridSearchCV(model, param_dist, n_jobs=-1, scoring=\"recall\", error_score='raise')\n",
    "\n",
    "# grid_search.fit(x_train, y_train)\n",
    "# grid_search.best_params_"
   ]
  },
  {
   "cell_type": "code",
   "execution_count": 11,
   "id": "50a32b5a",
   "metadata": {},
   "outputs": [],
   "source": [
    "# gs_best_params = grid_search.best_estimator_\n",
    "# print(gs_best_params)\n",
    "\n",
    "# y_pred = gs_best_params.predict(x_test)\n",
    "# false_positive_rate, true_positive_rate, thresholds = roc_curve(y_test, y_pred)\n",
    "\n",
    "# print(classification_report(y_test, y_pred))\n",
    "\n",
    "# print(\"-------------------------TEST SCORES-----------------------\")\n",
    "# print(\"AUC:\", auc(false_positive_rate, true_positive_rate))\n",
    "# print(\"Accuracy:\", accuracy_score(y_test, y_pred))\n",
    "# print(\"Precision:\", precision_score(y_test, y_pred))\n",
    "# print(\"Recall:\", recall_score(y_test, y_pred, average='macro'))\n",
    "# print(\"f1_score:\", f1_score(y_test, y_pred, average='macro'))"
   ]
  }
 ],
 "metadata": {
  "kernelspec": {
   "display_name": "Python 3 (ipykernel)",
   "language": "python",
   "name": "python3"
  },
  "language_info": {
   "codemirror_mode": {
    "name": "ipython",
    "version": 3
   },
   "file_extension": ".py",
   "mimetype": "text/x-python",
   "name": "python",
   "nbconvert_exporter": "python",
   "pygments_lexer": "ipython3",
   "version": "3.8.10"
  }
 },
 "nbformat": 4,
 "nbformat_minor": 5
}
