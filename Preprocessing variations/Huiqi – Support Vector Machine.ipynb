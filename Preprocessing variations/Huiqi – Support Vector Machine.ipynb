{
 "cells": [
  {
   "cell_type": "markdown",
   "metadata": {},
   "source": [
    "# CS421: Introduction to Machine Learning\n",
    "## Project: Predicting Credit Card Customer Churn\n",
    "### Model: Support Vector Machine\n",
    "---"
   ]
  },
  {
   "cell_type": "markdown",
   "metadata": {},
   "source": [
    "# 1. Importing packages & libraries"
   ]
  },
  {
   "cell_type": "code",
   "execution_count": 1,
   "metadata": {},
   "outputs": [],
   "source": [
    "# import pyforest\n",
    "import numpy as np\n",
    "import pandas as pd\n",
    "import seaborn as sns\n",
    "import matplotlib.pyplot as plt\n",
    "from sklearn.metrics import classification_report, confusion_matrix, ConfusionMatrixDisplay, accuracy_score, recall_score, precision_score, f1_score\n",
    "from sklearn.metrics import roc_curve, auc\n",
    "from sklearn.decomposition import PCA\n",
    "from sklearn.decomposition import TruncatedSVD\n",
    "from sklearn.model_selection import GridSearchCV, KFold, train_test_split\n",
    "from sklearn.svm import SVC\n",
    "\n",
    "from sklearn.preprocessing import LabelEncoder, OneHotEncoder, MinMaxScaler"
   ]
  },
  {
   "cell_type": "code",
   "execution_count": 2,
   "metadata": {},
   "outputs": [],
   "source": [
    "# train_df = pd.read_csv('../Data/train.csv')\n",
    "# val_df = pd.read_csv('../Data/validation.csv')\n",
    "# test_df = pd.read_csv('../Data/test.csv')\n",
    "dataset_df = pd.read_csv('../Data/BankChurners.csv')"
   ]
  },
  {
   "cell_type": "markdown",
   "metadata": {},
   "source": [
    "# 2. Reading file & tidying up columns"
   ]
  },
  {
   "cell_type": "code",
   "execution_count": 3,
   "metadata": {},
   "outputs": [],
   "source": [
    "df = pd.read_csv('../Data/BankChurners.csv')\n",
    "df = df.iloc[:,1:-2] # dropping first & last 2 columns \n",
    "\n",
    "tidied_cols = []\n",
    "for col_name in df.columns:\n",
    "    col_name = col_name.lower()\n",
    "    if '_ct' in col_name:\n",
    "        col_name = col_name.replace('_ct', '_count')\n",
    "    if '_chng' in col_name:\n",
    "        col_name = col_name.replace('_chng', '_change')\n",
    "    tidied_cols.append( col_name )\n",
    "    \n",
    "df.columns = tidied_cols.copy()\n",
    "\n",
    "df = df.drop(columns=[\"customer_age\", \"avg_open_to_buy\", \"total_trans_count\"]) # dropping correlated features\n",
    "\n",
    "# defining numerical & categorical columns\n",
    "numerical = list(df.describe().columns)\n",
    "categorical = [i for i in df.columns if i not in numerical and i != \"attrition_flag\"]\n"
   ]
  },
  {
   "cell_type": "markdown",
   "metadata": {},
   "source": [
    "# 3. Train test split"
   ]
  },
  {
   "cell_type": "code",
   "execution_count": 4,
   "metadata": {},
   "outputs": [],
   "source": [
    "y = df[[\"attrition_flag\"]]\n",
    "x = df.drop(\"attrition_flag\", axis=1)"
   ]
  },
  {
   "cell_type": "code",
   "execution_count": 5,
   "metadata": {},
   "outputs": [],
   "source": [
    "x_train, x_test, y_train, y_test = train_test_split(x, y, test_size = 0.2, stratify = y, random_state = 2021)"
   ]
  },
  {
   "cell_type": "markdown",
   "metadata": {},
   "source": [
    "### Impute unknown values in train & test sets"
   ]
  },
  {
   "cell_type": "code",
   "execution_count": 6,
   "metadata": {},
   "outputs": [],
   "source": [
    "def impute_unknown(df_x):\n",
    "    \"\"\"\n",
    "        Imputes unknown values to their mode\n",
    "    \"\"\"\n",
    "    x = df_x.copy()\n",
    "\n",
    "    marital_status_mode = x[\"marital_status\"].mode()[0]\n",
    "    x[\"marital_status\"] = x[\"marital_status\"].replace(\"Unknown\", marital_status_mode)\n",
    "    education_level_mode = x[\"education_level\"].mode()[0]\n",
    "    x[\"education_level\"] = x[\"education_level\"].replace(\"Unknown\", education_level_mode)\n",
    "    income_category_mode = x[\"income_category\"].mode()[0]\n",
    "    x[\"income_category\"] = x[\"income_category\"].replace(\"Unknown\", income_category_mode)\n",
    "    \n",
    "    return x\n",
    "\n",
    "x_train = impute_unknown(x_train)\n",
    "x_test = impute_unknown(x_test)"
   ]
  },
  {
   "cell_type": "markdown",
   "metadata": {},
   "source": [
    "# 4. Prepare for modelling"
   ]
  },
  {
   "cell_type": "code",
   "execution_count": 7,
   "metadata": {},
   "outputs": [],
   "source": [
    "def data_preprocessing(df_x, df_y):\n",
    "    x = df_x.copy()\n",
    "    y = df_y.copy()\n",
    "    \n",
    "    # Binary Encoding — features with binary categories  \n",
    "    attrition_mapper = {\"Existing Customer\":0, \"Attrited Customer\":1}\n",
    "    y[\"attrition_flag\"] = y[\"attrition_flag\"].replace(attrition_mapper)\n",
    "    \n",
    "    gender_mapper = {\"F\":0, \"M\":1}\n",
    "    x[\"gender\"] = x[\"gender\"].replace(gender_mapper)\n",
    "    \n",
    "    # Encoding features with multiple categories\n",
    "    onehot_enc = OneHotEncoder(handle_unknown='ignore', sparse=False)\n",
    "    values = onehot_enc.fit_transform(x[[\"marital_status\"]])\n",
    "    labels = np.array([\"divorced\", \"married\", \"single\"]).ravel()\n",
    "    marital_status_df = pd.DataFrame(values, columns=labels)\n",
    "\n",
    "    x.reset_index(drop=True, inplace=True)\n",
    "    marital_status_df.reset_index(drop=True, inplace=True)\n",
    "    x = pd.concat([x, marital_status_df], axis=1)\n",
    "    x.drop(\"marital_status\", axis=1, inplace=True)\n",
    "    \n",
    "    # Encoding Ordinal Features\n",
    "    edu_level_mapper = {\"Doctorate\": 1, \"Post-Graduate\": 2, \"Graduate\": 3, \"College\": 4, \"High School\": 5, \"Uneducated\": 6}\n",
    "    x[\"education_level\"] = x[\"education_level\"].replace(edu_level_mapper)\n",
    "\n",
    "    income_cat_mapper = {\"$120K +\": 1, \"$80K - $120K\":2, \"$60K - $80K\":3, \"$40K - $60K\": 4, \"Less than $40K\": 5}\n",
    "    x[\"income_category\"] = x[\"income_category\"].replace(income_cat_mapper)\n",
    "\n",
    "    card_cat_mapper = {\"Platinum\":1, \"Gold\":2, \"Silver\":3, \"Blue\": 4}\n",
    "    x[\"card_category\"] = x[\"card_category\"].replace(card_cat_mapper)\n",
    "    \n",
    "    # Feature Transformation — Scaling\n",
    "    skewed = [\"credit_limit\", \"total_amt_change_q4_q1\", \"total_trans_amt\", \"total_count_change_q4_q1\"]\n",
    "\n",
    "    for skewed_col in skewed:\n",
    "#         x[skewed_col] = np.where(x[skewed_col] > 0 , np.log(x[skewed_col]), 0) # not using, leaving here for now\n",
    "        x[skewed_col] = np.log(x[skewed_col].mask(x[skewed_col] <=0)).fillna(0)\n",
    "\n",
    "    scaler = MinMaxScaler()\n",
    "    x[numerical] = scaler.fit_transform(x[numerical]) \n",
    "    \n",
    "    return x, y\n",
    "\n",
    "x_train, y_train = data_preprocessing(x_train, y_train)\n",
    "x_test, y_test = data_preprocessing(x_test, y_test)"
   ]
  },
  {
   "cell_type": "markdown",
   "metadata": {},
   "source": [
    "# 5. Running SVM Model"
   ]
  },
  {
   "cell_type": "code",
   "execution_count": 8,
   "metadata": {},
   "outputs": [],
   "source": [
    "# need to explore more on various SVM & hyperparameter tuning (WIP)\n",
    "svm = SVC(random_state=0)\n",
    "svm.fit(x_train, np.ravel(y_train))\n",
    "y_pred = svm.predict(x_test)"
   ]
  },
  {
   "cell_type": "markdown",
   "metadata": {},
   "source": [
    "# 6. Model Evaluation"
   ]
  },
  {
   "cell_type": "code",
   "execution_count": 9,
   "metadata": {},
   "outputs": [
    {
     "name": "stdout",
     "output_type": "stream",
     "text": [
      "Testing accuracy 0.8568608094768015\n"
     ]
    }
   ],
   "source": [
    "print('Testing accuracy %s' % accuracy_score(y_test, y_pred))"
   ]
  },
  {
   "cell_type": "code",
   "execution_count": 10,
   "metadata": {},
   "outputs": [
    {
     "data": {
      "text/plain": [
       "<sklearn.metrics._plot.confusion_matrix.ConfusionMatrixDisplay at 0x1077a9460>"
      ]
     },
     "execution_count": 10,
     "metadata": {},
     "output_type": "execute_result"
    },
    {
     "data": {
      "image/png": "[encoded data removed]",
      "text/plain": [
       "<Figure size 432x288 with 2 Axes>"
      ]
     },
     "metadata": {
      "needs_background": "light"
     },
     "output_type": "display_data"
    }
   ],
   "source": [
    "cm = confusion_matrix(y_test, y_pred, labels=svm.classes_)\n",
    "disp = ConfusionMatrixDisplay(confusion_matrix = cm, display_labels = svm.classes_)\n",
    "disp.plot()"
   ]
  },
  {
   "cell_type": "code",
   "execution_count": 11,
   "metadata": {},
   "outputs": [
    {
     "name": "stdout",
     "output_type": "stream",
     "text": [
      "AUC: 0.5575797042463709\n",
      "Accuracy: 0.8568608094768015\n",
      "Precision: 0.926829268292683\n",
      "Recall: 0.5575797042463709\n",
      "f1_score: 0.5644871008008444\n"
     ]
    }
   ],
   "source": [
    "false_positive_rate, true_positive_rate, thresholds = roc_curve(y_test, y_pred)\n",
    "print(\"AUC:\", auc(false_positive_rate, true_positive_rate))\n",
    "print(\"Accuracy:\", accuracy_score(y_test, y_pred.round()))\n",
    "print(\"Precision:\", precision_score(y_test, y_pred.round()))\n",
    "print(\"Recall:\", recall_score(y_test, y_pred.round(), average='macro'))\n",
    "print(\"f1_score:\", f1_score(y_test, y_pred, average='macro'))"
   ]
  },
  {
   "cell_type": "markdown",
   "metadata": {},
   "source": [
    "## PCA on Train Set"
   ]
  },
  {
   "cell_type": "markdown",
   "metadata": {},
   "source": [
    "### Analysis of Explained Variance Ratio w.r.t Number of Components"
   ]
  },
  {
   "cell_type": "code",
   "execution_count": 29,
   "metadata": {},
   "outputs": [
    {
     "data": {
      "text/html": [
       "<div>\n",
       "<style scoped>\n",
       "    .dataframe tbody tr th:only-of-type {\n",
       "        vertical-align: middle;\n",
       "    }\n",
       "\n",
       "    .dataframe tbody tr th {\n",
       "        vertical-align: top;\n",
       "    }\n",
       "\n",
       "    .dataframe thead th {\n",
       "        text-align: right;\n",
       "    }\n",
       "</style>\n",
       "<table border=\"1\" class=\"dataframe\">\n",
       "  <thead>\n",
       "    <tr style=\"text-align: right;\">\n",
       "      <th></th>\n",
       "      <th>gender</th>\n",
       "      <th>dependent_count</th>\n",
       "      <th>education_level</th>\n",
       "      <th>income_category</th>\n",
       "      <th>card_category</th>\n",
       "      <th>months_on_book</th>\n",
       "      <th>total_relationship_count</th>\n",
       "      <th>months_inactive_12_mon</th>\n",
       "      <th>contacts_count_12_mon</th>\n",
       "      <th>credit_limit</th>\n",
       "      <th>total_revolving_bal</th>\n",
       "      <th>total_amt_change_q4_q1</th>\n",
       "      <th>total_trans_amt</th>\n",
       "      <th>total_count_change_q4_q1</th>\n",
       "      <th>avg_utilization_ratio</th>\n",
       "      <th>divorced</th>\n",
       "      <th>married</th>\n",
       "      <th>single</th>\n",
       "    </tr>\n",
       "  </thead>\n",
       "  <tbody>\n",
       "    <tr>\n",
       "      <th>0</th>\n",
       "      <td>0.291871</td>\n",
       "      <td>NaN</td>\n",
       "      <td>NaN</td>\n",
       "      <td>0.942512</td>\n",
       "      <td>NaN</td>\n",
       "      <td>NaN</td>\n",
       "      <td>NaN</td>\n",
       "      <td>NaN</td>\n",
       "      <td>NaN</td>\n",
       "      <td>0.114699</td>\n",
       "      <td>NaN</td>\n",
       "      <td>NaN</td>\n",
       "      <td>NaN</td>\n",
       "      <td>NaN</td>\n",
       "      <td>NaN</td>\n",
       "      <td>NaN</td>\n",
       "      <td>NaN</td>\n",
       "      <td>NaN</td>\n",
       "    </tr>\n",
       "    <tr>\n",
       "      <th>1</th>\n",
       "      <td>NaN</td>\n",
       "      <td>NaN</td>\n",
       "      <td>0.995619</td>\n",
       "      <td>NaN</td>\n",
       "      <td>NaN</td>\n",
       "      <td>NaN</td>\n",
       "      <td>NaN</td>\n",
       "      <td>NaN</td>\n",
       "      <td>NaN</td>\n",
       "      <td>NaN</td>\n",
       "      <td>NaN</td>\n",
       "      <td>NaN</td>\n",
       "      <td>NaN</td>\n",
       "      <td>NaN</td>\n",
       "      <td>NaN</td>\n",
       "      <td>NaN</td>\n",
       "      <td>NaN</td>\n",
       "      <td>NaN</td>\n",
       "    </tr>\n",
       "    <tr>\n",
       "      <th>2</th>\n",
       "      <td>NaN</td>\n",
       "      <td>NaN</td>\n",
       "      <td>NaN</td>\n",
       "      <td>NaN</td>\n",
       "      <td>NaN</td>\n",
       "      <td>NaN</td>\n",
       "      <td>NaN</td>\n",
       "      <td>NaN</td>\n",
       "      <td>NaN</td>\n",
       "      <td>NaN</td>\n",
       "      <td>NaN</td>\n",
       "      <td>NaN</td>\n",
       "      <td>NaN</td>\n",
       "      <td>NaN</td>\n",
       "      <td>NaN</td>\n",
       "      <td>NaN</td>\n",
       "      <td>0.715074</td>\n",
       "      <td>0.694804</td>\n",
       "    </tr>\n",
       "    <tr>\n",
       "      <th>3</th>\n",
       "      <td>NaN</td>\n",
       "      <td>NaN</td>\n",
       "      <td>NaN</td>\n",
       "      <td>NaN</td>\n",
       "      <td>0.469058</td>\n",
       "      <td>NaN</td>\n",
       "      <td>0.193917</td>\n",
       "      <td>NaN</td>\n",
       "      <td>NaN</td>\n",
       "      <td>0.318832</td>\n",
       "      <td>0.548450</td>\n",
       "      <td>NaN</td>\n",
       "      <td>NaN</td>\n",
       "      <td>NaN</td>\n",
       "      <td>0.565111</td>\n",
       "      <td>NaN</td>\n",
       "      <td>NaN</td>\n",
       "      <td>NaN</td>\n",
       "    </tr>\n",
       "    <tr>\n",
       "      <th>4</th>\n",
       "      <td>NaN</td>\n",
       "      <td>NaN</td>\n",
       "      <td>NaN</td>\n",
       "      <td>NaN</td>\n",
       "      <td>0.628409</td>\n",
       "      <td>NaN</td>\n",
       "      <td>0.228072</td>\n",
       "      <td>NaN</td>\n",
       "      <td>NaN</td>\n",
       "      <td>0.322881</td>\n",
       "      <td>0.615016</td>\n",
       "      <td>NaN</td>\n",
       "      <td>0.134106</td>\n",
       "      <td>NaN</td>\n",
       "      <td>0.212872</td>\n",
       "      <td>NaN</td>\n",
       "      <td>NaN</td>\n",
       "      <td>NaN</td>\n",
       "    </tr>\n",
       "    <tr>\n",
       "      <th>5</th>\n",
       "      <td>NaN</td>\n",
       "      <td>NaN</td>\n",
       "      <td>NaN</td>\n",
       "      <td>NaN</td>\n",
       "      <td>NaN</td>\n",
       "      <td>NaN</td>\n",
       "      <td>0.308778</td>\n",
       "      <td>NaN</td>\n",
       "      <td>NaN</td>\n",
       "      <td>NaN</td>\n",
       "      <td>NaN</td>\n",
       "      <td>NaN</td>\n",
       "      <td>NaN</td>\n",
       "      <td>NaN</td>\n",
       "      <td>NaN</td>\n",
       "      <td>0.766975</td>\n",
       "      <td>0.368563</td>\n",
       "      <td>0.398411</td>\n",
       "    </tr>\n",
       "  </tbody>\n",
       "</table>\n",
       "</div>"
      ],
      "text/plain": [
       "     gender  dependent_count  education_level  income_category  card_category  \\\n",
       "0  0.291871              NaN              NaN         0.942512            NaN   \n",
       "1       NaN              NaN         0.995619              NaN            NaN   \n",
       "2       NaN              NaN              NaN              NaN            NaN   \n",
       "3       NaN              NaN              NaN              NaN       0.469058   \n",
       "4       NaN              NaN              NaN              NaN       0.628409   \n",
       "5       NaN              NaN              NaN              NaN            NaN   \n",
       "\n",
       "   months_on_book  total_relationship_count  months_inactive_12_mon  \\\n",
       "0             NaN                       NaN                     NaN   \n",
       "1             NaN                       NaN                     NaN   \n",
       "2             NaN                       NaN                     NaN   \n",
       "3             NaN                  0.193917                     NaN   \n",
       "4             NaN                  0.228072                     NaN   \n",
       "5             NaN                  0.308778                     NaN   \n",
       "\n",
       "   contacts_count_12_mon  credit_limit  total_revolving_bal  \\\n",
       "0                    NaN      0.114699                  NaN   \n",
       "1                    NaN           NaN                  NaN   \n",
       "2                    NaN           NaN                  NaN   \n",
       "3                    NaN      0.318832             0.548450   \n",
       "4                    NaN      0.322881             0.615016   \n",
       "5                    NaN           NaN                  NaN   \n",
       "\n",
       "   total_amt_change_q4_q1  total_trans_amt  total_count_change_q4_q1  \\\n",
       "0                     NaN              NaN                       NaN   \n",
       "1                     NaN              NaN                       NaN   \n",
       "2                     NaN              NaN                       NaN   \n",
       "3                     NaN              NaN                       NaN   \n",
       "4                     NaN         0.134106                       NaN   \n",
       "5                     NaN              NaN                       NaN   \n",
       "\n",
       "   avg_utilization_ratio  divorced   married    single  \n",
       "0                    NaN       NaN       NaN       NaN  \n",
       "1                    NaN       NaN       NaN       NaN  \n",
       "2                    NaN       NaN  0.715074  0.694804  \n",
       "3               0.565111       NaN       NaN       NaN  \n",
       "4               0.212872       NaN       NaN       NaN  \n",
       "5                    NaN  0.766975  0.368563  0.398411  "
      ]
     },
     "execution_count": 29,
     "metadata": {},
     "output_type": "execute_result"
    }
   ],
   "source": [
    "pca_test = PCA(n)\n",
    "pca_test.fit(x_train)\n",
    "sns.set(style='whitegrid')\n",
    "plt.plot(np.cumsum(pca_test.explained_variance_ratio_))\n",
    "plt.xlabel('number of components')\n",
    "plt.ylabel('cumulative explained variance')\n",
    "evr = pca_test.explained_variance_ratio_\n",
    "cvr = np.cumsum(pca_test.explained_variance_ratio_)\n",
    "pca_df = pd.DataFrame()\n",
    "pca_df['Cumulative Variance Ratio'] = cvr\n",
    "pca_df['Explained Variance Ratio'] = evr\n",
    "display(pca_df)\n",
    "\n",
    "# decision boundary of at least 90% of cumulative explained variance\n",
    "plt.axhline(color='r', y=0.9)\n",
    "\n",
    "# ideal number of components -> 4 components \n",
    "plt.axvline(color='r', linewidth=4, linestyle='--', x=4)"
   ]
  },
  {
   "cell_type": "code",
   "execution_count": null,
   "metadata": {},
   "outputs": [],
   "source": []
  }
 ],
 "metadata": {
  "interpreter": {
   "hash": "aee8b7b246df8f9039afb4144a1f6fd8d2ca17a180786b69acc140d282b71a49"
  },
  "kernelspec": {
   "display_name": "Python 3 (ipykernel)",
   "language": "python",
   "name": "python3"
  },
  "language_info": {
   "codemirror_mode": {
    "name": "ipython",
    "version": 3
   },
   "file_extension": ".py",
   "mimetype": "text/x-python",
   "name": "python",
   "nbconvert_exporter": "python",
   "pygments_lexer": "ipython3",
   "version": "3.8.10"
  }
 },
 "nbformat": 4,
 "nbformat_minor": 2
}
