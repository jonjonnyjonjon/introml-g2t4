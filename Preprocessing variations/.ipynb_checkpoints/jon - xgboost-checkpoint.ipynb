{
 "cells": [
  {
   "cell_type": "markdown",
   "id": "d51dca08",
   "metadata": {},
   "source": [
    "# Importing packages and libraries"
   ]
  },
  {
   "cell_type": "code",
   "execution_count": 1,
   "id": "9681e448",
   "metadata": {},
   "outputs": [],
   "source": [
    "import pandas as pd\n",
    "import numpy as np\n",
    "\n",
    "from sklearn.model_selection import train_test_split\n",
    "from imblearn.over_sampling import SMOTE\n",
    "\n",
    "from xgboost import XGBClassifier\n",
    "from sklearn.metrics import confusion_matrix, precision_score, recall_score, f1_score, fbeta_score, accuracy_score, roc_auc_score\n",
    "from sklearn.model_selection import GridSearchCV"
   ]
  },
  {
   "cell_type": "markdown",
   "id": "b2dcbfbd",
   "metadata": {},
   "source": [
    "# Reading file and tidying"
   ]
  },
  {
   "cell_type": "code",
   "execution_count": 2,
   "id": "b973afe6",
   "metadata": {
    "scrolled": false
   },
   "outputs": [],
   "source": [
    "df_train = pd.read_csv(\"../data/train.csv\")\n",
    "df_test = pd.read_csv(\"../data/test.csv\")"
   ]
  },
  {
   "cell_type": "markdown",
   "id": "cd1f0076",
   "metadata": {},
   "source": [
    "# Train test split"
   ]
  },
  {
   "cell_type": "code",
   "execution_count": 3,
   "id": "7659560e",
   "metadata": {},
   "outputs": [],
   "source": [
    "y_train = df_train[[\"attrition_flag\"]]\n",
    "x_train = df_train.drop(\"attrition_flag\", axis=1)\n",
    "\n",
    "y_test = df_test[[\"attrition_flag\"]]\n",
    "x_test = df_test.drop(\"attrition_flag\", axis=1)"
   ]
  },
  {
   "cell_type": "code",
   "execution_count": 4,
   "id": "b166ec65",
   "metadata": {},
   "outputs": [
    {
     "name": "stdout",
     "output_type": "stream",
     "text": [
      "-------------------------TEST SCORES-----------------------\n",
      "Recall: 0.8092307692307692\n",
      "Precision: 0.834920634920635\n",
      "F2-Score: 0.8142414860681114\n",
      "Accuracy score: 0.9437314906219151\n",
      "AUC Score: 0.8893302582191471\n",
      "\n"
     ]
    }
   ],
   "source": [
    "xgb = XGBClassifier(use_label_encoder=False,\n",
    "                random_state=2021)\n",
    "oversampler = SMOTE(random_state=2021)\n",
    "x_train, y_train = oversampler.fit_resample(x_train, y_train)\n",
    "xgb.fit(x_train, y_train, eval_metric='logloss')\n",
    "y_pred = xgb.predict(x_test)\n",
    "\n",
    "print(f\"-------------------------TEST SCORES-----------------------\")\n",
    "print(f\"Recall: {recall_score(y_test, y_pred)}\")\n",
    "print(f\"Precision: {precision_score(y_test, y_pred)}\")\n",
    "print(f\"F2-Score: {fbeta_score(y_test, y_pred, beta=2)}\")\n",
    "print(f\"Accuracy score: {accuracy_score(y_test, y_pred)}\")\n",
    "print(f\"AUC Score: {roc_auc_score(y_test, y_pred)}\")\n",
    "print()"
   ]
  },
  {
   "cell_type": "markdown",
   "id": "3fcd15a9",
   "metadata": {},
   "source": [
    "#### Applying xgboost model"
   ]
  },
  {
   "cell_type": "code",
   "execution_count": 5,
   "id": "95f8e70d",
   "metadata": {},
   "outputs": [],
   "source": [
    "# # # https://xgboost.readthedocs.io/en/latest/python/python_api.html#module-xgboost.sklearn\n",
    "\n",
    "# cm = confusion_matrix(y_test, y_pred)\n",
    "# print(cm)\n",
    "# TN | FP\n",
    "# FN| TP"
   ]
  },
  {
   "cell_type": "code",
   "execution_count": 6,
   "id": "23acf80b",
   "metadata": {},
   "outputs": [],
   "source": [
    "# # https://towardsdatascience.com/doing-xgboost-hyper-parameter-tuning-the-smart-way-part-1-of-2-f6d255a45dde\n",
    "# # {\"learning_rate\"    : [0.05, 0.10, 0.15, 0.20, 0.25, 0.30 ] ,\n",
    "# #  \"max_depth\"        : [ 3, 4, 5, 6, 8, 10, 12, 15],\n",
    "# #  \"min_child_weight\" : [ 1, 3, 5, 7 ], Minimum sum of instance weight(hessian) needed in a child.\n",
    "# #  \"gamma\"            : [ 0.0, 0.1, 0.2 , 0.3, 0.4 ], Minimum loss reduction required to make a further partition on a leaf node of the tree.\n",
    "# #  \"colsample_bytree\" : [ 0.3, 0.4, 0.5 , 0.7 ] } Subsample ratio of columns when constructing each tree.\n",
    "# # GridSearch, Coordinate Descent\n",
    "\n",
    "# model = XGBClassifier(n_jobs=-1, random_state=0)\n",
    "\n",
    "# param_dist = {\n",
    "#     \"learning_rate\": [0.05, 0.10, 0.15, 0.20, 0.25, 0.30],\n",
    "#     \"max_depth\": [3, 4, 5, 6, 8, 10, 12, 15],\n",
    "#     'min_child_weight': [1, 3, 5, 7],\n",
    "#     'gamma': [0.0, 0.1, 0.2 , 0.3, 0.4],\n",
    "#     'colsample_bytree': [0.3, 0.4, 0.5 , 0.7],\n",
    "# }\n",
    "\n",
    "# grid_search = GridSearchCV(model, param_dist, n_jobs=-1, scoring=\"recall\", error_score='raise')\n",
    "\n",
    "# grid_search.fit(x_train, y_train)\n",
    "# grid_search.best_params_"
   ]
  },
  {
   "cell_type": "code",
   "execution_count": 7,
   "id": "50a32b5a",
   "metadata": {},
   "outputs": [],
   "source": [
    "# gs_best_params = grid_search.best_estimator_\n",
    "# print(gs_best_params)\n",
    "\n",
    "# y_pred = gs_best_params.predict(x_test)\n",
    "# false_positive_rate, true_positive_rate, thresholds = roc_curve(y_test, y_pred)\n",
    "\n",
    "# print(classification_report(y_test, y_pred))\n",
    "\n",
    "# print(\"-------------------------TEST SCORES-----------------------\")\n",
    "# print(\"AUC:\", auc(false_positive_rate, true_positive_rate))\n",
    "# print(\"Accuracy:\", accuracy_score(y_test, y_pred))\n",
    "# print(\"Precision:\", precision_score(y_test, y_pred))\n",
    "# print(\"Recall:\", recall_score(y_test, y_pred, average='macro'))\n",
    "# print(\"f1_score:\", f1_score(y_test, y_pred, average='macro'))"
   ]
  }
 ],
 "metadata": {
  "kernelspec": {
   "display_name": "Python 3 (ipykernel)",
   "language": "python",
   "name": "python3"
  },
  "language_info": {
   "codemirror_mode": {
    "name": "ipython",
    "version": 3
   },
   "file_extension": ".py",
   "mimetype": "text/x-python",
   "name": "python",
   "nbconvert_exporter": "python",
   "pygments_lexer": "ipython3",
   "version": "3.8.10"
  }
 },
 "nbformat": 4,
 "nbformat_minor": 5
}
