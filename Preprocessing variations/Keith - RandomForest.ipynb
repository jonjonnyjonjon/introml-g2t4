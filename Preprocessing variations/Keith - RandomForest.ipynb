{
 "cells": [
  {
   "cell_type": "markdown",
   "id": "58b687c1",
   "metadata": {},
   "source": [
    "# CS421: Introduction to Machine Learning\n",
    "## Project: Predicting Credit Card Customer Churn\n",
    "### Model: Random Forest\n",
    "---"
   ]
  },
  {
   "cell_type": "markdown",
   "id": "c91de7de",
   "metadata": {},
   "source": [
    "# 1. Importing packages and libraries"
   ]
  },
  {
   "cell_type": "code",
   "execution_count": 2,
   "id": "9b335f22",
   "metadata": {},
   "outputs": [],
   "source": [
    "import pandas as pd\n",
    "import numpy as np\n",
    "import seaborn as sns\n",
    "import matplotlib.pyplot as plt\n",
    "%matplotlib inline\n",
    "\n",
    "from imblearn.over_sampling import SMOTE\n",
    "\n",
    "from sklearn.ensemble import RandomForestClassifier\n",
    "from sklearn.metrics import confusion_matrix, precision_score, recall_score, f1_score, fbeta_score, accuracy_score, roc_auc_score\n",
    "from sklearn.model_selection import GridSearchCV"
   ]
  },
  {
   "cell_type": "markdown",
   "id": "91d734cd",
   "metadata": {},
   "source": [
    "# 2. Reading file and tidying up columns"
   ]
  },
  {
   "cell_type": "code",
   "execution_count": 17,
   "id": "4817f49e",
   "metadata": {},
   "outputs": [],
   "source": [
    "df_train = pd.read_csv(\"../data/train.csv\")\n",
    "df_test = pd.read_csv(\"../data/test.csv\")\n",
    "\n",
    "y_train = df_train[[\"attrition_flag\"]]\n",
    "x_train = df_train.drop(\"attrition_flag\", axis=1)\n",
    "\n",
    "y_test = df_test[[\"attrition_flag\"]]\n",
    "x_test = df_test.drop(\"attrition_flag\", axis=1)"
   ]
  },
  {
   "cell_type": "code",
   "execution_count": 29,
   "id": "d01e2380",
   "metadata": {},
   "outputs": [
    {
     "data": {
      "text/plain": [
       "Index(['customer_age', 'gender', 'dependent_count', 'education_level',\n",
       "       'income_category', 'card_category', 'months_on_book',\n",
       "       'total_relationship_count', 'months_inactive_12_mon',\n",
       "       'contacts_count_12_mon', 'credit_limit', 'total_revolving_bal',\n",
       "       'avg_open_to_buy', 'total_amt_change_q4_q1', 'total_trans_amt',\n",
       "       'total_trans_count', 'total_count_change_q4_q1',\n",
       "       'avg_utilization_ratio', 'divorced', 'married', 'single'],\n",
       "      dtype='object')"
      ]
     },
     "execution_count": 29,
     "metadata": {},
     "output_type": "execute_result"
    }
   ],
   "source": [
    "x_train.columns"
   ]
  },
  {
   "cell_type": "code",
   "execution_count": 50,
   "id": "02723b7e",
   "metadata": {},
   "outputs": [],
   "source": [
    "def run_models(x, y, xt, yt, variation, model):\n",
    "    x_train = x.copy()\n",
    "    x_test = xt.copy()\n",
    "       \n",
    "    if variation == 'correlation':\n",
    "        x_train.drop( ['avg_open_to_buy', 'customer_age', 'total_trans_count', 'months_on_book'], axis=1, inplace=True)\n",
    "        x_test.drop( ['avg_open_to_buy', 'customer_age', 'total_trans_count', 'months_on_book'], axis=1, inplace=True)\n",
    "        \n",
    "    if variation == 'keep_yellow_only':\n",
    "        x_train.drop( ['total_trans_count', 'months_on_book','card_category','education_level',\n",
    "               'income_category', 'married', 'single','divorced', 'avg_open_to_buy', 'customer_age'], axis=1, inplace=True)\n",
    "        x_test.drop( ['total_trans_count', 'months_on_book','card_category','education_level',\n",
    "           'income_category', 'married', 'single', 'divorced', 'avg_open_to_buy', 'customer_age'], axis=1, inplace=True)\n",
    "    \n",
    "    if variation == 'keep_yellow_blue':\n",
    "        x_train.drop( ['total_trans_count', 'months_on_book','income_category', 'married','single','divorced',\n",
    "                     'avg_open_to_buy', 'customer_age'], axis=1, inplace=True)\n",
    "        x_test.drop( ['total_trans_count', 'months_on_book','income_category', 'married','single','divorced',\n",
    "             'avg_open_to_buy', 'customer_age'], axis=1, inplace=True)  \n",
    "    \n",
    "    # Instantiate RandomClassifier, fit and predict\n",
    "    oversampler = SMOTE(random_state=2021)\n",
    "    x_train, y_train = oversampler.fit_resample(x_train, y)\n",
    "    \n",
    "    model.fit(x_train, y_train.values.ravel() )\n",
    "    y_pred = model.predict(x_test)\n",
    "    \n",
    "    print(f\"-------------------------TEST SCORES for {variation}-----------------------\")\n",
    "    print(f\"Recall: {recall_score(y_test, y_pred)}\")\n",
    "    print(f\"Precision: {precision_score(y_test, y_pred)}\")\n",
    "    print(f\"F2-Score: {fbeta_score(y_test, y_pred, beta=2)}\")\n",
    "    print(f\"Accuracy score: {accuracy_score(y_test, y_pred)}\")\n",
    "    print(f\"AUC Score: {roc_auc_score(y_test, y_pred)}\")\n",
    "    print()"
   ]
  },
  {
   "cell_type": "code",
   "execution_count": 52,
   "id": "caba121c",
   "metadata": {},
   "outputs": [
    {
     "name": "stdout",
     "output_type": "stream",
     "text": [
      "-------------------------TEST SCORES for base-----------------------\n",
      "Recall: 0.5415384615384615\n",
      "Precision: 0.3651452282157676\n",
      "F2-Score: 0.49382716049382713\n",
      "Accuracy score: 0.7754195459032577\n",
      "AUC Score: 0.6808221408221408\n",
      "\n",
      "-------------------------TEST SCORES for correlation-----------------------\n",
      "Recall: 0.5353846153846153\n",
      "Precision: 0.359504132231405\n",
      "F2-Score: 0.48766816143497754\n",
      "Accuracy score: 0.7724580454096742\n",
      "AUC Score: 0.676569438791661\n",
      "\n",
      "-------------------------TEST SCORES for keep_yellow_only-----------------------\n",
      "Recall: 0.5384615384615384\n",
      "Precision: 0.36082474226804123\n",
      "F2-Score: 0.49019607843137253\n",
      "Accuracy score: 0.7729516288252715\n",
      "AUC Score: 0.6781079003301225\n",
      "\n",
      "-------------------------TEST SCORES for keep_yellow_blue-----------------------\n",
      "Recall: 0.5384615384615384\n",
      "Precision: 0.36082474226804123\n",
      "F2-Score: 0.49019607843137253\n",
      "Accuracy score: 0.7729516288252715\n",
      "AUC Score: 0.6781079003301225\n",
      "\n"
     ]
    }
   ],
   "source": [
    "from sklearn.naive_bayes import BernoulliNB\n",
    "\n",
    "variations = ['base', 'correlation', 'keep_yellow_only', 'keep_yellow_blue']\n",
    "\n",
    "for variation in variations:\n",
    "    run_models(x_train, y_train, x_test, y_test, variation, BernoulliNB() )"
   ]
  },
  {
   "cell_type": "code",
   "execution_count": 53,
   "id": "2a239b22",
   "metadata": {},
   "outputs": [
    {
     "name": "stdout",
     "output_type": "stream",
     "text": [
      "-------------------------TEST SCORES for base-----------------------\n",
      "Recall: 0.8092307692307692\n",
      "Precision: 0.5560253699788583\n",
      "F2-Score: 0.7416807670614777\n",
      "Accuracy score: 0.8657453109575518\n",
      "AUC Score: 0.8428869895536563\n",
      "\n",
      "-------------------------TEST SCORES for correlation-----------------------\n",
      "Recall: 0.7015384615384616\n",
      "Precision: 0.48\n",
      "F2-Score: 0.6422535211267606\n",
      "Accuracy score: 0.8302073050345509\n",
      "AUC Score: 0.7781648803871026\n",
      "\n",
      "-------------------------TEST SCORES for keep_yellow_only-----------------------\n",
      "Recall: 0.676923076923077\n",
      "Precision: 0.4592901878914405\n",
      "F2-Score: 0.6183249016301293\n",
      "Accuracy score: 0.8203356367226061\n",
      "AUC Score: 0.7623298512187401\n",
      "\n",
      "-------------------------TEST SCORES for keep_yellow_blue-----------------------\n",
      "Recall: 0.6861538461538461\n",
      "Precision: 0.4714587737843552\n",
      "F2-Score: 0.62887760857304\n",
      "Accuracy score: 0.8262586377097729\n",
      "AUC Score: 0.7695907384796273\n",
      "\n"
     ]
    }
   ],
   "source": [
    "from sklearn.linear_model import LogisticRegression\n",
    "\n",
    "variations = ['base', 'correlation', 'keep_yellow_only', 'keep_yellow_blue']\n",
    "\n",
    "for variation in variations:\n",
    "    run_models(x_train, y_train, x_test, y_test, variation, LogisticRegression(solver='lbfgs', max_iter=500, random_state=2021))"
   ]
  },
  {
   "cell_type": "code",
   "execution_count": 48,
   "id": "f8a67d27",
   "metadata": {},
   "outputs": [
    {
     "name": "stdout",
     "output_type": "stream",
     "text": [
      "-------------------------TEST SCORES for base-----------------------\n",
      "Recall: 0.8215384615384616\n",
      "Precision: 0.8612903225806452\n",
      "F2-Score: 0.829192546583851\n",
      "Accuracy score: 0.9501480750246791\n",
      "AUC Score: 0.8981296070184959\n",
      "\n",
      "-------------------------TEST SCORES for correlation-----------------------\n",
      "Recall: 0.7692307692307693\n",
      "Precision: 0.8090614886731392\n",
      "F2-Score: 0.7768800497203232\n",
      "Accuracy score: 0.9338598223099703\n",
      "AUC Score: 0.8672726450504228\n",
      "\n",
      "-------------------------TEST SCORES for keep_yellow_only-----------------------\n",
      "Recall: 0.7815384615384615\n",
      "Precision: 0.8220064724919094\n",
      "F2-Score: 0.7893101305158485\n",
      "Accuracy score: 0.9378084896347483\n",
      "AUC Score: 0.8746022701578257\n",
      "\n",
      "-------------------------TEST SCORES for keep_yellow_blue-----------------------\n",
      "Recall: 0.7723076923076924\n",
      "Precision: 0.8229508196721311\n",
      "F2-Score: 0.7819314641744549\n",
      "Accuracy score: 0.9368213228035538\n",
      "AUC Score: 0.8702808302808304\n",
      "\n"
     ]
    }
   ],
   "source": [
    "variations = ['base', 'correlation', 'keep_yellow_only', 'keep_yellow_blue']\n",
    "\n",
    "for variation in variations:\n",
    "    run_models(x_train, y_train, x_test, y_test, variation, RandomForestClassifier(random_state=2021))\n"
   ]
  },
  {
   "cell_type": "markdown",
   "id": "9da57ba6",
   "metadata": {},
   "source": [
    "# 3. Hyper paramter tuning with GridSearchCV"
   ]
  },
  {
   "cell_type": "code",
   "execution_count": 10,
   "id": "15a03d71",
   "metadata": {},
   "outputs": [],
   "source": [
    "from sklearn.ensemble import RandomForestClassifier\n",
    "from sklearn.model_selection import StratifiedKFold\n",
    "from imblearn.over_sampling import SMOTE\n",
    "from imblearn.pipeline import Pipeline\n",
    "from sklearn.model_selection import GridSearchCV, RandomizedSearchCV\n",
    "from sklearn.metrics import recall_score"
   ]
  },
  {
   "cell_type": "code",
   "execution_count": 11,
   "id": "0f0d87af",
   "metadata": {},
   "outputs": [
    {
     "name": "stdout",
     "output_type": "stream",
     "text": [
      "classifier__max_features [1, 5, 9, 13, 17]\n",
      "classifier__min_samples_leaf [1, 2, 4]\n",
      "classifier__n_estimators [100, 300, 500, 700, 900, 1100, 1300, 1500]\n",
      "classifier__max_depth [5, 10, 15, 20, 25, None]\n",
      "-----------------\n",
      "Total combinations: 720\n"
     ]
    }
   ],
   "source": [
    "# # Creating parameter grid to search\n",
    "# n_estimators = [ n for n in range(100, 1500+1, 200) ]\n",
    "\n",
    "# max_depth = [ depth for depth in range(5, 30, 5) ]\n",
    "# max_depth.append( None )\n",
    "\n",
    "# max_features = list(range(1, x_train.shape[1], 4))\n",
    "\n",
    "# min_samples_leaf = [1, 2, 4]\n",
    "\n",
    "# params_grid = {\n",
    "#                'classifier__max_features': max_features,\n",
    "#                'classifier__min_samples_leaf': min_samples_leaf,\n",
    "#                'classifier__n_estimators': n_estimators,\n",
    "#                'classifier__max_depth': max_depth\n",
    "#               }\n",
    "\n",
    "# total_combi = 1\n",
    "# for param, value in params_grid.items():\n",
    "#     print(param, value)\n",
    "#     total_combi *= len(value)\n",
    "\n",
    "# print('-----------------')\n",
    "# print('Total combinations:', total_combi)"
   ]
  },
  {
   "cell_type": "code",
   "execution_count": 12,
   "id": "d68f853d",
   "metadata": {},
   "outputs": [],
   "source": [
    "# smote_sampler = SMOTE(random_state=2021)\n",
    "# rf_clf = RandomForestClassifier(random_state=2021)\n",
    "\n",
    "# pipeline = Pipeline(steps = [['smote', smote_sampler],\n",
    "#                              ['classifier', rf_clf]])\n",
    "\n",
    "# stratified_kfold = StratifiedKFold(shuffle=True, n_splits=3, random_state=2021)\n",
    "\n",
    "# rf_gridsearch = RandomizedSearchCV(estimator = pipeline,\n",
    "#                            param_distributions = params_grid,\n",
    "#                            scoring = 'recall',\n",
    "#                            cv = stratified_kfold,\n",
    "#                            refit = True,\n",
    "#                            n_jobs = -1,\n",
    "#                            random_state = 2021)\n",
    "\n",
    "# rf_gridsearch.fit(x_train, y_train)\n",
    "\n",
    "# best_parameters = rf_gridsearch.best_params_\n",
    "# print(best_parameters)"
   ]
  }
 ],
 "metadata": {
  "kernelspec": {
   "display_name": "Python 3 (ipykernel)",
   "language": "python",
   "name": "python3"
  },
  "language_info": {
   "codemirror_mode": {
    "name": "ipython",
    "version": 3
   },
   "file_extension": ".py",
   "mimetype": "text/x-python",
   "name": "python",
   "nbconvert_exporter": "python",
   "pygments_lexer": "ipython3",
   "version": "3.8.10"
  }
 },
 "nbformat": 4,
 "nbformat_minor": 5
}
