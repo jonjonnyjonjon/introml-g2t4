{
 "cells": [
  {
   "cell_type": "markdown",
   "id": "58b687c1",
   "metadata": {},
   "source": [
    "# CS421: Introduction to Machine Learning\n",
    "## Project: Predicting Credit Card Customer Churn\n",
    "### Model: Random Forest\n",
    "---"
   ]
  },
  {
   "cell_type": "markdown",
   "id": "c91de7de",
   "metadata": {},
   "source": [
    "# 1. Importing packages and libraries"
   ]
  },
  {
   "cell_type": "code",
   "execution_count": 1,
   "id": "9b335f22",
   "metadata": {},
   "outputs": [],
   "source": [
    "import pandas as pd\n",
    "import numpy as np\n",
    "import seaborn as sns\n",
    "import matplotlib.pyplot as plt\n",
    "%matplotlib inline\n",
    "\n",
    "from imblearn.over_sampling import SMOTE\n",
    "\n",
    "from sklearn.ensemble import RandomForestClassifier\n",
    "from sklearn.metrics import confusion_matrix, precision_score, recall_score, f1_score, fbeta_score, accuracy_score, roc_auc_score\n",
    "from sklearn.model_selection import GridSearchCV"
   ]
  },
  {
   "cell_type": "markdown",
   "id": "91d734cd",
   "metadata": {},
   "source": [
    "# 2. Reading file and tidying up columns"
   ]
  },
  {
   "cell_type": "code",
   "execution_count": 2,
   "id": "4817f49e",
   "metadata": {},
   "outputs": [],
   "source": [
    "df_train = pd.read_csv(\"../data/train.csv\")\n",
    "df_test = pd.read_csv(\"../data/test.csv\")\n",
    "\n",
    "y_train = df_train[[\"attrition_flag\"]]\n",
    "x_train = df_train.drop(\"attrition_flag\", axis=1)\n",
    "\n",
    "y_test = df_test[[\"attrition_flag\"]]\n",
    "x_test = df_test.drop(\"attrition_flag\", axis=1)"
   ]
  },
  {
   "cell_type": "code",
   "execution_count": 3,
   "id": "02723b7e",
   "metadata": {},
   "outputs": [],
   "source": [
    "# def run_models(x, y, xt, yt, variation, model):\n",
    "#     x_train = x.copy()\n",
    "#     x_test = xt.copy()\n",
    "       \n",
    "#     if variation == 'correlation':\n",
    "#         x_train.drop( ['avg_open_to_buy', 'customer_age', 'total_trans_count', 'months_on_book'], axis=1, inplace=True)\n",
    "#         x_test.drop( ['avg_open_to_buy', 'customer_age', 'total_trans_count', 'months_on_book'], axis=1, inplace=True)\n",
    "        \n",
    "#     if variation == 'keep_yellow_only':\n",
    "#         x_train.drop( ['total_trans_count', 'months_on_book','card_category','education_level',\n",
    "#                'income_category', 'married', 'single','divorced', 'avg_open_to_buy', 'customer_age'], axis=1, inplace=True)\n",
    "#         x_test.drop( ['total_trans_count', 'months_on_book','card_category','education_level',\n",
    "#            'income_category', 'married', 'single', 'divorced', 'avg_open_to_buy', 'customer_age'], axis=1, inplace=True)\n",
    "    \n",
    "#     if variation == 'keep_yellow_blue':\n",
    "#         x_train.drop( ['total_trans_count', 'months_on_book','income_category', 'married','single','divorced',\n",
    "#                      'avg_open_to_buy', 'customer_age'], axis=1, inplace=True)\n",
    "#         x_test.drop( ['total_trans_count', 'months_on_book','income_category', 'married','single','divorced',\n",
    "#              'avg_open_to_buy', 'customer_age'], axis=1, inplace=True)  \n",
    "    \n",
    "#     # Instantiate RandomClassifier, fit and predict\n",
    "#     oversampler = SMOTE(random_state=2021)\n",
    "#     x_train, y_train = oversampler.fit_resample(x_train, y)\n",
    "    \n",
    "#     model.fit(x_train, y_train.values.ravel() )\n",
    "#     y_pred = model.predict(x_test)\n",
    "    \n",
    "#     print(f\"-------------------------TEST SCORES for {variation}-----------------------\")\n",
    "#     print(f\"Recall: {recall_score(y_test, y_pred)}\")\n",
    "#     print(f\"Precision: {precision_score(y_test, y_pred)}\")\n",
    "#     print(f\"F2-Score: {fbeta_score(y_test, y_pred, beta=2)}\")\n",
    "#     print(f\"Accuracy score: {accuracy_score(y_test, y_pred)}\")\n",
    "#     print(f\"AUC Score: {roc_auc_score(y_test, y_pred)}\")\n",
    "#     print()"
   ]
  },
  {
   "cell_type": "code",
   "execution_count": 4,
   "id": "2a239b22",
   "metadata": {},
   "outputs": [],
   "source": [
    "# from sklearn.linear_model import LogisticRegression\n",
    "\n",
    "# variations = ['base', 'correlation', 'keep_yellow_only', 'keep_yellow_blue']\n",
    "\n",
    "# for variation in variations:\n",
    "#     run_models(x_train, y_train, x_test, y_test, variation, LogisticRegression(solver='lbfgs', max_iter=500, random_state=2021))"
   ]
  },
  {
   "cell_type": "code",
   "execution_count": 5,
   "id": "f8a67d27",
   "metadata": {},
   "outputs": [],
   "source": [
    "# variations = ['base', 'correlation', 'keep_yellow_only', 'keep_yellow_blue']\n",
    "\n",
    "# for variation in variations:\n",
    "#     run_models(x_train, y_train, x_test, y_test, variation, RandomForestClassifier(random_state=2021))"
   ]
  },
  {
   "cell_type": "markdown",
   "id": "9da57ba6",
   "metadata": {},
   "source": [
    "# 3. Hyper paramter tuning with GridSearchCV"
   ]
  },
  {
   "cell_type": "code",
   "execution_count": 6,
   "id": "15a03d71",
   "metadata": {},
   "outputs": [],
   "source": [
    "import pandas as pd\n",
    "import numpy as np\n",
    "import seaborn as sns\n",
    "import matplotlib.pyplot as plt\n",
    "%matplotlib inline\n",
    "\n",
    "from sklearn.preprocessing import MinMaxScaler\n",
    "from imblearn.over_sampling import SMOTE\n",
    "from imblearn.pipeline import Pipeline\n",
    "from sklearn.compose import ColumnTransformer\n",
    "\n",
    "from sklearn.ensemble import RandomForestClassifier\n",
    "from sklearn.model_selection import StratifiedKFold, GridSearchCV\n",
    "\n",
    "from sklearn.metrics import confusion_matrix, recall_score, fbeta_score, roc_auc_score"
   ]
  },
  {
   "cell_type": "code",
   "execution_count": 7,
   "id": "0f0d87af",
   "metadata": {},
   "outputs": [
    {
     "name": "stdout",
     "output_type": "stream",
     "text": [
      "classifier__max_features [1, 5, 9]\n",
      "classifier__n_estimators [100, 500, 900]\n",
      "classifier__max_depth [2, 8, 14, 20, 26, None]\n",
      "-----------------\n",
      "Total combinations: 54\n"
     ]
    }
   ],
   "source": [
    "# Creating parameter grid to search\n",
    "n_estimators = [ 100, 500, 900 ]\n",
    "\n",
    "max_depth = [ depth for depth in range(2, 32, 6) ]\n",
    "max_depth.append(None)\n",
    "\n",
    "max_features = list(range(1, x_train.shape[1]+1, 4))\n",
    "\n",
    "params_grid = {\n",
    "                'classifier__max_features': max_features,\n",
    "                'classifier__n_estimators': n_estimators,\n",
    "                'classifier__max_depth': max_depth\n",
    "              }\n",
    "\n",
    "total_combi = 1\n",
    "for param, value in params_grid.items():\n",
    "    print(param, value)\n",
    "    total_combi *= len(value)\n",
    "\n",
    "print('-----------------')\n",
    "print('Total combinations:', total_combi)"
   ]
  },
  {
   "cell_type": "code",
   "execution_count": null,
   "id": "d68f853d",
   "metadata": {},
   "outputs": [],
   "source": [
    "smote_sampler = SMOTE(random_state=2021)\n",
    "rf_clf = RandomForestClassifier(random_state=2021)\n",
    "\n",
    "scale_features = x_train.columns[1:]\n",
    "\n",
    "scaler = ColumnTransformer(transformers=[ ('scaler', MinMaxScaler(), scale_features) ])\n",
    "\n",
    "\n",
    "pipeline = Pipeline(steps = [['scaler', scaler],\n",
    "                             ['smote', smote_sampler],\n",
    "                             ['classifier', rf_clf]])\n",
    "\n",
    "stratified_kfold = StratifiedKFold(shuffle=True, n_splits=5, random_state=2021)\n",
    "\n",
    "rf_gridsearch = GridSearchCV(estimator = pipeline,\n",
    "                           param_grid = params_grid,\n",
    "                           scoring = 'recall',\n",
    "                           cv = stratified_kfold,\n",
    "                           refit = True,\n",
    "                           n_jobs = -1)\n",
    "\n",
    "rf_gridsearch.fit(x_train, y_train.values.ravel() )\n",
    "\n",
    "best_parameters = rf_gridsearch.best_params_\n",
    "print(best_parameters)"
   ]
  },
  {
   "cell_type": "code",
   "execution_count": null,
   "id": "21e68819",
   "metadata": {},
   "outputs": [],
   "source": [
    "rf_clf = rf_gridsearch.best_estimator_\n",
    "\n",
    "y_pred = rf_clf.predict(x_test)\n",
    "\n",
    "print(f\"-------------------------TEST SCORES-----------------------\")\n",
    "print(f\"Recall: {recall_score(y_test, y_pred)}\")\n",
    "print(f\"F2-Score: {fbeta_score(y_test, y_pred, beta=2)}\")\n",
    "print(f\"AUC Score: {roc_auc_score(y_test, y_pred)}\")\n",
    "print()"
   ]
  }
 ],
 "metadata": {
  "kernelspec": {
   "display_name": "Python 3 (ipykernel)",
   "language": "python",
   "name": "python3"
  },
  "language_info": {
   "codemirror_mode": {
    "name": "ipython",
    "version": 3
   },
   "file_extension": ".py",
   "mimetype": "text/x-python",
   "name": "python",
   "nbconvert_exporter": "python",
   "pygments_lexer": "ipython3",
   "version": "3.8.10"
  }
 },
 "nbformat": 4,
 "nbformat_minor": 5
}
