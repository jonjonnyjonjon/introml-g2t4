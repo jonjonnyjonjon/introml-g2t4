{
 "cells": [
  {
   "cell_type": "markdown",
   "metadata": {},
   "source": [
    "# 1. Preparaing the notebook\n",
    "### Importing packages and libraries"
   ]
  },
  {
   "cell_type": "code",
   "execution_count": 1,
   "metadata": {},
   "outputs": [],
   "source": [
    "# packages for data manipulation\n",
    "import pandas as pd\n",
    "import numpy as np\n",
    "import seaborn as sns\n",
    "\n",
    "# packages for data preprocessing\n",
    "from sklearn.preprocessing import OneHotEncoder\n",
    "from sklearn.preprocessing import OrdinalEncoder\n",
    "from sklearn.preprocessing import LabelEncoder\n",
    "from sklearn.preprocessing import MinMaxScaler\n",
    "from sklearn.model_selection import train_test_split"
   ]
  },
  {
   "cell_type": "markdown",
   "metadata": {},
   "source": [
    "### Reading file and tidying up columns"
   ]
  },
  {
   "cell_type": "code",
   "execution_count": 2,
   "metadata": {},
   "outputs": [],
   "source": [
    "data = pd.read_csv(\"./Data/BankChurners.csv\")"
   ]
  },
  {
   "cell_type": "code",
   "execution_count": 3,
   "metadata": {},
   "outputs": [
    {
     "data": {
      "text/html": [
       "<div>\n",
       "<style scoped>\n",
       "    .dataframe tbody tr th:only-of-type {\n",
       "        vertical-align: middle;\n",
       "    }\n",
       "\n",
       "    .dataframe tbody tr th {\n",
       "        vertical-align: top;\n",
       "    }\n",
       "\n",
       "    .dataframe thead th {\n",
       "        text-align: right;\n",
       "    }\n",
       "</style>\n",
       "<table border=\"1\" class=\"dataframe\">\n",
       "  <thead>\n",
       "    <tr style=\"text-align: right;\">\n",
       "      <th></th>\n",
       "      <th>Attrition_Flag</th>\n",
       "      <th>Customer_Age</th>\n",
       "      <th>Gender</th>\n",
       "      <th>Dependent_count</th>\n",
       "      <th>Education_Level</th>\n",
       "      <th>Marital_Status</th>\n",
       "      <th>Income_Category</th>\n",
       "      <th>Card_Category</th>\n",
       "      <th>Months_on_book</th>\n",
       "      <th>Total_Relationship_Count</th>\n",
       "      <th>Months_Inactive_12_mon</th>\n",
       "      <th>Contacts_Count_12_mon</th>\n",
       "      <th>Credit_Limit</th>\n",
       "      <th>Total_Revolving_Bal</th>\n",
       "      <th>Avg_Open_To_Buy</th>\n",
       "      <th>Total_Amt_Chng_Q4_Q1</th>\n",
       "      <th>Total_Trans_Amt</th>\n",
       "      <th>Total_Trans_Ct</th>\n",
       "      <th>Total_Ct_Chng_Q4_Q1</th>\n",
       "      <th>Avg_Utilization_Ratio</th>\n",
       "    </tr>\n",
       "  </thead>\n",
       "  <tbody>\n",
       "    <tr>\n",
       "      <th>0</th>\n",
       "      <td>Existing Customer</td>\n",
       "      <td>45</td>\n",
       "      <td>M</td>\n",
       "      <td>3</td>\n",
       "      <td>High School</td>\n",
       "      <td>Married</td>\n",
       "      <td>$60K - $80K</td>\n",
       "      <td>Blue</td>\n",
       "      <td>39</td>\n",
       "      <td>5</td>\n",
       "      <td>1</td>\n",
       "      <td>3</td>\n",
       "      <td>12691.0</td>\n",
       "      <td>777</td>\n",
       "      <td>11914.0</td>\n",
       "      <td>1.335</td>\n",
       "      <td>1144</td>\n",
       "      <td>42</td>\n",
       "      <td>1.625</td>\n",
       "      <td>0.061</td>\n",
       "    </tr>\n",
       "  </tbody>\n",
       "</table>\n",
       "</div>"
      ],
      "text/plain": [
       "      Attrition_Flag  Customer_Age Gender  Dependent_count Education_Level  \\\n",
       "0  Existing Customer            45      M                3     High School   \n",
       "\n",
       "  Marital_Status Income_Category Card_Category  Months_on_book  \\\n",
       "0        Married     $60K - $80K          Blue              39   \n",
       "\n",
       "   Total_Relationship_Count  Months_Inactive_12_mon  Contacts_Count_12_mon  \\\n",
       "0                         5                       1                      3   \n",
       "\n",
       "   Credit_Limit  Total_Revolving_Bal  Avg_Open_To_Buy  Total_Amt_Chng_Q4_Q1  \\\n",
       "0       12691.0                  777          11914.0                 1.335   \n",
       "\n",
       "   Total_Trans_Amt  Total_Trans_Ct  Total_Ct_Chng_Q4_Q1  Avg_Utilization_Ratio  \n",
       "0             1144              42                1.625                  0.061  "
      ]
     },
     "execution_count": 3,
     "metadata": {},
     "output_type": "execute_result"
    }
   ],
   "source": [
    "# dropping irrelevant columns\n",
    "data = data.drop(columns=[\"CLIENTNUM\", \"Naive_Bayes_Classifier_Attrition_Flag_Card_Category_Contacts_Count_12_mon_Dependent_count_Education_Level_Months_Inactive_12_mon_1\", \"Naive_Bayes_Classifier_Attrition_Flag_Card_Category_Contacts_Count_12_mon_Dependent_count_Education_Level_Months_Inactive_12_mon_2\"], axis=1)\n",
    "data.head(1)"
   ]
  },
  {
   "cell_type": "code",
   "execution_count": 4,
   "metadata": {},
   "outputs": [
    {
     "data": {
      "text/plain": [
       "Index(['attrition_flag', 'customer_age', 'gender', 'dependent_count',\n",
       "       'education_level', 'marital_status', 'income_category', 'card_category',\n",
       "       'months_on_book', 'total_relationship_count', 'months_inactive_12_mon',\n",
       "       'contacts_count_12_mon', 'credit_limit', 'total_revolving_bal',\n",
       "       'avg_open_to_buy', 'total_amt_change_q4_q1', 'total_trans_amt',\n",
       "       'total_trans_count', 'total_count_change_q4_q1',\n",
       "       'avg_utilization_ratio'],\n",
       "      dtype='object')"
      ]
     },
     "execution_count": 4,
     "metadata": {},
     "output_type": "execute_result"
    }
   ],
   "source": [
    "# tidy up and standardise column naming convention\n",
    "tidied_cols = []\n",
    "for col_name in data.columns:\n",
    "    col_name = col_name.lower()\n",
    "    if '_ct' in col_name:\n",
    "        col_name = col_name.replace('_ct', '_count')\n",
    "    if '_chng' in col_name:\n",
    "        col_name = col_name.replace('_chng', '_change')\n",
    "    tidied_cols.append( col_name )\n",
    "\n",
    "data.columns = tidied_cols.copy()\n",
    "data.columns"
   ]
  },
  {
   "cell_type": "code",
   "execution_count": 5,
   "metadata": {},
   "outputs": [],
   "source": [
    "# retrieve categorical and numerical columns\n",
    "numerical = list(data.describe().columns)\n",
    "categorical = [i for i in data.columns if i not in numerical and i != \"attrition_flag\"]"
   ]
  },
  {
   "cell_type": "markdown",
   "metadata": {},
   "source": [
    "### Splitting into train test split"
   ]
  },
  {
   "cell_type": "code",
   "execution_count": 6,
   "metadata": {
    "scrolled": false
   },
   "outputs": [
    {
     "name": "stdout",
     "output_type": "stream",
     "text": [
      "<class 'pandas.core.frame.DataFrame'>\n",
      "RangeIndex: 10127 entries, 0 to 10126\n",
      "Data columns (total 19 columns):\n",
      " #   Column                    Non-Null Count  Dtype  \n",
      "---  ------                    --------------  -----  \n",
      " 0   customer_age              10127 non-null  int64  \n",
      " 1   gender                    10127 non-null  object \n",
      " 2   dependent_count           10127 non-null  int64  \n",
      " 3   education_level           10127 non-null  object \n",
      " 4   marital_status            10127 non-null  object \n",
      " 5   income_category           10127 non-null  object \n",
      " 6   card_category             10127 non-null  object \n",
      " 7   months_on_book            10127 non-null  int64  \n",
      " 8   total_relationship_count  10127 non-null  int64  \n",
      " 9   months_inactive_12_mon    10127 non-null  int64  \n",
      " 10  contacts_count_12_mon     10127 non-null  int64  \n",
      " 11  credit_limit              10127 non-null  float64\n",
      " 12  total_revolving_bal       10127 non-null  int64  \n",
      " 13  avg_open_to_buy           10127 non-null  float64\n",
      " 14  total_amt_change_q4_q1    10127 non-null  float64\n",
      " 15  total_trans_amt           10127 non-null  int64  \n",
      " 16  total_trans_count         10127 non-null  int64  \n",
      " 17  total_count_change_q4_q1  10127 non-null  float64\n",
      " 18  avg_utilization_ratio     10127 non-null  float64\n",
      "dtypes: float64(5), int64(9), object(5)\n",
      "memory usage: 1.5+ MB\n"
     ]
    }
   ],
   "source": [
    "y = data[[\"attrition_flag\"]]\n",
    "x = data.drop(\"attrition_flag\", axis=1)\n",
    "x.info()"
   ]
  },
  {
   "cell_type": "code",
   "execution_count": 7,
   "metadata": {},
   "outputs": [],
   "source": [
    "x_train, x_test, y_train, y_test = train_test_split(x, y, test_size = 0.2, stratify = y, random_state = 2021)"
   ]
  },
  {
   "cell_type": "markdown",
   "metadata": {},
   "source": [
    "# 2. Data Cleaning"
   ]
  },
  {
   "cell_type": "markdown",
   "metadata": {},
   "source": [
    "### Impute unknown values"
   ]
  },
  {
   "cell_type": "code",
   "execution_count": 8,
   "metadata": {},
   "outputs": [],
   "source": [
    "def impute_unknown(df_x):\n",
    "    \"\"\"\n",
    "        Imputes unknown values with their mode\n",
    "    \"\"\"\n",
    "    x = df_x.copy()\n",
    "\n",
    "    marital_status_mode = x[\"marital_status\"].mode()[0]\n",
    "    x[\"marital_status\"] = x[\"marital_status\"].replace(\"Unknown\", marital_status_mode)\n",
    "    education_level_mode = x[\"education_level\"].mode()[0]\n",
    "    x[\"education_level\"] = x[\"education_level\"].replace(\"Unknown\", education_level_mode)\n",
    "    income_category_mode = x[\"income_category\"].mode()[0]\n",
    "    x[\"income_category\"] = x[\"income_category\"].replace(\"Unknown\", income_category_mode)\n",
    "    \n",
    "    return x\n",
    "\n",
    "x_train = impute_unknown(x_train)\n",
    "x_test = impute_unknown(x_test)"
   ]
  },
  {
   "cell_type": "markdown",
   "metadata": {},
   "source": [
    "# 3. Feature Engineering"
   ]
  },
  {
   "cell_type": "code",
   "execution_count": 9,
   "metadata": {},
   "outputs": [],
   "source": [
    "def feature_engineering(df_x, df_y):\n",
    "    x = df_x.copy()\n",
    "    y = df_y.copy()\n",
    "    \n",
    "    # Binary Encoding — features with binary categories  \n",
    "    attrition_mapper = {\"Existing Customer\":0, \"Attrited Customer\":1}\n",
    "    y[\"attrition_flag\"] = y[\"attrition_flag\"].replace(attrition_mapper)\n",
    "    \n",
    "    gender_mapper = {\"F\":0, \"M\":1}\n",
    "    x[\"gender\"] = x[\"gender\"].replace(gender_mapper)\n",
    "    \n",
    "    # One Hot Encoding — features with nominal categories\n",
    "    onehot_enc = OneHotEncoder(handle_unknown='ignore', sparse=False)\n",
    "    values = onehot_enc.fit_transform(x[[\"marital_status\"]])\n",
    "    labels = np.array([\"divorced\", \"married\", \"single\"]).ravel()\n",
    "    marital_status_df = pd.DataFrame(values, columns=labels)\n",
    "\n",
    "    x.reset_index(drop=True, inplace=True)\n",
    "    marital_status_df.reset_index(drop=True, inplace=True)\n",
    "    x = pd.concat([x, marital_status_df], axis=1)\n",
    "    x.drop(\"marital_status\", axis=1, inplace=True)\n",
    "    \n",
    "    # Ordinal Encoding — features with ordinal categories\n",
    "    edu_level_mapper = {\"Doctorate\":1, \"Post-Graduate\":2, \"Graduate\":3, \"College\":4, \"High School\":5, \"Uneducated\":6}\n",
    "    x[\"education_level\"] = x[\"education_level\"].replace(edu_level_mapper)\n",
    "\n",
    "    income_cat_mapper = {\"$120K +\":1, \"$80K - $120K\":2, \"$60K - $80K\":3, \"$40K - $60K\":4, \"Less than $40K\":5}\n",
    "    x[\"income_category\"] = x[\"income_category\"].replace(income_cat_mapper)\n",
    "\n",
    "    card_cat_mapper = {\"Platinum\":1, \"Gold\":2, \"Silver\":3, \"Blue\":4}\n",
    "    x[\"card_category\"] = x[\"card_category\"].replace(card_cat_mapper)\n",
    "    \n",
    "    return x, y\n",
    "\n",
    "x_train, y_train = feature_engineering(x_train, y_train)\n",
    "x_test, y_test = feature_engineering(x_test, y_test)"
   ]
  },
  {
   "cell_type": "markdown",
   "metadata": {},
   "source": [
    "# 4. Feature Selection"
   ]
  },
  {
   "cell_type": "code",
   "execution_count": 10,
   "metadata": {},
   "outputs": [],
   "source": [
    "def retrieve_feature_importance(importance, names):\n",
    "    feature_importance = np.array(importance)\n",
    "    feature_names = np.array(names)\n",
    "\n",
    "    data = {'feature_name':feature_names,'feature_importance':feature_importance}\n",
    "    feature_importance_df = pd.DataFrame(data)\n",
    "\n",
    "    feature_importance_df.sort_values(by=['feature_importance'], ascending=False, inplace=True)\n",
    "    return feature_importance_df.reset_index(drop=True)"
   ]
  },
  {
   "cell_type": "markdown",
   "metadata": {},
   "source": [
    "## 4.1 RandomForestClassifier\n",
    "---"
   ]
  },
  {
   "cell_type": "code",
   "execution_count": 11,
   "metadata": {},
   "outputs": [
    {
     "data": {
      "text/plain": [
       "RandomForestClassifier(n_estimators=1000, random_state=2021)"
      ]
     },
     "execution_count": 11,
     "metadata": {},
     "output_type": "execute_result"
    }
   ],
   "source": [
    "from sklearn.ensemble import RandomForestClassifier\n",
    "\n",
    "rf_clf = RandomForestClassifier(n_estimators=1000, random_state=2021)\n",
    "rf_clf.fit(x_train, y_train.values.ravel() )"
   ]
  },
  {
   "cell_type": "code",
   "execution_count": 12,
   "metadata": {},
   "outputs": [
    {
     "data": {
      "text/html": [
       "<div>\n",
       "<style scoped>\n",
       "    .dataframe tbody tr th:only-of-type {\n",
       "        vertical-align: middle;\n",
       "    }\n",
       "\n",
       "    .dataframe tbody tr th {\n",
       "        vertical-align: top;\n",
       "    }\n",
       "\n",
       "    .dataframe thead th {\n",
       "        text-align: right;\n",
       "    }\n",
       "</style>\n",
       "<table border=\"1\" class=\"dataframe\">\n",
       "  <thead>\n",
       "    <tr style=\"text-align: right;\">\n",
       "      <th></th>\n",
       "      <th>feature_name</th>\n",
       "      <th>feature_importance</th>\n",
       "    </tr>\n",
       "  </thead>\n",
       "  <tbody>\n",
       "    <tr>\n",
       "      <th>0</th>\n",
       "      <td>total_trans_amt</td>\n",
       "      <td>0.188308</td>\n",
       "    </tr>\n",
       "    <tr>\n",
       "      <th>1</th>\n",
       "      <td>total_trans_count</td>\n",
       "      <td>0.163524</td>\n",
       "    </tr>\n",
       "    <tr>\n",
       "      <th>2</th>\n",
       "      <td>total_count_change_q4_q1</td>\n",
       "      <td>0.113568</td>\n",
       "    </tr>\n",
       "    <tr>\n",
       "      <th>3</th>\n",
       "      <td>total_revolving_bal</td>\n",
       "      <td>0.107599</td>\n",
       "    </tr>\n",
       "    <tr>\n",
       "      <th>4</th>\n",
       "      <td>avg_utilization_ratio</td>\n",
       "      <td>0.062619</td>\n",
       "    </tr>\n",
       "    <tr>\n",
       "      <th>5</th>\n",
       "      <td>total_amt_change_q4_q1</td>\n",
       "      <td>0.062213</td>\n",
       "    </tr>\n",
       "    <tr>\n",
       "      <th>6</th>\n",
       "      <td>total_relationship_count</td>\n",
       "      <td>0.061380</td>\n",
       "    </tr>\n",
       "    <tr>\n",
       "      <th>7</th>\n",
       "      <td>customer_age</td>\n",
       "      <td>0.034274</td>\n",
       "    </tr>\n",
       "    <tr>\n",
       "      <th>8</th>\n",
       "      <td>credit_limit</td>\n",
       "      <td>0.034231</td>\n",
       "    </tr>\n",
       "    <tr>\n",
       "      <th>9</th>\n",
       "      <td>avg_open_to_buy</td>\n",
       "      <td>0.032093</td>\n",
       "    </tr>\n",
       "    <tr>\n",
       "      <th>10</th>\n",
       "      <td>contacts_count_12_mon</td>\n",
       "      <td>0.028037</td>\n",
       "    </tr>\n",
       "    <tr>\n",
       "      <th>11</th>\n",
       "      <td>months_inactive_12_mon</td>\n",
       "      <td>0.027337</td>\n",
       "    </tr>\n",
       "    <tr>\n",
       "      <th>12</th>\n",
       "      <td>months_on_book</td>\n",
       "      <td>0.025858</td>\n",
       "    </tr>\n",
       "    <tr>\n",
       "      <th>13</th>\n",
       "      <td>dependent_count</td>\n",
       "      <td>0.013452</td>\n",
       "    </tr>\n",
       "    <tr>\n",
       "      <th>14</th>\n",
       "      <td>education_level</td>\n",
       "      <td>0.011007</td>\n",
       "    </tr>\n",
       "    <tr>\n",
       "      <th>15</th>\n",
       "      <td>income_category</td>\n",
       "      <td>0.009952</td>\n",
       "    </tr>\n",
       "    <tr>\n",
       "      <th>16</th>\n",
       "      <td>gender</td>\n",
       "      <td>0.008948</td>\n",
       "    </tr>\n",
       "    <tr>\n",
       "      <th>17</th>\n",
       "      <td>married</td>\n",
       "      <td>0.005337</td>\n",
       "    </tr>\n",
       "    <tr>\n",
       "      <th>18</th>\n",
       "      <td>single</td>\n",
       "      <td>0.004983</td>\n",
       "    </tr>\n",
       "    <tr>\n",
       "      <th>19</th>\n",
       "      <td>card_category</td>\n",
       "      <td>0.003208</td>\n",
       "    </tr>\n",
       "    <tr>\n",
       "      <th>20</th>\n",
       "      <td>divorced</td>\n",
       "      <td>0.002073</td>\n",
       "    </tr>\n",
       "  </tbody>\n",
       "</table>\n",
       "</div>"
      ],
      "text/plain": [
       "                feature_name  feature_importance\n",
       "0            total_trans_amt            0.188308\n",
       "1          total_trans_count            0.163524\n",
       "2   total_count_change_q4_q1            0.113568\n",
       "3        total_revolving_bal            0.107599\n",
       "4      avg_utilization_ratio            0.062619\n",
       "5     total_amt_change_q4_q1            0.062213\n",
       "6   total_relationship_count            0.061380\n",
       "7               customer_age            0.034274\n",
       "8               credit_limit            0.034231\n",
       "9            avg_open_to_buy            0.032093\n",
       "10     contacts_count_12_mon            0.028037\n",
       "11    months_inactive_12_mon            0.027337\n",
       "12            months_on_book            0.025858\n",
       "13           dependent_count            0.013452\n",
       "14           education_level            0.011007\n",
       "15           income_category            0.009952\n",
       "16                    gender            0.008948\n",
       "17                   married            0.005337\n",
       "18                    single            0.004983\n",
       "19             card_category            0.003208\n",
       "20                  divorced            0.002073"
      ]
     },
     "execution_count": 12,
     "metadata": {},
     "output_type": "execute_result"
    }
   ],
   "source": [
    "feat_impt_df = retrieve_feature_importance(rf_clf.feature_importances_, x_train.columns)\n",
    "feat_impt_df"
   ]
  },
  {
   "cell_type": "markdown",
   "metadata": {},
   "source": [
    "## 4.2 Lasso Regression\n",
    "---"
   ]
  },
  {
   "cell_type": "code",
   "execution_count": 13,
   "metadata": {
    "scrolled": true
   },
   "outputs": [
    {
     "name": "stdout",
     "output_type": "stream",
     "text": [
      "                          feature_name  feature_importance\n",
      "alpha=0.0001                                              \n",
      "0             total_count_change_q4_q1        2.959714e-01\n",
      "1                               gender        8.812127e-02\n",
      "2               total_amt_change_q4_q1        4.513658e-02\n",
      "3               months_inactive_12_mon        4.109820e-02\n",
      "4             total_relationship_count        4.092733e-02\n",
      "5                contacts_count_12_mon        4.002014e-02\n",
      "6                              married        3.516924e-02\n",
      "7                        card_category        3.398110e-02\n",
      "8                avg_utilization_ratio        1.728211e-02\n",
      "9                      income_category        1.536012e-02\n",
      "10                     dependent_count        1.263369e-02\n",
      "11                   total_trans_count        1.014859e-02\n",
      "12                              single        4.911619e-03\n",
      "13                     education_level        4.029209e-03\n",
      "14                      months_on_book        5.286513e-04\n",
      "15                        customer_age        1.547697e-04\n",
      "16                 total_revolving_bal        9.480677e-05\n",
      "17                     total_trans_amt        3.637840e-05\n",
      "18                        credit_limit        1.683985e-06\n",
      "19                     avg_open_to_buy        3.624987e-07\n",
      "20                            divorced        0.000000e+00\n",
      "\n",
      "                         feature_name  feature_importance\n",
      "alpha=0.001                                              \n",
      "0            total_count_change_q4_q1        2.863094e-01\n",
      "1                              gender        7.462822e-02\n",
      "2            total_relationship_count        4.088121e-02\n",
      "3              months_inactive_12_mon        4.038162e-02\n",
      "4               contacts_count_12_mon        3.949513e-02\n",
      "5                             married        3.334012e-02\n",
      "6              total_amt_change_q4_q1        3.157777e-02\n",
      "7                       card_category        2.089741e-02\n",
      "8                     dependent_count        1.240167e-02\n",
      "9                   total_trans_count        1.012913e-02\n",
      "10                    income_category        9.998462e-03\n",
      "11                    education_level        3.662218e-03\n",
      "12                             single        2.743675e-03\n",
      "13                     months_on_book        5.210759e-04\n",
      "14                       customer_age        9.984990e-05\n",
      "15                total_revolving_bal        9.926814e-05\n",
      "16                    total_trans_amt        3.632248e-05\n",
      "17                       credit_limit        1.078572e-06\n",
      "18                    avg_open_to_buy        3.790763e-07\n",
      "19              avg_utilization_ratio        0.000000e+00\n",
      "20                           divorced        0.000000e+00\n",
      "\n",
      "                        feature_name  feature_importance\n",
      "alpha=0.01                                              \n",
      "0           total_count_change_q4_q1        1.474720e-01\n",
      "1           total_relationship_count        3.903873e-02\n",
      "2              contacts_count_12_mon        3.439012e-02\n",
      "3             months_inactive_12_mon        3.359229e-02\n",
      "4                             gender        1.336611e-02\n",
      "5                  total_trans_count        9.928533e-03\n",
      "6                    dependent_count        7.315988e-03\n",
      "7                    income_category        1.299267e-03\n",
      "8                            married        4.339717e-04\n",
      "9                     months_on_book        4.133897e-04\n",
      "10               total_revolving_bal        1.058659e-04\n",
      "11                   total_trans_amt        3.492821e-05\n",
      "12                      credit_limit        1.028555e-06\n",
      "13                   avg_open_to_buy        4.006299e-07\n",
      "14                          divorced        0.000000e+00\n",
      "15             avg_utilization_ratio        0.000000e+00\n",
      "16                      customer_age        0.000000e+00\n",
      "17            total_amt_change_q4_q1        0.000000e+00\n",
      "18                     card_category        0.000000e+00\n",
      "19                   education_level        0.000000e+00\n",
      "20                            single        0.000000e+00\n",
      "\n",
      "                       feature_name  feature_importance\n",
      "alpha=0.1                                              \n",
      "0                 total_trans_count        1.010440e-02\n",
      "1               total_revolving_bal        1.163521e-04\n",
      "2                   total_trans_amt        3.987740e-05\n",
      "3                      credit_limit        1.101779e-06\n",
      "4                   avg_open_to_buy        4.123975e-07\n",
      "5                           married        0.000000e+00\n",
      "6                          divorced        0.000000e+00\n",
      "7             avg_utilization_ratio        0.000000e+00\n",
      "8          total_count_change_q4_q1        0.000000e+00\n",
      "9            total_amt_change_q4_q1        0.000000e+00\n",
      "10                     customer_age        0.000000e+00\n",
      "11                           gender        0.000000e+00\n",
      "12            contacts_count_12_mon        0.000000e+00\n",
      "13           months_inactive_12_mon        0.000000e+00\n",
      "14         total_relationship_count        0.000000e+00\n",
      "15                   months_on_book        0.000000e+00\n",
      "16                    card_category        0.000000e+00\n",
      "17                  income_category        0.000000e+00\n",
      "18                  education_level        0.000000e+00\n",
      "19                  dependent_count        0.000000e+00\n",
      "20                           single        0.000000e+00\n",
      "\n",
      "                     feature_name  feature_importance\n",
      "alpha=1                                              \n",
      "0               total_trans_count        5.328501e-03\n",
      "1             total_revolving_bal        1.154738e-04\n",
      "2                 total_trans_amt        1.289807e-05\n",
      "3                 avg_open_to_buy        1.087231e-07\n",
      "4                    customer_age        0.000000e+00\n",
      "5                         married        0.000000e+00\n",
      "6                        divorced        0.000000e+00\n",
      "7           avg_utilization_ratio        0.000000e+00\n",
      "8        total_count_change_q4_q1        0.000000e+00\n",
      "9          total_amt_change_q4_q1        0.000000e+00\n",
      "10                   credit_limit        0.000000e+00\n",
      "11                         gender        0.000000e+00\n",
      "12          contacts_count_12_mon        0.000000e+00\n",
      "13         months_inactive_12_mon        0.000000e+00\n",
      "14       total_relationship_count        0.000000e+00\n",
      "15                 months_on_book        0.000000e+00\n",
      "16                  card_category        0.000000e+00\n",
      "17                income_category        0.000000e+00\n",
      "18                education_level        0.000000e+00\n",
      "19                dependent_count        0.000000e+00\n",
      "20                         single        0.000000e+00\n",
      "\n"
     ]
    }
   ],
   "source": [
    "from sklearn.linear_model import Lasso\n",
    "\n",
    "alpha_param = [1e-4, 1e-3, 1e-2, 1e-1, 1]\n",
    "\n",
    "for alpha in alpha_param:\n",
    "    lasso = Lasso(alpha=alpha)\n",
    "    lasso.fit(x_train, y_train)\n",
    "\n",
    "    importance = np.abs( lasso.coef_ )\n",
    "\n",
    "    feat_impt_df = retrieve_feature_importance(importance, x_train.columns)\n",
    "    feat_impt_df.index.rename('alpha='+str(alpha), inplace=True) \n",
    "    print( feat_impt_df )\n",
    "    print()"
   ]
  },
  {
   "cell_type": "markdown",
   "metadata": {},
   "source": [
    "## 4.3 XGBoost\n",
    "---"
   ]
  },
  {
   "cell_type": "code",
   "execution_count": 14,
   "metadata": {
    "scrolled": false
   },
   "outputs": [
    {
     "name": "stdout",
     "output_type": "stream",
     "text": [
      "[22:09:51] WARNING: /Users/ktietz/demo/mc3/conda-bld/xgboost-split_1628682908089/work/src/learner.cc:1061: Starting in XGBoost 1.3.0, the default evaluation metric used with the objective 'binary:logistic' was changed from 'error' to 'logloss'. Explicitly set eval_metric if you'd like to restore the old behavior.\n"
     ]
    },
    {
     "data": {
      "text/plain": [
       "XGBClassifier(base_score=0.5, booster='gbtree', colsample_bylevel=1,\n",
       "              colsample_bynode=1, colsample_bytree=1, gamma=0, gpu_id=-1,\n",
       "              importance_type='gain', interaction_constraints='',\n",
       "              learning_rate=0.300000012, max_delta_step=0, max_depth=6,\n",
       "              min_child_weight=1, missing=nan, monotone_constraints='()',\n",
       "              n_estimators=100, n_jobs=8, num_parallel_tree=1,\n",
       "              random_state=2021, reg_alpha=0, reg_lambda=1, scale_pos_weight=1,\n",
       "              subsample=1, tree_method='exact', use_label_encoder=False,\n",
       "              validate_parameters=1, verbosity=None)"
      ]
     },
     "execution_count": 14,
     "metadata": {},
     "output_type": "execute_result"
    }
   ],
   "source": [
    "from xgboost import XGBClassifier\n",
    "\n",
    "xgb = XGBClassifier(use_label_encoder=False,\n",
    "                    random_state=2021)\n",
    "                    \n",
    "xgb.fit(x_train, y_train)"
   ]
  },
  {
   "cell_type": "code",
   "execution_count": 15,
   "metadata": {
    "scrolled": true
   },
   "outputs": [
    {
     "data": {
      "text/html": [
       "<div>\n",
       "<style scoped>\n",
       "    .dataframe tbody tr th:only-of-type {\n",
       "        vertical-align: middle;\n",
       "    }\n",
       "\n",
       "    .dataframe tbody tr th {\n",
       "        vertical-align: top;\n",
       "    }\n",
       "\n",
       "    .dataframe thead th {\n",
       "        text-align: right;\n",
       "    }\n",
       "</style>\n",
       "<table border=\"1\" class=\"dataframe\">\n",
       "  <thead>\n",
       "    <tr style=\"text-align: right;\">\n",
       "      <th></th>\n",
       "      <th>feature_name</th>\n",
       "      <th>feature_importance</th>\n",
       "    </tr>\n",
       "  </thead>\n",
       "  <tbody>\n",
       "    <tr>\n",
       "      <th>0</th>\n",
       "      <td>total_trans_count</td>\n",
       "      <td>0.218843</td>\n",
       "    </tr>\n",
       "    <tr>\n",
       "      <th>1</th>\n",
       "      <td>total_revolving_bal</td>\n",
       "      <td>0.192140</td>\n",
       "    </tr>\n",
       "    <tr>\n",
       "      <th>2</th>\n",
       "      <td>total_relationship_count</td>\n",
       "      <td>0.121285</td>\n",
       "    </tr>\n",
       "    <tr>\n",
       "      <th>3</th>\n",
       "      <td>total_trans_amt</td>\n",
       "      <td>0.066119</td>\n",
       "    </tr>\n",
       "    <tr>\n",
       "      <th>4</th>\n",
       "      <td>total_count_change_q4_q1</td>\n",
       "      <td>0.052782</td>\n",
       "    </tr>\n",
       "    <tr>\n",
       "      <th>5</th>\n",
       "      <td>months_inactive_12_mon</td>\n",
       "      <td>0.051975</td>\n",
       "    </tr>\n",
       "    <tr>\n",
       "      <th>6</th>\n",
       "      <td>customer_age</td>\n",
       "      <td>0.041091</td>\n",
       "    </tr>\n",
       "    <tr>\n",
       "      <th>7</th>\n",
       "      <td>total_amt_change_q4_q1</td>\n",
       "      <td>0.032318</td>\n",
       "    </tr>\n",
       "    <tr>\n",
       "      <th>8</th>\n",
       "      <td>contacts_count_12_mon</td>\n",
       "      <td>0.029804</td>\n",
       "    </tr>\n",
       "    <tr>\n",
       "      <th>9</th>\n",
       "      <td>gender</td>\n",
       "      <td>0.029795</td>\n",
       "    </tr>\n",
       "    <tr>\n",
       "      <th>10</th>\n",
       "      <td>married</td>\n",
       "      <td>0.027795</td>\n",
       "    </tr>\n",
       "    <tr>\n",
       "      <th>11</th>\n",
       "      <td>avg_open_to_buy</td>\n",
       "      <td>0.021071</td>\n",
       "    </tr>\n",
       "    <tr>\n",
       "      <th>12</th>\n",
       "      <td>card_category</td>\n",
       "      <td>0.019058</td>\n",
       "    </tr>\n",
       "    <tr>\n",
       "      <th>13</th>\n",
       "      <td>credit_limit</td>\n",
       "      <td>0.018915</td>\n",
       "    </tr>\n",
       "    <tr>\n",
       "      <th>14</th>\n",
       "      <td>dependent_count</td>\n",
       "      <td>0.014940</td>\n",
       "    </tr>\n",
       "    <tr>\n",
       "      <th>15</th>\n",
       "      <td>avg_utilization_ratio</td>\n",
       "      <td>0.014323</td>\n",
       "    </tr>\n",
       "    <tr>\n",
       "      <th>16</th>\n",
       "      <td>months_on_book</td>\n",
       "      <td>0.012350</td>\n",
       "    </tr>\n",
       "    <tr>\n",
       "      <th>17</th>\n",
       "      <td>divorced</td>\n",
       "      <td>0.011351</td>\n",
       "    </tr>\n",
       "    <tr>\n",
       "      <th>18</th>\n",
       "      <td>education_level</td>\n",
       "      <td>0.010177</td>\n",
       "    </tr>\n",
       "    <tr>\n",
       "      <th>19</th>\n",
       "      <td>income_category</td>\n",
       "      <td>0.008056</td>\n",
       "    </tr>\n",
       "    <tr>\n",
       "      <th>20</th>\n",
       "      <td>single</td>\n",
       "      <td>0.005812</td>\n",
       "    </tr>\n",
       "  </tbody>\n",
       "</table>\n",
       "</div>"
      ],
      "text/plain": [
       "                feature_name  feature_importance\n",
       "0          total_trans_count            0.218843\n",
       "1        total_revolving_bal            0.192140\n",
       "2   total_relationship_count            0.121285\n",
       "3            total_trans_amt            0.066119\n",
       "4   total_count_change_q4_q1            0.052782\n",
       "5     months_inactive_12_mon            0.051975\n",
       "6               customer_age            0.041091\n",
       "7     total_amt_change_q4_q1            0.032318\n",
       "8      contacts_count_12_mon            0.029804\n",
       "9                     gender            0.029795\n",
       "10                   married            0.027795\n",
       "11           avg_open_to_buy            0.021071\n",
       "12             card_category            0.019058\n",
       "13              credit_limit            0.018915\n",
       "14           dependent_count            0.014940\n",
       "15     avg_utilization_ratio            0.014323\n",
       "16            months_on_book            0.012350\n",
       "17                  divorced            0.011351\n",
       "18           education_level            0.010177\n",
       "19           income_category            0.008056\n",
       "20                    single            0.005812"
      ]
     },
     "execution_count": 15,
     "metadata": {},
     "output_type": "execute_result"
    }
   ],
   "source": [
    "feat_impt_df = retrieve_feature_importance(xgb.feature_importances_, x_train.columns)\n",
    "feat_impt_df"
   ]
  },
  {
   "cell_type": "markdown",
   "metadata": {},
   "source": [
    "# 5. Feature Transformation and Feature Scaling"
   ]
  },
  {
   "cell_type": "code",
   "execution_count": 16,
   "metadata": {},
   "outputs": [],
   "source": [
    "def transformation_scaling(df_x, df_y):\n",
    "    x = df_x.copy()\n",
    "    y = df_y.copy()\n",
    "    \n",
    "    # Feature Transformation — Log Transformation for skewed data\n",
    "    skewed = [\"credit_limit\", \"total_amt_change_q4_q1\", \"total_trans_amt\", \"total_count_change_q4_q1\"]\n",
    "\n",
    "    for skewed_col in skewed:\n",
    "        x[skewed_col] = np.log(x[skewed_col].mask(x[skewed_col] <=0)).fillna(0)\n",
    "\n",
    "    # Feature Scaling - normalise features\n",
    "    scaler = MinMaxScaler()\n",
    "    x[numerical] = scaler.fit_transform(x[numerical]) \n",
    "    \n",
    "    return x, y\n",
    "\n",
    "x_train, y_train = transformation_scaling(x_train, y_train)\n",
    "x_test, y_test = transformation_scaling(x_test, y_test)"
   ]
  },
  {
   "cell_type": "markdown",
   "metadata": {},
   "source": [
    "# 6. Exporting preprocessed Train Test sets to csv files"
   ]
  },
  {
   "cell_type": "code",
   "execution_count": 21,
   "metadata": {},
   "outputs": [
    {
     "name": "stdout",
     "output_type": "stream",
     "text": [
      "Succesfully exported\n"
     ]
    }
   ],
   "source": [
    "x_train.reset_index(drop=True, inplace=True)\n",
    "y_train.reset_index(drop=True, inplace=True)\n",
    "train = pd.concat([x_train, y_train], axis=1)\n",
    "\n",
    "x_test.reset_index(drop=True, inplace=True)\n",
    "y_test.reset_index(drop=True, inplace=True)\n",
    "test = pd.concat([x_test, y_test], axis=1)\n",
    "\n",
    "try:\n",
    "    train.to_csv(\"./data/train.csv\", index=False)\n",
    "    test.to_csv(\"./data/test.csv\", index=False)\n",
    "    print('Succesfully exported')\n",
    "except:\n",
    "    print('Error')"
   ]
  }
 ],
 "metadata": {
  "interpreter": {
   "hash": "5f292722d6d50c2426abae6fd15a85386b49c5393ec98f1c35f79e4e4dd7448b"
  },
  "kernelspec": {
   "display_name": "Python 3 (ipykernel)",
   "language": "python",
   "name": "python3"
  },
  "language_info": {
   "codemirror_mode": {
    "name": "ipython",
    "version": 3
   },
   "file_extension": ".py",
   "mimetype": "text/x-python",
   "name": "python",
   "nbconvert_exporter": "python",
   "pygments_lexer": "ipython3",
   "version": "3.8.10"
  }
 },
 "nbformat": 4,
 "nbformat_minor": 2
}
