{
 "cells": [
  {
   "cell_type": "markdown",
   "id": "d51dca08",
   "metadata": {},
   "source": [
    "### EDIT LOG\n",
    "v1 \n",
    "- simple fitting into dataset first, did encoding, but wrong kinds\n",
    "- performed SMOTE on train data\n",
    "\n",
    "v2 \n",
    "- encoded categorical columns\n",
    "- grouped professions in the column due to high cardinality (will try with this new reduced cardinality)\n",
    "- try feature selection to reduce number of columns in next version (chi-square and info gain)\n",
    "\n",
    "v3\n",
    "- tried feature selection (pca and chi-square) but the eval metrics results turn out to be worse\n",
    "\n",
    "future\n",
    "- (wip, thoughts) finetune the xgboost parameters\n",
    "- include k-fold"
   ]
  },
  {
   "cell_type": "code",
   "execution_count": 1,
   "id": "9681e448",
   "metadata": {},
   "outputs": [],
   "source": [
    "import pandas as pd\n",
    "import numpy as np\n",
    "import seaborn as sns\n",
    "import matplotlib.pyplot as plt\n",
    "%matplotlib inline\n",
    "\n",
    "from sklearn.preprocessing import LabelEncoder\n",
    "from sklearn.preprocessing import OneHotEncoder\n",
    "from sklearn.preprocessing import StandardScaler\n",
    "from category_encoders import TargetEncoder\n",
    "\n",
    "from sklearn.decomposition import PCA\n",
    "from sklearn.feature_selection import chi2\n",
    "\n",
    "from sklearn.model_selection import train_test_split\n",
    "from imblearn.over_sampling import SMOTE\n",
    "\n",
    "from xgboost import XGBClassifier\n",
    "from sklearn.metrics import confusion_matrix, precision_score, recall_score, f1_score, accuracy_score, roc_auc_score"
   ]
  },
  {
   "cell_type": "markdown",
   "id": "b2dcbfbd",
   "metadata": {},
   "source": [
    "# Reading file and tidying"
   ]
  },
  {
   "cell_type": "markdown",
   "id": "34fc010f",
   "metadata": {},
   "source": [
    "#### Reading csv file"
   ]
  },
  {
   "cell_type": "code",
   "execution_count": 2,
   "id": "b973afe6",
   "metadata": {
    "scrolled": true
   },
   "outputs": [],
   "source": [
    "df = pd.read_csv(\"loanprediction.csv\")\n",
    "# df.head()"
   ]
  },
  {
   "cell_type": "markdown",
   "id": "224ea018",
   "metadata": {},
   "source": [
    "#### Drop column(s)"
   ]
  },
  {
   "cell_type": "code",
   "execution_count": 3,
   "id": "64c9c9ee",
   "metadata": {
    "scrolled": true
   },
   "outputs": [],
   "source": [
    "df.drop(\"Id\", axis=1, inplace=True)\n",
    "# df.drop(\"state\", axis=1)\n",
    "# df.drop(\"city\", axis=1)"
   ]
  },
  {
   "cell_type": "markdown",
   "id": "8a0ee7b7",
   "metadata": {},
   "source": [
    "#### Renaming columns"
   ]
  },
  {
   "cell_type": "code",
   "execution_count": 4,
   "id": "a39cd955",
   "metadata": {
    "scrolled": false
   },
   "outputs": [],
   "source": [
    "df.columns = [\"income\", \"age\", \"experience\", \"marital_status\", \"house_ownership\", \"car_ownership\", \"profession\", \"city\", \"state\", \"current_job_years\", \"current_house_years\", \"risk_flag\"]\n",
    "# df.head()"
   ]
  },
  {
   "cell_type": "markdown",
   "id": "0bafe1fb",
   "metadata": {},
   "source": [
    "#### Check the number of unique category for each categorical column"
   ]
  },
  {
   "cell_type": "code",
   "execution_count": 5,
   "id": "2658fb6f",
   "metadata": {},
   "outputs": [],
   "source": [
    "cat_cols = [\"marital_status\", \"house_ownership\", \"car_ownership\", \"profession\", \"city\", \"state\"]\n",
    "\n",
    "# technology - Web_designer, Software_Developer, , Computer_operator, Technology_specialist\n",
    "# medical - Physician, Microbiologist, Dentist, Surgeon, Psychologist\n",
    "# analyst - Financial_Analyst, Analyst\n",
    "# engineer - Computer_hardware_engineer, Industrial_Engineer, Mechanical_engineer, Chemical_engineer, Biomedical_Engineer, Petroleum_Engineer, Design_Engineer, Civil_engineer, Engineer, Technician\n",
    "# aviation - Flight_attendant, Air_traffic_controller, Aviator\n",
    "# government - Civil_servant, Official, Politician, Army_officer, Police_officer\n",
    "# designer - Designer, Graphic_Designer, Fashion_Designer\n",
    "# court - Magistrate, Lawyer\n",
    "# architectural - Architect, Drafter\n",
    "\n",
    "\n",
    "# 'Technical_writer',\n",
    "# 'Librarian', 'Economist', \n",
    "# 'Artist', 'Surveyor', \n",
    "# 'Hotel_Manager', 'Comedian', 'Secretary', \n",
    "# 'Chartered_Accountant', 'Firefighter', \n",
    "# 'Geologist','Statistician', '\n",
    "# 'Consultant', 'Chef', 'Scientist'"
   ]
  },
  {
   "cell_type": "markdown",
   "id": "8516fbce",
   "metadata": {},
   "source": [
    "# Encoding categorical columns"
   ]
  },
  {
   "cell_type": "markdown",
   "id": "d28e3948",
   "metadata": {},
   "source": [
    "#### Label encoding categorical columns with 2 types of categories"
   ]
  },
  {
   "cell_type": "code",
   "execution_count": 6,
   "id": "d9b8260b",
   "metadata": {
    "scrolled": false
   },
   "outputs": [],
   "source": [
    "label_enc = LabelEncoder()\n",
    "df[\"marital_status\"] = label_enc.fit_transform(df[\"marital_status\"])\n",
    "df[\"car_ownership\"] = label_enc.fit_transform(df[\"car_ownership\"])"
   ]
  },
  {
   "cell_type": "markdown",
   "id": "e5503db5",
   "metadata": {},
   "source": [
    "#### One Hot Encoding `house_ownership` column & Combining back to dataframe"
   ]
  },
  {
   "cell_type": "code",
   "execution_count": 7,
   "id": "eb0c275e",
   "metadata": {},
   "outputs": [],
   "source": [
    "onehot_enc = OneHotEncoder()\n",
    "house_ownership_reshape = np.array(df[\"house_ownership\"]).reshape(-1, 1)\n",
    "house_ownership_values = onehot_enc.fit_transform(house_ownership_reshape).toarray().astype(int)\n",
    "house_ownership_labels = np.array([\"norent_noown\", \"owned\", \"rented\"]).ravel()\n",
    "house_ownership_df = pd.DataFrame(house_ownership_values, columns=house_ownership_labels)\n",
    "\n",
    "df = df.join(house_ownership_df[\"norent_noown\"])\n",
    "df = df.join(house_ownership_df[\"owned\"])\n",
    "df = df.join(house_ownership_df[\"rented\"])\n",
    "\n",
    "df.drop(\"house_ownership\", axis=1, inplace=True)"
   ]
  },
  {
   "cell_type": "markdown",
   "id": "256fdf4d",
   "metadata": {},
   "source": [
    "#### Target Encoding the high cardinality categorical columns: `profession`, `city`, `state`"
   ]
  },
  {
   "cell_type": "code",
   "execution_count": 8,
   "id": "62f5aa11",
   "metadata": {},
   "outputs": [
    {
     "name": "stderr",
     "output_type": "stream",
     "text": [
      "/Users/jonw/miniforge3/envs/ml_env/lib/python3.8/site-packages/category_encoders/utils.py:21: FutureWarning: is_categorical is deprecated and will be removed in a future version.  Use is_categorical_dtype instead\n",
      "  elif pd.api.types.is_categorical(cols):\n"
     ]
    }
   ],
   "source": [
    "# https://medium.com/analytics-vidhya/target-encoding-vs-one-hot-encoding-with-simple-examples-276a7e7b3e64\n",
    "target_enc = TargetEncoder()\n",
    "df[\"profession_encoded\"] = target_enc.fit_transform(df[\"profession\"], df[\"risk_flag\"])"
   ]
  },
  {
   "cell_type": "code",
   "execution_count": 9,
   "id": "c7b2d37f",
   "metadata": {},
   "outputs": [],
   "source": [
    "target_enc = TargetEncoder()\n",
    "df[\"city_encoded\"] = target_enc.fit_transform(df[\"city\"], df[\"risk_flag\"])"
   ]
  },
  {
   "cell_type": "code",
   "execution_count": 10,
   "id": "dd03fc2e",
   "metadata": {},
   "outputs": [],
   "source": [
    "target_enc = TargetEncoder()\n",
    "df[\"state_encoded\"] = target_enc.fit_transform(df[\"state\"], df[\"risk_flag\"])\n",
    "\n",
    "df.drop(\"profession\", axis=1, inplace=True)\n",
    "df.drop(\"city\", axis=1, inplace=True)\n",
    "df.drop(\"state\", axis=1, inplace=True)"
   ]
  },
  {
   "cell_type": "markdown",
   "id": "01d36cf9",
   "metadata": {},
   "source": [
    "#### Defining x and y (target) variables"
   ]
  },
  {
   "cell_type": "code",
   "execution_count": 11,
   "id": "7659560e",
   "metadata": {},
   "outputs": [
    {
     "data": {
      "text/html": [
       "<div>\n",
       "<style scoped>\n",
       "    .dataframe tbody tr th:only-of-type {\n",
       "        vertical-align: middle;\n",
       "    }\n",
       "\n",
       "    .dataframe tbody tr th {\n",
       "        vertical-align: top;\n",
       "    }\n",
       "\n",
       "    .dataframe thead th {\n",
       "        text-align: right;\n",
       "    }\n",
       "</style>\n",
       "<table border=\"1\" class=\"dataframe\">\n",
       "  <thead>\n",
       "    <tr style=\"text-align: right;\">\n",
       "      <th></th>\n",
       "      <th>income</th>\n",
       "      <th>age</th>\n",
       "      <th>experience</th>\n",
       "      <th>marital_status</th>\n",
       "      <th>car_ownership</th>\n",
       "      <th>current_job_years</th>\n",
       "      <th>current_house_years</th>\n",
       "      <th>norent_noown</th>\n",
       "      <th>owned</th>\n",
       "      <th>rented</th>\n",
       "      <th>profession_encoded</th>\n",
       "      <th>city_encoded</th>\n",
       "      <th>state_encoded</th>\n",
       "    </tr>\n",
       "  </thead>\n",
       "  <tbody>\n",
       "    <tr>\n",
       "      <th>0</th>\n",
       "      <td>1303834</td>\n",
       "      <td>23</td>\n",
       "      <td>3</td>\n",
       "      <td>1</td>\n",
       "      <td>0</td>\n",
       "      <td>3</td>\n",
       "      <td>13</td>\n",
       "      <td>0</td>\n",
       "      <td>0</td>\n",
       "      <td>1</td>\n",
       "      <td>0.111558</td>\n",
       "      <td>0.121554</td>\n",
       "      <td>0.154369</td>\n",
       "    </tr>\n",
       "    <tr>\n",
       "      <th>1</th>\n",
       "      <td>7574516</td>\n",
       "      <td>40</td>\n",
       "      <td>10</td>\n",
       "      <td>1</td>\n",
       "      <td>0</td>\n",
       "      <td>9</td>\n",
       "      <td>13</td>\n",
       "      <td>0</td>\n",
       "      <td>0</td>\n",
       "      <td>1</td>\n",
       "      <td>0.148427</td>\n",
       "      <td>0.122497</td>\n",
       "      <td>0.113254</td>\n",
       "    </tr>\n",
       "    <tr>\n",
       "      <th>2</th>\n",
       "      <td>3991815</td>\n",
       "      <td>66</td>\n",
       "      <td>4</td>\n",
       "      <td>0</td>\n",
       "      <td>0</td>\n",
       "      <td>4</td>\n",
       "      <td>10</td>\n",
       "      <td>0</td>\n",
       "      <td>0</td>\n",
       "      <td>1</td>\n",
       "      <td>0.134167</td>\n",
       "      <td>0.130814</td>\n",
       "      <td>0.167097</td>\n",
       "    </tr>\n",
       "    <tr>\n",
       "      <th>3</th>\n",
       "      <td>6256451</td>\n",
       "      <td>41</td>\n",
       "      <td>2</td>\n",
       "      <td>1</td>\n",
       "      <td>1</td>\n",
       "      <td>2</td>\n",
       "      <td>12</td>\n",
       "      <td>0</td>\n",
       "      <td>0</td>\n",
       "      <td>1</td>\n",
       "      <td>0.148427</td>\n",
       "      <td>0.326194</td>\n",
       "      <td>0.142550</td>\n",
       "    </tr>\n",
       "    <tr>\n",
       "      <th>4</th>\n",
       "      <td>5768871</td>\n",
       "      <td>47</td>\n",
       "      <td>11</td>\n",
       "      <td>1</td>\n",
       "      <td>0</td>\n",
       "      <td>3</td>\n",
       "      <td>14</td>\n",
       "      <td>0</td>\n",
       "      <td>0</td>\n",
       "      <td>1</td>\n",
       "      <td>0.115794</td>\n",
       "      <td>0.121137</td>\n",
       "      <td>0.103163</td>\n",
       "    </tr>\n",
       "  </tbody>\n",
       "</table>\n",
       "</div>"
      ],
      "text/plain": [
       "    income  age  experience  marital_status  car_ownership  current_job_years  \\\n",
       "0  1303834   23           3               1              0                  3   \n",
       "1  7574516   40          10               1              0                  9   \n",
       "2  3991815   66           4               0              0                  4   \n",
       "3  6256451   41           2               1              1                  2   \n",
       "4  5768871   47          11               1              0                  3   \n",
       "\n",
       "   current_house_years  norent_noown  owned  rented  profession_encoded  \\\n",
       "0                   13             0      0       1            0.111558   \n",
       "1                   13             0      0       1            0.148427   \n",
       "2                   10             0      0       1            0.134167   \n",
       "3                   12             0      0       1            0.148427   \n",
       "4                   14             0      0       1            0.115794   \n",
       "\n",
       "   city_encoded  state_encoded  \n",
       "0      0.121554       0.154369  \n",
       "1      0.122497       0.113254  \n",
       "2      0.130814       0.167097  \n",
       "3      0.326194       0.142550  \n",
       "4      0.121137       0.103163  "
      ]
     },
     "execution_count": 11,
     "metadata": {},
     "output_type": "execute_result"
    }
   ],
   "source": [
    "y = df[\"risk_flag\"]\n",
    "x = df.drop(\"risk_flag\", axis=1)\n",
    "x.head()"
   ]
  },
  {
   "cell_type": "markdown",
   "id": "a0d7531f",
   "metadata": {},
   "source": [
    "#### Perform Chi-Square for feature selection\n",
    "H0 :- There is no relationship between categorical feature and target variable\\\n",
    "H1 :- There is some relationship between categorical feature and target variable\\\n",
    "If p-value ≥0.05, the null hypothesis is not rejected and there is no any relationship between target variable and categorical features."
   ]
  },
  {
   "cell_type": "code",
   "execution_count": 12,
   "id": "38d57263",
   "metadata": {},
   "outputs": [
    {
     "data": {
      "image/png": "[encoded data removed]",
      "text/plain": [
       "<Figure size 432x288 with 1 Axes>"
      ]
     },
     "metadata": {
      "needs_background": "light"
     },
     "output_type": "display_data"
    }
   ],
   "source": [
    "# https://medium.com/analytics-vidhya/categorical-feature-selection-using-chi-squared-test-e4c0d0af6b7e\n",
    "# https://towardsdatascience.com/using-the-chi-squared-test-for-feature-selection-with-implementation-b15a4dad93f1\n",
    "\n",
    "# Standardisation gives negative values, chi-square does not allow negative values\n",
    "\n",
    "chi_scores = chi2(x,y)\n",
    "p_values = pd.Series(chi_scores[1],index = x.columns)\n",
    "p_values.sort_values(ascending = False , inplace = True)\n",
    "p_values.plot.bar()\n",
    "\n",
    "# conclusion: current_house_years, profession_encoded, state_encoded have no relationship with target variable\n",
    "x = x.drop([\"current_house_years\", \"profession_encoded\", \"state_encoded\"], axis=1)"
   ]
  },
  {
   "cell_type": "markdown",
   "id": "64dd4921",
   "metadata": {},
   "source": [
    "#### Standardising columns"
   ]
  },
  {
   "cell_type": "code",
   "execution_count": 13,
   "id": "c043d12c",
   "metadata": {},
   "outputs": [],
   "source": [
    "# # Scale all except columns which are one-hot encoded and label encoded\n",
    "\n",
    "# # With Chi-Square\n",
    "# to_scale = [\"income\", \"age\", \"experience\", \"current_job_years\", \"city_encoded\"]\n",
    "# no_scale = [\"marital_status\", \"car_ownership\", \"norent_noown\", \"owned\", \"rented\"]\n",
    "\n",
    "# # Without Chi-Square\n",
    "# # to_scale = [\"income\", \"age\", \"experience\", \"current_job_years\", \"current_house_years\", \"profession_encoded\", \"city_encoded\", \"state_encoded\"]\n",
    "# # no_scale = [\"marital_status\", \"car_ownership\", \"norent_noown\", \"owned\", \"rented\"]\n",
    "\n",
    "# scaler = StandardScaler()\n",
    "# scaled = scaler.fit_transform(x[to_scale])\n",
    "# scaled_df = pd.DataFrame(data=scaled, columns=to_scale)\n",
    "\n",
    "# for col in to_scale:\n",
    "#     x[col] = scaled_df[col]\n",
    "    \n",
    "# x.head()"
   ]
  },
  {
   "cell_type": "markdown",
   "id": "db64dd31",
   "metadata": {},
   "source": [
    "# Preparing for modelling"
   ]
  },
  {
   "cell_type": "markdown",
   "id": "b79ba367",
   "metadata": {},
   "source": [
    "#### Splitting the dataset into train and test sets"
   ]
  },
  {
   "cell_type": "code",
   "execution_count": 14,
   "id": "022bb4db",
   "metadata": {},
   "outputs": [],
   "source": [
    "x_train, x_test, y_train, y_test = train_test_split(x, y, test_size = 0.2, random_state = 2021)"
   ]
  },
  {
   "cell_type": "markdown",
   "id": "060f2e7d",
   "metadata": {},
   "source": [
    "#### Performing PCA"
   ]
  },
  {
   "cell_type": "code",
   "execution_count": 15,
   "id": "f5934ba6",
   "metadata": {},
   "outputs": [],
   "source": [
    "pca_loan = PCA()\n",
    "x_train = pca_loan.fit_transform(x_train)\n",
    "x_test = pca_loan.fit_transform(x_test)"
   ]
  },
  {
   "cell_type": "markdown",
   "id": "6ff63e2f",
   "metadata": {},
   "source": [
    "#### Perform oversampling on train data"
   ]
  },
  {
   "cell_type": "code",
   "execution_count": 16,
   "id": "a75e2dab",
   "metadata": {
    "scrolled": true
   },
   "outputs": [
    {
     "data": {
      "text/plain": [
       "<AxesSubplot:xlabel='risk_flag', ylabel='count'>"
      ]
     },
     "execution_count": 16,
     "metadata": {},
     "output_type": "execute_result"
    },
    {
     "data": {
      "image/png": "[encoded data removed]",
      "text/plain": [
       "<Figure size 432x288 with 1 Axes>"
      ]
     },
     "metadata": {
      "needs_background": "light"
     },
     "output_type": "display_data"
    }
   ],
   "source": [
    "oversampler = SMOTE()\n",
    "x_train, y_train = oversampler.fit_resample(x_train, y_train)\n",
    "\n",
    "sns.countplot(x = y_train, palette = 'muted')"
   ]
  },
  {
   "cell_type": "markdown",
   "id": "3fcd15a9",
   "metadata": {},
   "source": [
    "#### Applying xgboost model"
   ]
  },
  {
   "cell_type": "code",
   "execution_count": 17,
   "id": "95f8e70d",
   "metadata": {},
   "outputs": [
    {
     "name": "stdout",
     "output_type": "stream",
     "text": [
      "[[30997 13300]\n",
      " [ 3501  2602]]\n"
     ]
    }
   ],
   "source": [
    "# # https://xgboost.readthedocs.io/en/latest/python/python_api.html#module-xgboost.sklearn\n",
    "xgb = XGBClassifier(learning_rate=0.1,\n",
    "                    n_estimators=1000,\n",
    "                    use_label_encoder=False,\n",
    "                    random_state=2021)\n",
    "\n",
    "xgb.fit(x_train, y_train, eval_metric='logloss')\n",
    "y_pred = xgb.predict(x_test)\n",
    "cm = confusion_matrix(y_test, y_pred)\n",
    "print(cm)"
   ]
  },
  {
   "cell_type": "code",
   "execution_count": 18,
   "id": "38435cbd",
   "metadata": {},
   "outputs": [
    {
     "name": "stdout",
     "output_type": "stream",
     "text": [
      "-------------------------TEST SCORES-----------------------\n",
      "Recall: 0.4263476978535147\n",
      "Precision: 0.1636272167023016\n",
      "F1-Score: 0.23649170643035675\n",
      "Accuracy score: 0.6666468253968254\n",
      "AUC Score: 0.5630508157642408\n"
     ]
    }
   ],
   "source": [
    "print(\"-------------------------TEST SCORES-----------------------\")\n",
    "print(f\"Recall: {recall_score(y_test, y_pred)}\")\n",
    "print(f\"Precision: {precision_score(y_test, y_pred)}\")\n",
    "print(f\"F1-Score: {f1_score(y_test, y_pred)}\")\n",
    "print(f\"Accuracy score: {accuracy_score(y_test, y_pred)}\")\n",
    "print(f\"AUC Score: {roc_auc_score(y_test, y_pred)}\")"
   ]
  },
  {
   "cell_type": "markdown",
   "id": "62bf3a35",
   "metadata": {},
   "source": [
    "#### v2\n",
    "-------------------------TEST SCORES----------------------- \\\n",
    "Recall: 0.7781418974274946 \\\n",
    "Precision: 0.5386185777475332 \\\n",
    "F1-Score: 0.6365951742627347 \\\n",
    "Accuracy score: 0.892420634920635 \\\n",
    "AUC Score: 0.8431536179690017\n",
    "\n",
    "#### v2: scale (not much difference)\n",
    "-------------------------TEST SCORES-----------------------\\\n",
    "Recall: 0.7799442896935933\\\n",
    "Precision: 0.537185419252906\\\n",
    "F1-Score: 0.636193531141406\\\n",
    "Accuracy score: 0.891984126984127\\\n",
    "AUC Score: 0.8436823283806703\n",
    "\n",
    "#### v2: scale + PCA\n",
    "-------------------------TEST SCORES-----------------------\\\n",
    "Recall: 0.22710142552842863\\\n",
    "Precision: 0.17883870967741936\\\n",
    "F1-Score: 0.2001010611419909\\\n",
    "Accuracy score: 0.7801388888888889\\\n",
    "AUC Score: 0.5417174057682552\n",
    "\n",
    "#### v2: chi-square + scale\n",
    "-------------------------TEST SCORES-----------------------\\\n",
    "Recall: 0.19941012616745862\\\n",
    "Precision: 0.1721601358042156\\\n",
    "F1-Score: 0.18478590950501064\\\n",
    "Accuracy score: 0.7869444444444444\\\n",
    "AUC Score: 0.533650928492222\n",
    "\n",
    "#### v2: chi-square\n",
    "-------------------------TEST SCORES-----------------------\\\n",
    "Recall: 0.4263476978535147\\\n",
    "Precision: 0.1636272167023016\\\n",
    "F1-Score: 0.23649170643035675\\\n",
    "Accuracy score: 0.6666468253968254\\\n",
    "AUC Score: 0.5630508157642408"
   ]
  },
  {
   "cell_type": "code",
   "execution_count": null,
   "id": "54817ff1",
   "metadata": {},
   "outputs": [],
   "source": []
  }
 ],
 "metadata": {
  "kernelspec": {
   "display_name": "Python 3 (ipykernel)",
   "language": "python",
   "name": "python3"
  },
  "language_info": {
   "codemirror_mode": {
    "name": "ipython",
    "version": 3
   },
   "file_extension": ".py",
   "mimetype": "text/x-python",
   "name": "python",
   "nbconvert_exporter": "python",
   "pygments_lexer": "ipython3",
   "version": "3.8.10"
  }
 },
 "nbformat": 4,
 "nbformat_minor": 5
}
