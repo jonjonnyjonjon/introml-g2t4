{
 "cells": [
  {
   "cell_type": "markdown",
   "id": "164b6b06",
   "metadata": {},
   "source": [
    "# CS421: Introduction to Machine Learning\n",
    "## Project: Customer Churn Prediction based on Customer Profile\n",
    "### Exploratory Data Analysis\n",
    "---"
   ]
  },
  {
   "cell_type": "markdown",
   "id": "9a33e0d8",
   "metadata": {},
   "source": [
    "# 1. Setting up the notebook"
   ]
  },
  {
   "cell_type": "markdown",
   "id": "6763803d",
   "metadata": {},
   "source": [
    "### Import libraries"
   ]
  },
  {
   "cell_type": "code",
   "execution_count": 1,
   "id": "eb427ff4",
   "metadata": {},
   "outputs": [],
   "source": [
    "import pandas as pd\n",
    "import seaborn as sns\n",
    "import matplotlib.pyplot as plt\n",
    "import numpy as np"
   ]
  },
  {
   "cell_type": "markdown",
   "id": "d117c04d",
   "metadata": {},
   "source": [
    "### Import data"
   ]
  },
  {
   "cell_type": "code",
   "execution_count": 2,
   "id": "e5cceac3",
   "metadata": {},
   "outputs": [
    {
     "data": {
      "text/html": [
       "<div>\n",
       "<style scoped>\n",
       "    .dataframe tbody tr th:only-of-type {\n",
       "        vertical-align: middle;\n",
       "    }\n",
       "\n",
       "    .dataframe tbody tr th {\n",
       "        vertical-align: top;\n",
       "    }\n",
       "\n",
       "    .dataframe thead th {\n",
       "        text-align: right;\n",
       "    }\n",
       "</style>\n",
       "<table border=\"1\" class=\"dataframe\">\n",
       "  <thead>\n",
       "    <tr style=\"text-align: right;\">\n",
       "      <th></th>\n",
       "      <th>Attrition_Flag</th>\n",
       "      <th>Customer_Age</th>\n",
       "      <th>Gender</th>\n",
       "      <th>Dependent_count</th>\n",
       "      <th>Education_Level</th>\n",
       "      <th>Marital_Status</th>\n",
       "      <th>Income_Category</th>\n",
       "      <th>Card_Category</th>\n",
       "      <th>Months_on_book</th>\n",
       "      <th>Total_Relationship_Count</th>\n",
       "      <th>Months_Inactive_12_mon</th>\n",
       "      <th>Contacts_Count_12_mon</th>\n",
       "      <th>Credit_Limit</th>\n",
       "      <th>Total_Revolving_Bal</th>\n",
       "      <th>Avg_Open_To_Buy</th>\n",
       "      <th>Total_Amt_Chng_Q4_Q1</th>\n",
       "      <th>Total_Trans_Amt</th>\n",
       "      <th>Total_Trans_Ct</th>\n",
       "      <th>Total_Ct_Chng_Q4_Q1</th>\n",
       "      <th>Avg_Utilization_Ratio</th>\n",
       "    </tr>\n",
       "  </thead>\n",
       "  <tbody>\n",
       "    <tr>\n",
       "      <th>0</th>\n",
       "      <td>Existing Customer</td>\n",
       "      <td>45</td>\n",
       "      <td>M</td>\n",
       "      <td>3</td>\n",
       "      <td>High School</td>\n",
       "      <td>Married</td>\n",
       "      <td>$60K - $80K</td>\n",
       "      <td>Blue</td>\n",
       "      <td>39</td>\n",
       "      <td>5</td>\n",
       "      <td>1</td>\n",
       "      <td>3</td>\n",
       "      <td>12691.0</td>\n",
       "      <td>777</td>\n",
       "      <td>11914.0</td>\n",
       "      <td>1.335</td>\n",
       "      <td>1144</td>\n",
       "      <td>42</td>\n",
       "      <td>1.625</td>\n",
       "      <td>0.061</td>\n",
       "    </tr>\n",
       "    <tr>\n",
       "      <th>1</th>\n",
       "      <td>Existing Customer</td>\n",
       "      <td>49</td>\n",
       "      <td>F</td>\n",
       "      <td>5</td>\n",
       "      <td>Graduate</td>\n",
       "      <td>Single</td>\n",
       "      <td>Less than $40K</td>\n",
       "      <td>Blue</td>\n",
       "      <td>44</td>\n",
       "      <td>6</td>\n",
       "      <td>1</td>\n",
       "      <td>2</td>\n",
       "      <td>8256.0</td>\n",
       "      <td>864</td>\n",
       "      <td>7392.0</td>\n",
       "      <td>1.541</td>\n",
       "      <td>1291</td>\n",
       "      <td>33</td>\n",
       "      <td>3.714</td>\n",
       "      <td>0.105</td>\n",
       "    </tr>\n",
       "    <tr>\n",
       "      <th>2</th>\n",
       "      <td>Existing Customer</td>\n",
       "      <td>51</td>\n",
       "      <td>M</td>\n",
       "      <td>3</td>\n",
       "      <td>Graduate</td>\n",
       "      <td>Married</td>\n",
       "      <td>$80K - $120K</td>\n",
       "      <td>Blue</td>\n",
       "      <td>36</td>\n",
       "      <td>4</td>\n",
       "      <td>1</td>\n",
       "      <td>0</td>\n",
       "      <td>3418.0</td>\n",
       "      <td>0</td>\n",
       "      <td>3418.0</td>\n",
       "      <td>2.594</td>\n",
       "      <td>1887</td>\n",
       "      <td>20</td>\n",
       "      <td>2.333</td>\n",
       "      <td>0.000</td>\n",
       "    </tr>\n",
       "    <tr>\n",
       "      <th>3</th>\n",
       "      <td>Existing Customer</td>\n",
       "      <td>40</td>\n",
       "      <td>F</td>\n",
       "      <td>4</td>\n",
       "      <td>High School</td>\n",
       "      <td>Unknown</td>\n",
       "      <td>Less than $40K</td>\n",
       "      <td>Blue</td>\n",
       "      <td>34</td>\n",
       "      <td>3</td>\n",
       "      <td>4</td>\n",
       "      <td>1</td>\n",
       "      <td>3313.0</td>\n",
       "      <td>2517</td>\n",
       "      <td>796.0</td>\n",
       "      <td>1.405</td>\n",
       "      <td>1171</td>\n",
       "      <td>20</td>\n",
       "      <td>2.333</td>\n",
       "      <td>0.760</td>\n",
       "    </tr>\n",
       "    <tr>\n",
       "      <th>4</th>\n",
       "      <td>Existing Customer</td>\n",
       "      <td>40</td>\n",
       "      <td>M</td>\n",
       "      <td>3</td>\n",
       "      <td>Uneducated</td>\n",
       "      <td>Married</td>\n",
       "      <td>$60K - $80K</td>\n",
       "      <td>Blue</td>\n",
       "      <td>21</td>\n",
       "      <td>5</td>\n",
       "      <td>1</td>\n",
       "      <td>0</td>\n",
       "      <td>4716.0</td>\n",
       "      <td>0</td>\n",
       "      <td>4716.0</td>\n",
       "      <td>2.175</td>\n",
       "      <td>816</td>\n",
       "      <td>28</td>\n",
       "      <td>2.500</td>\n",
       "      <td>0.000</td>\n",
       "    </tr>\n",
       "  </tbody>\n",
       "</table>\n",
       "</div>"
      ],
      "text/plain": [
       "      Attrition_Flag  Customer_Age Gender  Dependent_count Education_Level  \\\n",
       "0  Existing Customer            45      M                3     High School   \n",
       "1  Existing Customer            49      F                5        Graduate   \n",
       "2  Existing Customer            51      M                3        Graduate   \n",
       "3  Existing Customer            40      F                4     High School   \n",
       "4  Existing Customer            40      M                3      Uneducated   \n",
       "\n",
       "  Marital_Status Income_Category Card_Category  Months_on_book  \\\n",
       "0        Married     $60K - $80K          Blue              39   \n",
       "1         Single  Less than $40K          Blue              44   \n",
       "2        Married    $80K - $120K          Blue              36   \n",
       "3        Unknown  Less than $40K          Blue              34   \n",
       "4        Married     $60K - $80K          Blue              21   \n",
       "\n",
       "   Total_Relationship_Count  Months_Inactive_12_mon  Contacts_Count_12_mon  \\\n",
       "0                         5                       1                      3   \n",
       "1                         6                       1                      2   \n",
       "2                         4                       1                      0   \n",
       "3                         3                       4                      1   \n",
       "4                         5                       1                      0   \n",
       "\n",
       "   Credit_Limit  Total_Revolving_Bal  Avg_Open_To_Buy  Total_Amt_Chng_Q4_Q1  \\\n",
       "0       12691.0                  777          11914.0                 1.335   \n",
       "1        8256.0                  864           7392.0                 1.541   \n",
       "2        3418.0                    0           3418.0                 2.594   \n",
       "3        3313.0                 2517            796.0                 1.405   \n",
       "4        4716.0                    0           4716.0                 2.175   \n",
       "\n",
       "   Total_Trans_Amt  Total_Trans_Ct  Total_Ct_Chng_Q4_Q1  Avg_Utilization_Ratio  \n",
       "0             1144              42                1.625                  0.061  \n",
       "1             1291              33                3.714                  0.105  \n",
       "2             1887              20                2.333                  0.000  \n",
       "3             1171              20                2.333                  0.760  \n",
       "4              816              28                2.500                  0.000  "
      ]
     },
     "execution_count": 2,
     "metadata": {},
     "output_type": "execute_result"
    }
   ],
   "source": [
    "df = pd.read_csv(\"../data/BankChurners.csv\")\n",
    "df = df.iloc[:, 1:21]\n",
    "df.head()"
   ]
  },
  {
   "cell_type": "markdown",
   "id": "31ac1c7b",
   "metadata": {},
   "source": [
    "### Functions"
   ]
  },
  {
   "cell_type": "code",
   "execution_count": 3,
   "id": "1bb4ef09",
   "metadata": {},
   "outputs": [],
   "source": [
    "def export_png(xlabel, ylabel, image_name):\n",
    "    \"\"\"\n",
    "    Exports plots into png format\n",
    "\n",
    "    INPUTS:\n",
    "        xlabel — x axis name\n",
    "        ylabel — y axis name\n",
    "        image_name — File name for image with .png extension\n",
    "    \"\"\"\n",
    "    plt.xlabel(xlabel, fontsize=20)\n",
    "    plt.ylabel(ylabel, fontsize=20)\n",
    "    plt.xticks(fontsize=16)\n",
    "    plt.yticks(fontsize=16)\n",
    "    plt.savefig(image_name, dpi=600, transparent=False, bbox_inches=\"tight\")\n",
    "    \n",
    "    print(\"Export successful\")"
   ]
  },
  {
   "cell_type": "code",
   "execution_count": 4,
   "id": "daae955d",
   "metadata": {},
   "outputs": [],
   "source": [
    "def categorical_probability(column):\n",
    "    \"\"\"\n",
    "    Calculates probability distribution of Existing Customer and Attrited Customer\n",
    "\n",
    "    INPUTS:\n",
    "        columns — DataFrame of a particular categorical variable\n",
    "    \n",
    "    OUTPUT:\n",
    "        DataFrame with p_existing, p_default for each sub-category, sorted in p_default descending order\n",
    "    \"\"\"\n",
    "    column_df = pd.crosstab(index=df[column], \n",
    "                               columns=df[\"attrition_flag\"],\n",
    "                                margins=True)\n",
    "\n",
    "\n",
    "    column_unique = df[column].unique()\n",
    "    all_cols = np.append(column_unique, \"col_total\")\n",
    "    column_df.index = all_cols\n",
    "    column_df.columns = [\"attrited\",\"existing\", \"row_total\"]\n",
    "    \n",
    "    column_df['p_existing'] = column_df['existing'] / column_df['row_total']\n",
    "\n",
    "    column_df['p_attrited'] = column_df['attrited'] / column_df['row_total']\n",
    "    column_df['p_attrited'] = column_df['p_attrited'].round(4)\n",
    "    column_df_probability = pd.DataFrame( [column_df['p_attrited'], column_df['p_existing']], columns=column_df.index ).T\n",
    "    column_df_probability.sort_values(by=['p_attrited'], ascending=False, inplace=True)\n",
    "    column_df_probability.drop(labels=['col_total'], inplace=True)\n",
    "#     column_df_probability.drop(labels=['p_existing'], axis=1, inplace=True)\n",
    "    return column_df_probability[:15]"
   ]
  },
  {
   "cell_type": "markdown",
   "id": "f5b0cbc5",
   "metadata": {},
   "source": [
    "# 1. Basic Exploration"
   ]
  },
  {
   "cell_type": "code",
   "execution_count": 5,
   "id": "1fa1f71c",
   "metadata": {},
   "outputs": [
    {
     "data": {
      "text/plain": [
       "(10127, 20)"
      ]
     },
     "execution_count": 5,
     "metadata": {},
     "output_type": "execute_result"
    }
   ],
   "source": [
    "df.shape"
   ]
  },
  {
   "cell_type": "code",
   "execution_count": 6,
   "id": "1e326a18",
   "metadata": {},
   "outputs": [
    {
     "name": "stdout",
     "output_type": "stream",
     "text": [
      "<class 'pandas.core.frame.DataFrame'>\n",
      "RangeIndex: 10127 entries, 0 to 10126\n",
      "Data columns (total 20 columns):\n",
      " #   Column                    Non-Null Count  Dtype  \n",
      "---  ------                    --------------  -----  \n",
      " 0   Attrition_Flag            10127 non-null  object \n",
      " 1   Customer_Age              10127 non-null  int64  \n",
      " 2   Gender                    10127 non-null  object \n",
      " 3   Dependent_count           10127 non-null  int64  \n",
      " 4   Education_Level           10127 non-null  object \n",
      " 5   Marital_Status            10127 non-null  object \n",
      " 6   Income_Category           10127 non-null  object \n",
      " 7   Card_Category             10127 non-null  object \n",
      " 8   Months_on_book            10127 non-null  int64  \n",
      " 9   Total_Relationship_Count  10127 non-null  int64  \n",
      " 10  Months_Inactive_12_mon    10127 non-null  int64  \n",
      " 11  Contacts_Count_12_mon     10127 non-null  int64  \n",
      " 12  Credit_Limit              10127 non-null  float64\n",
      " 13  Total_Revolving_Bal       10127 non-null  int64  \n",
      " 14  Avg_Open_To_Buy           10127 non-null  float64\n",
      " 15  Total_Amt_Chng_Q4_Q1      10127 non-null  float64\n",
      " 16  Total_Trans_Amt           10127 non-null  int64  \n",
      " 17  Total_Trans_Ct            10127 non-null  int64  \n",
      " 18  Total_Ct_Chng_Q4_Q1       10127 non-null  float64\n",
      " 19  Avg_Utilization_Ratio     10127 non-null  float64\n",
      "dtypes: float64(5), int64(9), object(6)\n",
      "memory usage: 1.5+ MB\n"
     ]
    }
   ],
   "source": [
    "df.info()"
   ]
  },
  {
   "cell_type": "code",
   "execution_count": 7,
   "id": "f37e04ac",
   "metadata": {},
   "outputs": [
    {
     "data": {
      "text/plain": [
       "Attrition_Flag              0\n",
       "Customer_Age                0\n",
       "Gender                      0\n",
       "Dependent_count             0\n",
       "Education_Level             0\n",
       "Marital_Status              0\n",
       "Income_Category             0\n",
       "Card_Category               0\n",
       "Months_on_book              0\n",
       "Total_Relationship_Count    0\n",
       "Months_Inactive_12_mon      0\n",
       "Contacts_Count_12_mon       0\n",
       "Credit_Limit                0\n",
       "Total_Revolving_Bal         0\n",
       "Avg_Open_To_Buy             0\n",
       "Total_Amt_Chng_Q4_Q1        0\n",
       "Total_Trans_Amt             0\n",
       "Total_Trans_Ct              0\n",
       "Total_Ct_Chng_Q4_Q1         0\n",
       "Avg_Utilization_Ratio       0\n",
       "dtype: int64"
      ]
     },
     "execution_count": 7,
     "metadata": {},
     "output_type": "execute_result"
    }
   ],
   "source": [
    "# check if there's any null/empty values in dataset\n",
    "df.isna().sum()"
   ]
  },
  {
   "cell_type": "markdown",
   "id": "a735a3d5",
   "metadata": {},
   "source": [
    "### Standardise column names to small case"
   ]
  },
  {
   "cell_type": "code",
   "execution_count": 8,
   "id": "9c06a7e5",
   "metadata": {},
   "outputs": [],
   "source": [
    "df.columns = ['attrition_flag', 'customer_age', 'gender', 'dependent_count',\n",
    "       'education_level', 'marital_status', 'income_category', 'card_category',\n",
    "       'months_on_book', 'total_relationship_count', 'months_inactive_12_month',\n",
    "       'contacts_count_12_month', 'credit_limit', 'total_revolving_bal',\n",
    "       'avg_open_to_buy', 'total_amt_change_q4_q1', 'total_trans_amt',\n",
    "       'total_trans_count', 'total_count_change_q4_q1', 'avg_utilization_ratio']\n",
    "\n",
    "numerical = ['customer_age', 'dependent_count', 'months_on_book', \n",
    "             'total_relationship_count', 'months_inactive_12_month',\n",
    "             'contacts_count_12_month', 'credit_limit', 'total_revolving_bal',\n",
    "             'avg_open_to_buy', 'total_amt_change_q4_q1', 'total_trans_amt',\n",
    "             'total_trans_count', 'total_count_change_q4_q1', 'avg_utilization_ratio']\n",
    "\n",
    "categorical = ['attrition_flag', 'gender','education_level', \n",
    "                    'marital_status', 'income_category', 'card_category']"
   ]
  },
  {
   "cell_type": "markdown",
   "id": "8781071b",
   "metadata": {},
   "source": [
    "# 2. Exploring Numerical columns"
   ]
  },
  {
   "cell_type": "markdown",
   "id": "8935b7a2",
   "metadata": {},
   "source": [
    "### Plot distribution for numerical columns"
   ]
  },
  {
   "cell_type": "code",
   "execution_count": 9,
   "id": "c12735f0",
   "metadata": {},
   "outputs": [
    {
     "data": {
      "text/plain": [
       "array([[<AxesSubplot:title={'center':'customer_age'}>,\n",
       "        <AxesSubplot:title={'center':'dependent_count'}>],\n",
       "       [<AxesSubplot:title={'center':'months_on_book'}>,\n",
       "        <AxesSubplot:title={'center':'total_relationship_count'}>],\n",
       "       [<AxesSubplot:title={'center':'months_inactive_12_month'}>,\n",
       "        <AxesSubplot:title={'center':'contacts_count_12_month'}>],\n",
       "       [<AxesSubplot:title={'center':'credit_limit'}>,\n",
       "        <AxesSubplot:title={'center':'total_revolving_bal'}>],\n",
       "       [<AxesSubplot:title={'center':'avg_open_to_buy'}>,\n",
       "        <AxesSubplot:title={'center':'total_amt_change_q4_q1'}>],\n",
       "       [<AxesSubplot:title={'center':'total_trans_amt'}>,\n",
       "        <AxesSubplot:title={'center':'total_trans_count'}>],\n",
       "       [<AxesSubplot:title={'center':'total_count_change_q4_q1'}>,\n",
       "        <AxesSubplot:title={'center':'avg_utilization_ratio'}>]],\n",
       "      dtype=object)"
      ]
     },
     "execution_count": 9,
     "metadata": {},
     "output_type": "execute_result"
    },
    {
     "data": {
      "image/png": "[encoded data removed]",
      "text/plain": [
       "<Figure size 1080x1440 with 14 Axes>"
      ]
     },
     "metadata": {
      "needs_background": "light"
     },
     "output_type": "display_data"
    }
   ],
   "source": [
    "df[numerical].hist(bins=15, figsize=(15, 20), layout=(7,2))"
   ]
  },
  {
   "cell_type": "code",
   "execution_count": null,
   "id": "24b97371",
   "metadata": {},
   "outputs": [],
   "source": [
    "# Retrieve name of skewed columns\n",
    "skewed = []\n",
    "for skew_val in df.skew():\n",
    "    if skew_val > 1 or skew_val < -1:\n",
    "        skewed.append( df.skew()[ df.skew() == skew_val ].index[0] )\n",
    "        print( df.skew()[ df.skew() == skew_val ].index[0])\n",
    "        print(round(skew_val, 3) )"
   ]
  },
  {
   "cell_type": "markdown",
   "id": "1316c6a2",
   "metadata": {},
   "source": [
    "### Kernel density plots for numerical features"
   ]
  },
  {
   "cell_type": "code",
   "execution_count": null,
   "id": "ac9c1a2d",
   "metadata": {},
   "outputs": [],
   "source": [
    "sns.set(rc={'figure.figsize': (30, 30)})\n",
    "for i in range(len(numerical)):\n",
    "    plt.subplot(4, 4, i + 1)\n",
    "    sns.kdeplot(df[numerical[i]], shade=True)"
   ]
  },
  {
   "cell_type": "markdown",
   "id": "cf22cbb5",
   "metadata": {},
   "source": [
    "### Check for collinearity"
   ]
  },
  {
   "cell_type": "code",
   "execution_count": null,
   "id": "0928f30f",
   "metadata": {},
   "outputs": [],
   "source": [
    "fig, ax = plt.subplots( figsize = (20,22) )\n",
    "res = sns.heatmap( df.corr(), cmap='coolwarm', annot=True, ax = ax, annot_kws={\"size\": 15.5}, cbar=False)\n",
    "res.set_xticklabels(res.get_xmajorticklabels(), fontsize = 18, rotation=90)\n",
    "res.set_yticklabels(res.get_ymajorticklabels(), fontsize = 18)\n",
    "\n",
    "plt.savefig(\"correlation_matrix_heatmap.png\", transparent=False, dpi=500)\n",
    "plt.show()"
   ]
  },
  {
   "cell_type": "code",
   "execution_count": null,
   "id": "e5ad6712",
   "metadata": {},
   "outputs": [],
   "source": [
    "# Plot dataframe for collinear features\n",
    "results = df.corr()[ (df.corr() > 0.2) & (df.corr() != 1) ]\n",
    "\n",
    "results"
   ]
  },
  {
   "cell_type": "markdown",
   "id": "7ff4abb9",
   "metadata": {},
   "source": [
    "### Plotting pairwise scatterplots"
   ]
  },
  {
   "cell_type": "code",
   "execution_count": null,
   "id": "59cd5845",
   "metadata": {},
   "outputs": [],
   "source": [
    "plt.figure(figsize=(20, 20))\n",
    "\n",
    "test = sns.pairplot(df[numerical])\n",
    "test.savefig('pairplots-dpi400.png', dpi=400, bbox_inches=\"tight\")\n",
    "# test.set_xticklabels(test.get_xmajorticklabels(), fontsize = 18, rotation=90)\n",
    "# test.set_yticklabels(test.get_ymajorticklabels(), fontsize = 18)\n",
    "\n",
    "# plt.show()"
   ]
  },
  {
   "cell_type": "markdown",
   "id": "09db0dd9",
   "metadata": {},
   "source": [
    "### Closer look at collinear featuers"
   ]
  },
  {
   "cell_type": "code",
   "execution_count": null,
   "id": "cbb8f52a",
   "metadata": {},
   "outputs": [],
   "source": [
    "# Correlation: 1\n",
    "fig, ax = plt.subplots( figsize = (8,6) )\n",
    "sns.scatterplot(x='credit_limit', y='avg_open_to_buy', data = df)\n",
    "\n",
    "# export_png('credit_limit','avg_open_to_buy', 'corr1.png')"
   ]
  },
  {
   "cell_type": "code",
   "execution_count": null,
   "id": "43529a89",
   "metadata": {},
   "outputs": [],
   "source": [
    "# Correlation: 0.81\n",
    "fig, ax = plt.subplots( figsize = (8,6) )\n",
    "sns.scatterplot(x='total_trans_amt', y='total_trans_count', data = df)\n",
    "\n",
    "# export_png('total_trans_amt','total_trans_count', 'corr2.png')"
   ]
  },
  {
   "cell_type": "code",
   "execution_count": null,
   "id": "46a12b15",
   "metadata": {},
   "outputs": [],
   "source": [
    "# Correlation: 0.79\n",
    "fig, ax = plt.subplots( figsize = (8,6) )\n",
    "sns.scatterplot(x='customer_age', y='months_on_book', data = df)\n",
    "\n",
    "# export_png('customer_age','months_on_book', 'corr3.png')"
   ]
  },
  {
   "cell_type": "code",
   "execution_count": null,
   "id": "a4eb149e",
   "metadata": {
    "scrolled": true
   },
   "outputs": [],
   "source": [
    "# Correlation: 0.62\n",
    "fig, ax = plt.subplots( figsize = (8,6) )\n",
    "sns.scatterplot(x='total_revolving_bal', y='avg_utilization_ratio', data = df)\n",
    "\n",
    "# export_png('total_revolving_bal','avg_utilization_ratio', 'corr4.png')"
   ]
  },
  {
   "cell_type": "code",
   "execution_count": null,
   "id": "638de37a",
   "metadata": {},
   "outputs": [],
   "source": [
    "# Correlation: -0.54\n",
    "fig, ax = plt.subplots( figsize = (8,6) )\n",
    "sns.scatterplot(x='avg_open_to_buy', y='avg_utilization_ratio', data = df)\n",
    "\n",
    "# export_png('avg_open_to_buy','avg_utilization_ratio', 'corr5.png')"
   ]
  },
  {
   "cell_type": "code",
   "execution_count": null,
   "id": "43f7f8c3",
   "metadata": {},
   "outputs": [],
   "source": [
    "# Correlation: -0.48\n",
    "fig, ax = plt.subplots( figsize = (8,6) )\n",
    "sns.scatterplot(x='credit_limit', y='avg_utilization_ratio', data = df)\n",
    "\n",
    "# export_png('credit_limit','avg_utilization_ratio', 'corr6.png')"
   ]
  },
  {
   "cell_type": "code",
   "execution_count": null,
   "id": "65031a31",
   "metadata": {},
   "outputs": [],
   "source": [
    "# Correlation: 0.38\n",
    "fig, ax = plt.subplots( figsize = (8,6) )\n",
    "sns.scatterplot(x='total_amt_change_q4_q1', y='total_count_change_q4_q1', data = df)\n",
    "\n",
    "# export_png('total_amt_change_q4_q1','total_count_change_q4_q1', 'corr7.png')"
   ]
  },
  {
   "cell_type": "markdown",
   "id": "7b2fb58b",
   "metadata": {},
   "source": [
    "Some findings:\n",
    "1. High correlation (direct) — `total_trans_amt` and `total_trans_count`\n",
    "2. High correlation (direct) — `customer_age` and `months_on_book`\n",
    "3. High correlation (direct) `total_revolving_bal` and `avg_utilization_ratio`\n",
    "4. Moderate correlation (inverse) — `credit_limit` and `avg_utilization_ratio`\n",
    "5. Moderate correlation (inverse) — `avg_open_to_buy` and `avg_utilization_ratio`\n",
    "6. Moderate correlation (direct) — `total_count_change_q4_q1` and `total_amt_change_q4_q1`\n",
    "7. Moderate correlation (indirect) — `total_trans_amt` and `total_relationship_count`\n",
    "8. Moderate correlation (indirect) — `total_trans_count` and `total_relationship_count`"
   ]
  },
  {
   "cell_type": "markdown",
   "id": "0b79f5d2",
   "metadata": {},
   "source": [
    "# 3. Exploring Categorical Features"
   ]
  },
  {
   "cell_type": "markdown",
   "id": "5fe07d21",
   "metadata": {},
   "source": [
    "### Display value_counts for each categorical column"
   ]
  },
  {
   "cell_type": "code",
   "execution_count": null,
   "id": "44a8cd72",
   "metadata": {},
   "outputs": [],
   "source": [
    "for cat in categorical:\n",
    "    print('Variable:', cat)\n",
    "    print('Unique values:', df[cat].nunique() )\n",
    "    print( df[cat].value_counts() )\n",
    "    print()"
   ]
  },
  {
   "cell_type": "code",
   "execution_count": null,
   "id": "d85b1b52",
   "metadata": {},
   "outputs": [],
   "source": [
    "# Plot histogram\n",
    "fig, ax = plt.subplots(2, 3, figsize=(20, 15))\n",
    "for variable, subplot in zip(categorical, ax.flatten()):\n",
    "    sns.countplot(x=df[variable], ax=subplot)\n",
    "    for label in subplot.get_xticklabels():\n",
    "        label.set_rotation(90)"
   ]
  },
  {
   "cell_type": "markdown",
   "id": "c9ff1b8e",
   "metadata": {},
   "source": [
    "# 4. Bivariate plots"
   ]
  },
  {
   "cell_type": "markdown",
   "id": "999ae0b5",
   "metadata": {},
   "source": [
    "### Boxplot for attrition_flag against each numerical column"
   ]
  },
  {
   "cell_type": "code",
   "execution_count": null,
   "id": "35edd1c3",
   "metadata": {},
   "outputs": [],
   "source": [
    "plt.figure(figsize=(28, 25))\n",
    "for i in range(len(numerical) - 1):\n",
    "    plt.subplot(4, 4, i + 1)\n",
    "    sns.boxplot(x='attrition_flag', y=numerical[i], data=df)\n",
    "    plt.xlabel('attrition_flag', fontsize=18)\n",
    "    plt.ylabel(numerical[i], fontsize=18)\n",
    "    plt.xticks(fontsize=16)\n",
    "    plt.yticks(fontsize=16)\n",
    "    \n",
    "\n",
    "plt.show()"
   ]
  },
  {
   "cell_type": "code",
   "execution_count": null,
   "id": "53ab3c78",
   "metadata": {},
   "outputs": [],
   "source": [
    "# Taking a closer look at the boxplots\n",
    "x = df['attrition_flag']\n",
    "y = df['months_inactive_12_month']\n",
    "\n",
    "fig, ax = plt.subplots( figsize = (6,4) )\n",
    "sns.boxplot(x=x, y=y)\n",
    "\n",
    "# export_png('attrition_flag', 'months_inactive_12_month', 'attrition_monthsinactive.png')"
   ]
  },
  {
   "cell_type": "markdown",
   "id": "1a33fe20",
   "metadata": {},
   "source": [
    "### Calculate Probability Distribution for Existing and Attrited Customers for each categorical columns"
   ]
  },
  {
   "cell_type": "code",
   "execution_count": null,
   "id": "0b05b475",
   "metadata": {
    "scrolled": true
   },
   "outputs": [],
   "source": [
    "import dataframe_image as dfi\n",
    "pd.options.display.precision = 4\n",
    "pd.set_option('display.precision', 4)\n",
    "\n",
    "for cat in categorical[1:]:\n",
    "    print(cat)\n",
    "    table = categorical_probability(cat)\n",
    "    cm = sns.color_palette(\"crest\", as_cmap=True)\n",
    "    styled_table = table.style.background_gradient(cmap=cm)\n",
    "    display(styled_table)\n",
    "    \n",
    "#    # Export DataFrame as image\n",
    "#     name = cat + '.png'\n",
    "#     dfi.export(styled_table, name)"
   ]
  },
  {
   "cell_type": "markdown",
   "id": "4af6fbfc",
   "metadata": {},
   "source": [
    "# 5. Multivariate Plots"
   ]
  },
  {
   "cell_type": "code",
   "execution_count": null,
   "id": "fbccb72e",
   "metadata": {},
   "outputs": [],
   "source": [
    "### 3D Boxplots of categorical columns against numerical columns across attrition_flag"
   ]
  },
  {
   "cell_type": "code",
   "execution_count": null,
   "id": "3ffa7363",
   "metadata": {
    "scrolled": true
   },
   "outputs": [],
   "source": [
    "# Total revolving balance across card_categories\n",
    "\n",
    "fig, ax = plt.subplots( figsize = (10,8) )\n",
    "sns.boxplot(x = 'card_category', y='total_revolving_bal', hue='attrition_flag', data = df)\n",
    "\n",
    "# export_png('card_category', 'total_revolving_bal', 'card_v_revolvingbal.png')"
   ]
  },
  {
   "cell_type": "code",
   "execution_count": null,
   "id": "f8a54170",
   "metadata": {
    "scrolled": true
   },
   "outputs": [],
   "source": [
    "# Those who called the bank more times have a higher chance of attrition\n",
    "\n",
    "fig, ax = plt.subplots( figsize = (10,8) )\n",
    "sns.boxplot(x = 'card_category', y='contacts_count_12_month', hue='attrition_flag', data = df)"
   ]
  },
  {
   "cell_type": "code",
   "execution_count": null,
   "id": "9a085099",
   "metadata": {},
   "outputs": [],
   "source": [
    "# Those who spent less on their card has a lower chance of attrition\n",
    "\n",
    "fig, ax = plt.subplots( figsize = (10,8) )\n",
    "sns.boxplot(x = 'card_category', y='total_trans_count', hue='attrition_flag', data = df)\n",
    "\n",
    "# export_png('marital_status', 'total_trans_count', 'marital_v_transcount.png')"
   ]
  },
  {
   "cell_type": "code",
   "execution_count": null,
   "id": "5ce7a76c",
   "metadata": {},
   "outputs": [],
   "source": [
    "fig, ax = plt.subplots( figsize = (10,8) )\n",
    "sns.boxplot(x = 'income_category', y='total_revolving_bal', hue='attrition_flag', data = df)\n",
    "\n",
    "# export_png('marital_status', 'total_trans_count', 'marital_v_transcount.png')\n"
   ]
  }
 ],
 "metadata": {
  "kernelspec": {
   "display_name": "Python 3 (ipykernel)",
   "language": "python",
   "name": "python3"
  },
  "language_info": {
   "codemirror_mode": {
    "name": "ipython",
    "version": 3
   },
   "file_extension": ".py",
   "mimetype": "text/x-python",
   "name": "python",
   "nbconvert_exporter": "python",
   "pygments_lexer": "ipython3",
   "version": "3.8.10"
  }
 },
 "nbformat": 4,
 "nbformat_minor": 5
}
