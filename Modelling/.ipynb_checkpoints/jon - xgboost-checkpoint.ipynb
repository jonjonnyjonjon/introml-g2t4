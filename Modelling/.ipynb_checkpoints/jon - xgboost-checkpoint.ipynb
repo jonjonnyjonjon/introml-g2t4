{
 "cells": [
  {
   "cell_type": "markdown",
   "id": "d51dca08",
   "metadata": {},
   "source": [
    "### EDIT LOG\n",
    "v1 "
   ]
  },
  {
   "cell_type": "code",
   "execution_count": 1,
   "id": "9681e448",
   "metadata": {},
   "outputs": [],
   "source": [
    "import pandas as pd\n",
    "import numpy as np\n",
    "import seaborn as sns\n",
    "import matplotlib.pyplot as plt\n",
    "%matplotlib inline\n",
    "\n",
    "from sklearn.preprocessing import LabelEncoder\n",
    "from sklearn.preprocessing import OneHotEncoder\n",
    "from sklearn.preprocessing import OrdinalEncoder\n",
    "from sklearn.preprocessing import StandardScaler\n",
    "from category_encoders import TargetEncoder\n",
    "\n",
    "from sklearn.decomposition import PCA\n",
    "from sklearn.feature_selection import chi2\n",
    "\n",
    "from sklearn.model_selection import train_test_split\n",
    "from imblearn.over_sampling import SMOTE\n",
    "\n",
    "from xgboost import XGBClassifier\n",
    "from sklearn.metrics import confusion_matrix, precision_score, recall_score, f1_score, accuracy_score, roc_auc_score"
   ]
  },
  {
   "cell_type": "markdown",
   "id": "b2dcbfbd",
   "metadata": {},
   "source": [
    "# Reading file and tidying"
   ]
  },
  {
   "cell_type": "markdown",
   "id": "34fc010f",
   "metadata": {},
   "source": [
    "#### Reading csv file"
   ]
  },
  {
   "cell_type": "code",
   "execution_count": 2,
   "id": "b973afe6",
   "metadata": {
    "scrolled": true
   },
   "outputs": [
    {
     "ename": "FileNotFoundError",
     "evalue": "[Errno 2] No such file or directory: 'BankChurners.csv'",
     "output_type": "error",
     "traceback": [
      "\u001b[0;31m---------------------------------------------------------------------------\u001b[0m",
      "\u001b[0;31mFileNotFoundError\u001b[0m                         Traceback (most recent call last)",
      "\u001b[0;32m/var/folders/5z/tmp48bwn5lx0cw1mmf31bzgm0000gn/T/ipykernel_66870/550112114.py\u001b[0m in \u001b[0;36m<module>\u001b[0;34m\u001b[0m\n\u001b[0;32m----> 1\u001b[0;31m \u001b[0mdf\u001b[0m \u001b[0;34m=\u001b[0m \u001b[0mpd\u001b[0m\u001b[0;34m.\u001b[0m\u001b[0mread_csv\u001b[0m\u001b[0;34m(\u001b[0m\u001b[0;34m\"BankChurners.csv\"\u001b[0m\u001b[0;34m)\u001b[0m\u001b[0;34m\u001b[0m\u001b[0;34m\u001b[0m\u001b[0m\n\u001b[0m\u001b[1;32m      2\u001b[0m \u001b[0mdf\u001b[0m\u001b[0;34m.\u001b[0m\u001b[0mhead\u001b[0m\u001b[0;34m(\u001b[0m\u001b[0;34m)\u001b[0m\u001b[0;34m\u001b[0m\u001b[0;34m\u001b[0m\u001b[0m\n",
      "\u001b[0;32m~/miniforge3/envs/ml_env/lib/python3.8/site-packages/pandas/util/_decorators.py\u001b[0m in \u001b[0;36mwrapper\u001b[0;34m(*args, **kwargs)\u001b[0m\n\u001b[1;32m    309\u001b[0m                     \u001b[0mstacklevel\u001b[0m\u001b[0;34m=\u001b[0m\u001b[0mstacklevel\u001b[0m\u001b[0;34m,\u001b[0m\u001b[0;34m\u001b[0m\u001b[0;34m\u001b[0m\u001b[0m\n\u001b[1;32m    310\u001b[0m                 )\n\u001b[0;32m--> 311\u001b[0;31m             \u001b[0;32mreturn\u001b[0m \u001b[0mfunc\u001b[0m\u001b[0;34m(\u001b[0m\u001b[0;34m*\u001b[0m\u001b[0margs\u001b[0m\u001b[0;34m,\u001b[0m \u001b[0;34m**\u001b[0m\u001b[0mkwargs\u001b[0m\u001b[0;34m)\u001b[0m\u001b[0;34m\u001b[0m\u001b[0;34m\u001b[0m\u001b[0m\n\u001b[0m\u001b[1;32m    312\u001b[0m \u001b[0;34m\u001b[0m\u001b[0m\n\u001b[1;32m    313\u001b[0m         \u001b[0;32mreturn\u001b[0m \u001b[0mwrapper\u001b[0m\u001b[0;34m\u001b[0m\u001b[0;34m\u001b[0m\u001b[0m\n",
      "\u001b[0;32m~/miniforge3/envs/ml_env/lib/python3.8/site-packages/pandas/io/parsers/readers.py\u001b[0m in \u001b[0;36mread_csv\u001b[0;34m(filepath_or_buffer, sep, delimiter, header, names, index_col, usecols, squeeze, prefix, mangle_dupe_cols, dtype, engine, converters, true_values, false_values, skipinitialspace, skiprows, skipfooter, nrows, na_values, keep_default_na, na_filter, verbose, skip_blank_lines, parse_dates, infer_datetime_format, keep_date_col, date_parser, dayfirst, cache_dates, iterator, chunksize, compression, thousands, decimal, lineterminator, quotechar, quoting, doublequote, escapechar, comment, encoding, encoding_errors, dialect, error_bad_lines, warn_bad_lines, on_bad_lines, delim_whitespace, low_memory, memory_map, float_precision, storage_options)\u001b[0m\n\u001b[1;32m    584\u001b[0m     \u001b[0mkwds\u001b[0m\u001b[0;34m.\u001b[0m\u001b[0mupdate\u001b[0m\u001b[0;34m(\u001b[0m\u001b[0mkwds_defaults\u001b[0m\u001b[0;34m)\u001b[0m\u001b[0;34m\u001b[0m\u001b[0;34m\u001b[0m\u001b[0m\n\u001b[1;32m    585\u001b[0m \u001b[0;34m\u001b[0m\u001b[0m\n\u001b[0;32m--> 586\u001b[0;31m     \u001b[0;32mreturn\u001b[0m \u001b[0m_read\u001b[0m\u001b[0;34m(\u001b[0m\u001b[0mfilepath_or_buffer\u001b[0m\u001b[0;34m,\u001b[0m \u001b[0mkwds\u001b[0m\u001b[0;34m)\u001b[0m\u001b[0;34m\u001b[0m\u001b[0;34m\u001b[0m\u001b[0m\n\u001b[0m\u001b[1;32m    587\u001b[0m \u001b[0;34m\u001b[0m\u001b[0m\n\u001b[1;32m    588\u001b[0m \u001b[0;34m\u001b[0m\u001b[0m\n",
      "\u001b[0;32m~/miniforge3/envs/ml_env/lib/python3.8/site-packages/pandas/io/parsers/readers.py\u001b[0m in \u001b[0;36m_read\u001b[0;34m(filepath_or_buffer, kwds)\u001b[0m\n\u001b[1;32m    480\u001b[0m \u001b[0;34m\u001b[0m\u001b[0m\n\u001b[1;32m    481\u001b[0m     \u001b[0;31m# Create the parser.\u001b[0m\u001b[0;34m\u001b[0m\u001b[0;34m\u001b[0m\u001b[0;34m\u001b[0m\u001b[0m\n\u001b[0;32m--> 482\u001b[0;31m     \u001b[0mparser\u001b[0m \u001b[0;34m=\u001b[0m \u001b[0mTextFileReader\u001b[0m\u001b[0;34m(\u001b[0m\u001b[0mfilepath_or_buffer\u001b[0m\u001b[0;34m,\u001b[0m \u001b[0;34m**\u001b[0m\u001b[0mkwds\u001b[0m\u001b[0;34m)\u001b[0m\u001b[0;34m\u001b[0m\u001b[0;34m\u001b[0m\u001b[0m\n\u001b[0m\u001b[1;32m    483\u001b[0m \u001b[0;34m\u001b[0m\u001b[0m\n\u001b[1;32m    484\u001b[0m     \u001b[0;32mif\u001b[0m \u001b[0mchunksize\u001b[0m \u001b[0;32mor\u001b[0m \u001b[0miterator\u001b[0m\u001b[0;34m:\u001b[0m\u001b[0;34m\u001b[0m\u001b[0;34m\u001b[0m\u001b[0m\n",
      "\u001b[0;32m~/miniforge3/envs/ml_env/lib/python3.8/site-packages/pandas/io/parsers/readers.py\u001b[0m in \u001b[0;36m__init__\u001b[0;34m(self, f, engine, **kwds)\u001b[0m\n\u001b[1;32m    809\u001b[0m             \u001b[0mself\u001b[0m\u001b[0;34m.\u001b[0m\u001b[0moptions\u001b[0m\u001b[0;34m[\u001b[0m\u001b[0;34m\"has_index_names\"\u001b[0m\u001b[0;34m]\u001b[0m \u001b[0;34m=\u001b[0m \u001b[0mkwds\u001b[0m\u001b[0;34m[\u001b[0m\u001b[0;34m\"has_index_names\"\u001b[0m\u001b[0;34m]\u001b[0m\u001b[0;34m\u001b[0m\u001b[0;34m\u001b[0m\u001b[0m\n\u001b[1;32m    810\u001b[0m \u001b[0;34m\u001b[0m\u001b[0m\n\u001b[0;32m--> 811\u001b[0;31m         \u001b[0mself\u001b[0m\u001b[0;34m.\u001b[0m\u001b[0m_engine\u001b[0m \u001b[0;34m=\u001b[0m \u001b[0mself\u001b[0m\u001b[0;34m.\u001b[0m\u001b[0m_make_engine\u001b[0m\u001b[0;34m(\u001b[0m\u001b[0mself\u001b[0m\u001b[0;34m.\u001b[0m\u001b[0mengine\u001b[0m\u001b[0;34m)\u001b[0m\u001b[0;34m\u001b[0m\u001b[0;34m\u001b[0m\u001b[0m\n\u001b[0m\u001b[1;32m    812\u001b[0m \u001b[0;34m\u001b[0m\u001b[0m\n\u001b[1;32m    813\u001b[0m     \u001b[0;32mdef\u001b[0m \u001b[0mclose\u001b[0m\u001b[0;34m(\u001b[0m\u001b[0mself\u001b[0m\u001b[0;34m)\u001b[0m\u001b[0;34m:\u001b[0m\u001b[0;34m\u001b[0m\u001b[0;34m\u001b[0m\u001b[0m\n",
      "\u001b[0;32m~/miniforge3/envs/ml_env/lib/python3.8/site-packages/pandas/io/parsers/readers.py\u001b[0m in \u001b[0;36m_make_engine\u001b[0;34m(self, engine)\u001b[0m\n\u001b[1;32m   1038\u001b[0m             )\n\u001b[1;32m   1039\u001b[0m         \u001b[0;31m# error: Too many arguments for \"ParserBase\"\u001b[0m\u001b[0;34m\u001b[0m\u001b[0;34m\u001b[0m\u001b[0;34m\u001b[0m\u001b[0m\n\u001b[0;32m-> 1040\u001b[0;31m         \u001b[0;32mreturn\u001b[0m \u001b[0mmapping\u001b[0m\u001b[0;34m[\u001b[0m\u001b[0mengine\u001b[0m\u001b[0;34m]\u001b[0m\u001b[0;34m(\u001b[0m\u001b[0mself\u001b[0m\u001b[0;34m.\u001b[0m\u001b[0mf\u001b[0m\u001b[0;34m,\u001b[0m \u001b[0;34m**\u001b[0m\u001b[0mself\u001b[0m\u001b[0;34m.\u001b[0m\u001b[0moptions\u001b[0m\u001b[0;34m)\u001b[0m  \u001b[0;31m# type: ignore[call-arg]\u001b[0m\u001b[0;34m\u001b[0m\u001b[0;34m\u001b[0m\u001b[0m\n\u001b[0m\u001b[1;32m   1041\u001b[0m \u001b[0;34m\u001b[0m\u001b[0m\n\u001b[1;32m   1042\u001b[0m     \u001b[0;32mdef\u001b[0m \u001b[0m_failover_to_python\u001b[0m\u001b[0;34m(\u001b[0m\u001b[0mself\u001b[0m\u001b[0;34m)\u001b[0m\u001b[0;34m:\u001b[0m\u001b[0;34m\u001b[0m\u001b[0;34m\u001b[0m\u001b[0m\n",
      "\u001b[0;32m~/miniforge3/envs/ml_env/lib/python3.8/site-packages/pandas/io/parsers/c_parser_wrapper.py\u001b[0m in \u001b[0;36m__init__\u001b[0;34m(self, src, **kwds)\u001b[0m\n\u001b[1;32m     49\u001b[0m \u001b[0;34m\u001b[0m\u001b[0m\n\u001b[1;32m     50\u001b[0m         \u001b[0;31m# open handles\u001b[0m\u001b[0;34m\u001b[0m\u001b[0;34m\u001b[0m\u001b[0;34m\u001b[0m\u001b[0m\n\u001b[0;32m---> 51\u001b[0;31m         \u001b[0mself\u001b[0m\u001b[0;34m.\u001b[0m\u001b[0m_open_handles\u001b[0m\u001b[0;34m(\u001b[0m\u001b[0msrc\u001b[0m\u001b[0;34m,\u001b[0m \u001b[0mkwds\u001b[0m\u001b[0;34m)\u001b[0m\u001b[0;34m\u001b[0m\u001b[0;34m\u001b[0m\u001b[0m\n\u001b[0m\u001b[1;32m     52\u001b[0m         \u001b[0;32massert\u001b[0m \u001b[0mself\u001b[0m\u001b[0;34m.\u001b[0m\u001b[0mhandles\u001b[0m \u001b[0;32mis\u001b[0m \u001b[0;32mnot\u001b[0m \u001b[0;32mNone\u001b[0m\u001b[0;34m\u001b[0m\u001b[0;34m\u001b[0m\u001b[0m\n\u001b[1;32m     53\u001b[0m \u001b[0;34m\u001b[0m\u001b[0m\n",
      "\u001b[0;32m~/miniforge3/envs/ml_env/lib/python3.8/site-packages/pandas/io/parsers/base_parser.py\u001b[0m in \u001b[0;36m_open_handles\u001b[0;34m(self, src, kwds)\u001b[0m\n\u001b[1;32m    220\u001b[0m         \u001b[0mLet\u001b[0m \u001b[0mthe\u001b[0m \u001b[0mreaders\u001b[0m \u001b[0mopen\u001b[0m \u001b[0mIOHandles\u001b[0m \u001b[0mafter\u001b[0m \u001b[0mthey\u001b[0m \u001b[0mare\u001b[0m \u001b[0mdone\u001b[0m \u001b[0;32mwith\u001b[0m \u001b[0mtheir\u001b[0m \u001b[0mpotential\u001b[0m \u001b[0mraises\u001b[0m\u001b[0;34m.\u001b[0m\u001b[0;34m\u001b[0m\u001b[0;34m\u001b[0m\u001b[0m\n\u001b[1;32m    221\u001b[0m         \"\"\"\n\u001b[0;32m--> 222\u001b[0;31m         self.handles = get_handle(\n\u001b[0m\u001b[1;32m    223\u001b[0m             \u001b[0msrc\u001b[0m\u001b[0;34m,\u001b[0m\u001b[0;34m\u001b[0m\u001b[0;34m\u001b[0m\u001b[0m\n\u001b[1;32m    224\u001b[0m             \u001b[0;34m\"r\"\u001b[0m\u001b[0;34m,\u001b[0m\u001b[0;34m\u001b[0m\u001b[0;34m\u001b[0m\u001b[0m\n",
      "\u001b[0;32m~/miniforge3/envs/ml_env/lib/python3.8/site-packages/pandas/io/common.py\u001b[0m in \u001b[0;36mget_handle\u001b[0;34m(path_or_buf, mode, encoding, compression, memory_map, is_text, errors, storage_options)\u001b[0m\n\u001b[1;32m    699\u001b[0m         \u001b[0;32mif\u001b[0m \u001b[0mioargs\u001b[0m\u001b[0;34m.\u001b[0m\u001b[0mencoding\u001b[0m \u001b[0;32mand\u001b[0m \u001b[0;34m\"b\"\u001b[0m \u001b[0;32mnot\u001b[0m \u001b[0;32min\u001b[0m \u001b[0mioargs\u001b[0m\u001b[0;34m.\u001b[0m\u001b[0mmode\u001b[0m\u001b[0;34m:\u001b[0m\u001b[0;34m\u001b[0m\u001b[0;34m\u001b[0m\u001b[0m\n\u001b[1;32m    700\u001b[0m             \u001b[0;31m# Encoding\u001b[0m\u001b[0;34m\u001b[0m\u001b[0;34m\u001b[0m\u001b[0;34m\u001b[0m\u001b[0m\n\u001b[0;32m--> 701\u001b[0;31m             handle = open(\n\u001b[0m\u001b[1;32m    702\u001b[0m                 \u001b[0mhandle\u001b[0m\u001b[0;34m,\u001b[0m\u001b[0;34m\u001b[0m\u001b[0;34m\u001b[0m\u001b[0m\n\u001b[1;32m    703\u001b[0m                 \u001b[0mioargs\u001b[0m\u001b[0;34m.\u001b[0m\u001b[0mmode\u001b[0m\u001b[0;34m,\u001b[0m\u001b[0;34m\u001b[0m\u001b[0;34m\u001b[0m\u001b[0m\n",
      "\u001b[0;31mFileNotFoundError\u001b[0m: [Errno 2] No such file or directory: 'BankChurners.csv'"
     ]
    }
   ],
   "source": [
    "df = pd.read_csv(\"BankChurners.csv\")\n",
    "df.head()"
   ]
  },
  {
   "cell_type": "markdown",
   "id": "224ea018",
   "metadata": {},
   "source": [
    "#### Drop column(s)"
   ]
  },
  {
   "cell_type": "code",
   "execution_count": null,
   "id": "64c9c9ee",
   "metadata": {
    "scrolled": true
   },
   "outputs": [],
   "source": [
    "df.drop(\"CLIENTNUM\", axis=1, inplace=True)\n",
    "df.drop(\"Naive_Bayes_Classifier_Attrition_Flag_Card_Category_Contacts_Count_12_mon_Dependent_count_Education_Level_Months_Inactive_12_mon_1\", axis=1, inplace=True)\n",
    "df.drop(\"Naive_Bayes_Classifier_Attrition_Flag_Card_Category_Contacts_Count_12_mon_Dependent_count_Education_Level_Months_Inactive_12_mon_2\", axis=1, inplace=True)\n",
    "\n",
    "df.head()"
   ]
  },
  {
   "cell_type": "markdown",
   "id": "8a0ee7b7",
   "metadata": {},
   "source": [
    "#### Renaming columns"
   ]
  },
  {
   "cell_type": "code",
   "execution_count": null,
   "id": "a39cd955",
   "metadata": {
    "scrolled": false
   },
   "outputs": [],
   "source": [
    "df.columns = ['attrition_flag', 'customer_age', 'gender', 'dependent_count',\n",
    "       'education_level', 'marital_status', 'income_category', 'card_category',\n",
    "       'months_on_book', 'total_relationship_count', 'months_inactive_12_month',\n",
    "       'contacts_count_12_month', 'credit_limit', 'total_revolving_bal',\n",
    "       'avg_open_to_buy', 'total_amt_change_q4_q1', 'total_trans_amt',\n",
    "       'total_trans_count', 'total_count_change_q4_q1', 'avg_utilization_ratio']\n",
    "\n",
    "numerical = ['customer_age', 'dependent_count', 'months_on_book', \n",
    "             'total_relationship_count', 'months_inactive_12_month',\n",
    "             'contacts_count_12_month', 'credit_limit', 'total_revolving_bal',\n",
    "             'avg_open_to_buy', 'total_amt_change_q4_q1', 'total_trans_amt',\n",
    "             'total_trans_count', 'total_count_change_q4_q1', 'avg_utilization_ratio']\n",
    "\n",
    "\n",
    "\n",
    "df.head()"
   ]
  },
  {
   "cell_type": "markdown",
   "id": "0bafe1fb",
   "metadata": {},
   "source": [
    "#### Check the number of unique category for each categorical column"
   ]
  },
  {
   "cell_type": "code",
   "execution_count": null,
   "id": "2658fb6f",
   "metadata": {},
   "outputs": [],
   "source": [
    "categorical = ['gender','education_level', \n",
    "                    'marital_status', 'income_category', 'card_category']\n",
    "\n",
    "for cat in categorical:\n",
    "    print(df[cat].unique())"
   ]
  },
  {
   "cell_type": "markdown",
   "id": "8516fbce",
   "metadata": {},
   "source": [
    "# Encoding categorical columns"
   ]
  },
  {
   "cell_type": "markdown",
   "id": "d28e3948",
   "metadata": {},
   "source": [
    "#### Label encoding categorical columns with 2 types of categories"
   ]
  },
  {
   "cell_type": "code",
   "execution_count": null,
   "id": "d9b8260b",
   "metadata": {
    "scrolled": false
   },
   "outputs": [],
   "source": [
    "# label_enc = LabelEncoder()\n",
    "# df[\"gender\"] = label_enc.fit_transform(df[\"gender\"])"
   ]
  },
  {
   "cell_type": "code",
   "execution_count": null,
   "id": "0da1e334",
   "metadata": {},
   "outputs": [],
   "source": [
    "# df[\"attrition_flag\"] = label_enc.fit_transform(df[\"attrition_flag\"])\n",
    "# df.head()"
   ]
  },
  {
   "cell_type": "markdown",
   "id": "e5503db5",
   "metadata": {},
   "source": [
    "#### One Hot Encoding `marital_status` column & Combining back to dataframe"
   ]
  },
  {
   "cell_type": "code",
   "execution_count": null,
   "id": "eb0c275e",
   "metadata": {},
   "outputs": [],
   "source": [
    "# onehot_enc = OneHotEncoder()\n",
    "# reshape = np.array(df[\"marital_status\"]).reshape(-1, 1)\n",
    "# values = onehot_enc.fit_transform(reshape).toarray().astype(int)\n",
    "# labels = np.array([\"divorced\", \"married\", \"single\", \"unknown_marital_status\"]).ravel()\n",
    "# marital_status_df = pd.DataFrame(values, columns=labels)\n",
    "\n",
    "# df = df.join(marital_status_df[\"divorced\"])\n",
    "# df = df.join(marital_status_df[\"married\"])\n",
    "# df = df.join(marital_status_df[\"single\"])\n",
    "# df = df.join(marital_status_df[\"unknown_marital_status\"])\n",
    "\n",
    "# df.drop(\"marital_status\", axis=1, inplace=True)\n",
    "\n",
    "# df.head()"
   ]
  },
  {
   "cell_type": "code",
   "execution_count": null,
   "id": "2f60854f",
   "metadata": {},
   "outputs": [],
   "source": [
    "# reshape = np.array(df[\"income_category\"]).reshape(-1, 1)\n",
    "# values = onehot_enc.fit_transform(reshape).toarray().astype(int)\n",
    "# labels = np.array(['$120k+', '$40k-$60k', '$60k-$80k', '$80k-$120k', 'less_than_$40k', 'unknown_income_category']).ravel()\n",
    "# income_category_df = pd.DataFrame(values, columns=labels)\n",
    "\n",
    "# df = df.join(income_category_df[\"$120k+\"])\n",
    "# df = df.join(income_category_df[\"$40k-$60k\"])\n",
    "# df = df.join(income_category_df[\"$60k-$80k\"])\n",
    "# df = df.join(income_category_df[\"$80k-$120k\"])\n",
    "# df = df.join(income_category_df[\"less_than_$40k\"])\n",
    "# df = df.join(income_category_df[\"unknown_income_category\"])\n",
    "\n",
    "# df.drop(\"income_category\", axis=1, inplace=True)\n",
    "\n",
    "# df.head()\n",
    "\n",
    "# # '$120K +', '$40K - $60K', '$60K - $80K', '$80K - $120K', 'Less than $40K', 'Unknown'"
   ]
  },
  {
   "cell_type": "markdown",
   "id": "256fdf4d",
   "metadata": {},
   "source": [
    "#### Ordinal Encoding: `education_level`, `card_category`"
   ]
  },
  {
   "cell_type": "code",
   "execution_count": null,
   "id": "5187013a",
   "metadata": {},
   "outputs": [],
   "source": [
    "# ord_enc = OrdinalEncoder()\n",
    "# reshape = np.array(df[\"education_level\"]).reshape(-1,1)\n",
    "# values = ord_enc.fit_transform(reshape).astype(int)\n",
    "# education_level_df = pd.DataFrame(values, columns=[\"education_level\"])\n",
    "# df[\"education_level\"] = education_level_df[\"education_level\"]\n",
    "\n",
    "# df.head()\n",
    "\n",
    "# # 'College', 'Doctorate', 'Graduate', 'High School', 'Post-Graduate', 'Uneducated', 'Unknown'"
   ]
  },
  {
   "cell_type": "code",
   "execution_count": null,
   "id": "69cba141",
   "metadata": {
    "scrolled": true
   },
   "outputs": [],
   "source": [
    "# reshape = np.array(df[\"card_category\"]).reshape(-1,1)\n",
    "# values = ord_enc.fit_transform(reshape).astype(int)\n",
    "# education_level_df = pd.DataFrame(values, columns=[\"card_category\"])\n",
    "# df[\"card_category\"] = education_level_df[\"card_category\"]\n",
    "\n",
    "# df.head()\n",
    "\n",
    "# # 'Blue' 'Gold' 'Platinum' 'Silver'"
   ]
  },
  {
   "cell_type": "markdown",
   "id": "ee01da02",
   "metadata": {},
   "source": [
    "# Data transformation"
   ]
  },
  {
   "cell_type": "code",
   "execution_count": null,
   "id": "10bdcef1",
   "metadata": {},
   "outputs": [],
   "source": [
    "# skewed_cols = []\n",
    "\n",
    "# for num in numerical:\n",
    "#     if df[num].skew() < -1 or df[num].skew() > 1:\n",
    "#         skewed_cols.append(num)\n",
    "# print(skewed_cols)\n",
    "\n",
    "# for col in skewed_cols:\n",
    "# #     df[col] = np.log(df[col])\n",
    "#     df[col] = np.log(df[col].mask(df[col] <=0)).fillna(0)\n",
    "\n",
    "# df.head()"
   ]
  },
  {
   "cell_type": "code",
   "execution_count": null,
   "id": "5f2c285a",
   "metadata": {},
   "outputs": [],
   "source": [
    "# df.skew()"
   ]
  },
  {
   "cell_type": "markdown",
   "id": "01d36cf9",
   "metadata": {},
   "source": [
    "#### Defining x and y (target) variables"
   ]
  },
  {
   "cell_type": "code",
   "execution_count": null,
   "id": "7659560e",
   "metadata": {},
   "outputs": [],
   "source": [
    "y = df[\"attrition_flag\"]\n",
    "x = df.drop(\"attrition_flag\", axis=1)"
   ]
  },
  {
   "cell_type": "markdown",
   "id": "a0d7531f",
   "metadata": {},
   "source": [
    "#### Perform Chi-Square for feature selection\n",
    "H0 :- There is no relationship between categorical feature and target variable\\\n",
    "H1 :- There is some relationship between categorical feature and target variable\\\n",
    "If p-value ≥0.05, the null hypothesis is not rejected and there is no any relationship between target variable and categorical features."
   ]
  },
  {
   "cell_type": "code",
   "execution_count": null,
   "id": "38d57263",
   "metadata": {},
   "outputs": [],
   "source": [
    "# # https://medium.com/analytics-vidhya/categorical-feature-selection-using-chi-squared-test-e4c0d0af6b7e\n",
    "# # https://towardsdatascience.com/using-the-chi-squared-test-for-feature-selection-with-implementation-b15a4dad93f1\n",
    "\n",
    "# # Standardisation gives negative values, chi-square does not allow negative values\n",
    "\n",
    "# chi_scores = chi2(x,y)\n",
    "# p_values = pd.Series(chi_scores[1],index = x.columns)\n",
    "# p_values.sort_values(ascending = False , inplace = True)\n",
    "# p_values.plot.bar()\n",
    "\n",
    "# # conclusion: current_house_years, profession_encoded, state_encoded have no relationship with target variable\n",
    "# x = x.drop([\"current_house_years\", \"profession_encoded\", \"state_encoded\"], axis=1)"
   ]
  },
  {
   "cell_type": "markdown",
   "id": "64dd4921",
   "metadata": {},
   "source": [
    "#### Standardising columns"
   ]
  },
  {
   "cell_type": "code",
   "execution_count": null,
   "id": "c043d12c",
   "metadata": {},
   "outputs": [],
   "source": [
    "# # Scale all except columns which are one-hot encoded and label encoded\n",
    "\n",
    "# # With Chi-Square\n",
    "# to_scale = [\"income\", \"age\", \"experience\", \"current_job_years\", \"city_encoded\"]\n",
    "# no_scale = [\"marital_status\", \"car_ownership\", \"norent_noown\", \"owned\", \"rented\"]\n",
    "\n",
    "# # Without Chi-Square\n",
    "# # to_scale = [\"income\", \"age\", \"experience\", \"current_job_years\", \"current_house_years\", \"profession_encoded\", \"city_encoded\", \"state_encoded\"]\n",
    "# # no_scale = [\"marital_status\", \"car_ownership\", \"norent_noown\", \"owned\", \"rented\"]\n",
    "\n",
    "# scaler = StandardScaler()\n",
    "# scaled = scaler.fit_transform(x[to_scale])\n",
    "# scaled_df = pd.DataFrame(data=scaled, columns=to_scale)\n",
    "\n",
    "# for col in to_scale:\n",
    "#     x[col] = scaled_df[col]\n",
    "    \n",
    "# x.head()"
   ]
  },
  {
   "cell_type": "markdown",
   "id": "db64dd31",
   "metadata": {},
   "source": [
    "# Preparing for modelling"
   ]
  },
  {
   "cell_type": "markdown",
   "id": "b79ba367",
   "metadata": {},
   "source": [
    "#### Splitting the dataset into train and test sets"
   ]
  },
  {
   "cell_type": "code",
   "execution_count": null,
   "id": "022bb4db",
   "metadata": {},
   "outputs": [],
   "source": [
    "x_train, x_test, y_train, y_test = train_test_split(x, y, test_size = 0.2, random_state = 2021)"
   ]
  },
  {
   "cell_type": "markdown",
   "id": "060f2e7d",
   "metadata": {},
   "source": [
    "#### Performing PCA"
   ]
  },
  {
   "cell_type": "code",
   "execution_count": null,
   "id": "f5934ba6",
   "metadata": {},
   "outputs": [],
   "source": [
    "# pca_loan = PCA()\n",
    "# x_train = pca_loan.fit_transform(x_train)\n",
    "# x_test = pca_loan.fit_transform(x_test)"
   ]
  },
  {
   "cell_type": "markdown",
   "id": "6ff63e2f",
   "metadata": {},
   "source": [
    "#### Perform oversampling on train data"
   ]
  },
  {
   "cell_type": "code",
   "execution_count": null,
   "id": "71e7f721",
   "metadata": {},
   "outputs": [],
   "source": [
    "# for col in df:\n",
    "#     print(np.nan in df[col].unique())\n",
    "#     print(df[col].isnull().sum())\n",
    "\n",
    "# np.isnan(df).any()"
   ]
  },
  {
   "cell_type": "code",
   "execution_count": null,
   "id": "a75e2dab",
   "metadata": {
    "scrolled": true
   },
   "outputs": [],
   "source": [
    "# oversampler = SMOTE()\n",
    "# x_train, y_train = oversampler.fit_resample(x_train, y_train)\n",
    "\n",
    "# sns.countplot(x = y_train, palette = 'muted')"
   ]
  },
  {
   "cell_type": "markdown",
   "id": "3fcd15a9",
   "metadata": {},
   "source": [
    "#### Applying xgboost model"
   ]
  },
  {
   "cell_type": "code",
   "execution_count": null,
   "id": "95f8e70d",
   "metadata": {},
   "outputs": [],
   "source": [
    "# # https://xgboost.readthedocs.io/en/latest/python/python_api.html#module-xgboost.sklearn\n",
    "xgb = XGBClassifier(learning_rate=0.1,\n",
    "                    n_estimators=1000,\n",
    "                    use_label_encoder=False,\n",
    "                    random_state=2021)\n",
    "\n",
    "xgb.fit(x_train, y_train, eval_metric='logloss')\n",
    "y_pred = xgb.predict(x_test)\n",
    "cm = confusion_matrix(y_test, y_pred)\n",
    "print(cm)"
   ]
  },
  {
   "cell_type": "code",
   "execution_count": null,
   "id": "38435cbd",
   "metadata": {},
   "outputs": [],
   "source": [
    "print(\"-------------------------TEST SCORES-----------------------\")\n",
    "print(f\"Recall: {recall_score(y_test, y_pred)}\")\n",
    "print(f\"Precision: {precision_score(y_test, y_pred)}\")\n",
    "print(f\"F1-Score: {f1_score(y_test, y_pred)}\")\n",
    "print(f\"Accuracy score: {accuracy_score(y_test, y_pred)}\")\n",
    "print(f\"AUC Score: {roc_auc_score(y_test, y_pred)}\")"
   ]
  },
  {
   "cell_type": "markdown",
   "id": "62bf3a35",
   "metadata": {},
   "source": [
    "#### v2"
   ]
  },
  {
   "cell_type": "code",
   "execution_count": null,
   "id": "54817ff1",
   "metadata": {},
   "outputs": [],
   "source": []
  }
 ],
 "metadata": {
  "kernelspec": {
   "display_name": "Python 3 (ipykernel)",
   "language": "python",
   "name": "python3"
  },
  "language_info": {
   "codemirror_mode": {
    "name": "ipython",
    "version": 3
   },
   "file_extension": ".py",
   "mimetype": "text/x-python",
   "name": "python",
   "nbconvert_exporter": "python",
   "pygments_lexer": "ipython3",
   "version": "3.8.10"
  }
 },
 "nbformat": 4,
 "nbformat_minor": 5
}
