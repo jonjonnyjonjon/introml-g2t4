{
 "cells": [
  {
   "cell_type": "markdown",
   "id": "d51dca08",
   "metadata": {},
   "source": [
    "# 1. Setting up the notebook"
   ]
  },
  {
   "cell_type": "code",
   "execution_count": 34,
   "id": "9681e448",
   "metadata": {},
   "outputs": [],
   "source": [
    "import pandas as pd\n",
    "import numpy as np\n",
    "\n",
    "from sklearn.preprocessing import MinMaxScaler\n",
    "from sklearn.model_selection import GridSearchCV, RandomizedSearchCV, StratifiedKFold, cross_validate\n",
    "from imblearn.over_sampling import SMOTE\n",
    "from imblearn.pipeline import Pipeline\n",
    "from sklearn.compose import ColumnTransformer\n",
    "\n",
    "from xgboost import XGBClassifier\n",
    "from sklearn.metrics import recall_score, fbeta_score, roc_auc_score, make_scorer"
   ]
  },
  {
   "cell_type": "code",
   "execution_count": 35,
   "id": "b973afe6",
   "metadata": {
    "scrolled": false
   },
   "outputs": [],
   "source": [
    "df_train = pd.read_csv(\"../data/train.csv\")\n",
    "y_train = df_train[[\"attrition_flag\"]]\n",
    "x_train = df_train.drop(\"attrition_flag\", axis=1)\n",
    "\n",
    "df_test = pd.read_csv(\"../data/test.csv\")\n",
    "y_test = df_test[[\"attrition_flag\"]]\n",
    "x_test = df_test.drop(\"attrition_flag\", axis=1)"
   ]
  },
  {
   "cell_type": "markdown",
   "id": "65b62bd7",
   "metadata": {},
   "source": [
    "# 2. Running base model"
   ]
  },
  {
   "cell_type": "code",
   "execution_count": 36,
   "id": "da01084a",
   "metadata": {},
   "outputs": [
    {
     "name": "stdout",
     "output_type": "stream",
     "text": [
      "-------------------------TEST SCORES-----------------------  \n",
      "Recall: 0.8553846153846154  \n",
      "Fbeta2: 0.8553846153846154  \n",
      "AUC Score: 0.9138769049880161  \n"
     ]
    }
   ],
   "source": [
    "scale_features = x_train.columns\n",
    "oversampler = SMOTE(random_state=2021)\n",
    "scaler = ColumnTransformer(transformers=[ ('scaler', MinMaxScaler(), scale_features) ])\n",
    "xgb = XGBClassifier(eval_metric=\"logloss\", \n",
    "                    use_label_encoder=False, \n",
    "                    random_state=2021)\n",
    "\n",
    "pipeline = Pipeline(steps = [['scaler', scaler],\n",
    "                             ['smote', oversampler],\n",
    "                             ['classifier', xgb]])\n",
    "\n",
    "pipeline.fit(x_train, y_train.values.ravel() )\n",
    "y_pred = pipeline.predict(x_test)\n",
    "\n",
    "print(\"-------------------------TEST SCORES-----------------------  \")\n",
    "print(f\"Recall: {recall_score(y_test, y_pred)}  \")\n",
    "print(f\"Fbeta2: {fbeta_score(y_test, y_pred, beta=2)}  \")\n",
    "print(f\"AUC Score: {roc_auc_score(y_test, y_pred)}  \")"
   ]
  },
  {
   "cell_type": "markdown",
   "id": "a44f528a",
   "metadata": {},
   "source": [
    "# 3. Hyperparameter tuning with GridSearchCV"
   ]
  },
  {
   "cell_type": "markdown",
   "id": "1f3ba548",
   "metadata": {},
   "source": [
    "## 3.1 First Grid Search"
   ]
  },
  {
   "cell_type": "code",
   "execution_count": 55,
   "id": "12f4b454",
   "metadata": {},
   "outputs": [
    {
     "name": "stdout",
     "output_type": "stream",
     "text": [
      "classifier__learning_rate [0.2, 0.3, 0.4, 0.5]\n",
      "classifier__max_depth [5, 10, 15, 20]\n",
      "classifier__gamma [0.2, 0.5, 0.7, 1.0]\n",
      "classifier__subsample [0.5, 0.6, 0.8, 0.9]\n",
      "-----------------\n",
      "Total combinations: 256\n"
     ]
    }
   ],
   "source": [
    "# https://blog.dataiku.com/narrowing-the-search-which-hyperparameters-really-matter\n",
    "# Creating parameter grid to search\n",
    "learning_rates = [0.2, 0.3, 0.4, 0.5]\n",
    "max_depths = [5, 10, 15, 20]\n",
    "gammas = [0.2, 0.5, 0.7, 1.0]\n",
    "subsamples = [0.5, 0.6, 0.8, 0.9]\n",
    "\n",
    "params_grid = {\n",
    "                'classifier__learning_rate': learning_rates,\n",
    "                'classifier__max_depth': max_depths,\n",
    "                'classifier__gamma': gammas,\n",
    "                'classifier__subsample': subsamples\n",
    "              }\n",
    "\n",
    "total_combi = 1\n",
    "for param, value in params_grid.items():\n",
    "    print(param, value)\n",
    "    total_combi *= len(value)\n",
    "\n",
    "print('-----------------')\n",
    "print('Total combinations:', total_combi)"
   ]
  },
  {
   "cell_type": "code",
   "execution_count": 56,
   "id": "c95e9084",
   "metadata": {},
   "outputs": [
    {
     "name": "stdout",
     "output_type": "stream",
     "text": [
      "{'classifier__gamma': 1.0, 'classifier__learning_rate': 0.3, 'classifier__max_depth': 5, 'classifier__subsample': 0.9}\n"
     ]
    }
   ],
   "source": [
    "scale_features = x_train.columns\n",
    "oversampler = SMOTE(random_state=2021)\n",
    "scaler = ColumnTransformer(transformers=[ ('scaler', MinMaxScaler(), scale_features) ])\n",
    "xgb = XGBClassifier(eval_metric=\"logloss\", use_label_encoder=False, random_state=2021)\n",
    "\n",
    "pipeline = Pipeline(steps = [['scaler', scaler],\n",
    "                             ['smote', oversampler],\n",
    "                             ['classifier', xgb]])\n",
    "\n",
    "stratified_kfold = StratifiedKFold(shuffle=True, n_splits=5, random_state=2021)\n",
    "\n",
    "xgb_gridsearch = GridSearchCV(\n",
    "                                estimator = pipeline,\n",
    "                                param_grid = params_grid,\n",
    "                                scoring = 'recall',\n",
    "                                cv = stratified_kfold,\n",
    "                                refit = True,\n",
    "                                n_jobs = -1\n",
    "                             )\n",
    "\n",
    "xgb_gridsearch.fit(x_train, y_train.values.ravel())\n",
    "\n",
    "print(xgb_gridsearch.best_params_)"
   ]
  },
  {
   "cell_type": "markdown",
   "id": "ffef0958",
   "metadata": {},
   "source": [
    "## 3.2 Second Grid Search"
   ]
  },
  {
   "cell_type": "markdown",
   "id": "bd5d812a",
   "metadata": {},
   "source": [
    "#### Best Params of First GridSearch\n",
    "{'classifier__gamma': 1.0, 'classifier__learning_rate': 0.3, \n",
    "'classifier__max_depth': 5, 'classifier__subsample': 0.9}"
   ]
  },
  {
   "cell_type": "code",
   "execution_count": 60,
   "id": "142a1001",
   "metadata": {},
   "outputs": [
    {
     "name": "stdout",
     "output_type": "stream",
     "text": [
      "{'classifier__gamma': 1, 'classifier__learning_rate': 0.25, 'classifier__max_depth': 3, 'classifier__subsample': 0.9}\n"
     ]
    }
   ],
   "source": [
    "learning_rates = [0.25, 0.28, 0.3, 0.32, 0.35]\n",
    "max_depths = [3, 4, 5]\n",
    "gammas = [1]\n",
    "subsamples = [0.85, 0.9, 0.95]\n",
    "\n",
    "\n",
    "params_grid = {\n",
    "                'classifier__learning_rate': learning_rates,\n",
    "                'classifier__max_depth': max_depths,\n",
    "                'classifier__gamma': gammas,\n",
    "                'classifier__subsample': subsamples\n",
    "              }\n",
    "\n",
    "scale_features = x_train.columns\n",
    "oversampler = SMOTE(random_state=2021)\n",
    "scaler = ColumnTransformer(transformers=[ ('scaler', MinMaxScaler(), scale_features) ])\n",
    "xgb = XGBClassifier(eval_metric=\"logloss\", use_label_encoder=False, random_state=2021)\n",
    "\n",
    "pipeline = Pipeline(steps = [['scaler', scaler],\n",
    "                             ['smote', oversampler],\n",
    "                             ['classifier', xgb]])\n",
    "\n",
    "stratified_kfold = StratifiedKFold(shuffle=True, n_splits=5, random_state=2021)\n",
    "\n",
    "xgb_gridsearch = GridSearchCV(\n",
    "                                estimator = pipeline,\n",
    "                                param_grid = params_grid,\n",
    "                                scoring = 'recall',\n",
    "                                cv = stratified_kfold,\n",
    "                                refit = True,\n",
    "                                n_jobs = -1\n",
    "                             )\n",
    "\n",
    "xgb_gridsearch.fit(x_train, y_train.values.ravel())\n",
    "\n",
    "print(xgb_gridsearch.best_params_)"
   ]
  },
  {
   "cell_type": "markdown",
   "id": "d1f32863",
   "metadata": {},
   "source": [
    "## 3.3 Third Grid Search"
   ]
  },
  {
   "cell_type": "markdown",
   "id": "8ffd605d",
   "metadata": {},
   "source": [
    "#### Best params from Second Grid Search:\n",
    "{'classifier__gamma': 1, 'classifier__learning_rate': 0.25, 'classifier__max_depth': 3, 'classifier__subsample': 0.9}"
   ]
  },
  {
   "cell_type": "code",
   "execution_count": 63,
   "id": "af7ccad5",
   "metadata": {},
   "outputs": [
    {
     "name": "stdout",
     "output_type": "stream",
     "text": [
      "{'classifier__gamma': 1, 'classifier__learning_rate': 0.25, 'classifier__max_depth': 3, 'classifier__subsample': 0.9}\n"
     ]
    }
   ],
   "source": [
    "learning_rates = [0.22, 0.23, 0.24, 0.25, 0.26]\n",
    "max_depths = [3]\n",
    "gamma = [1]\n",
    "subsamples = [0.87, 0.9, 0.92]\n",
    "\n",
    "params_grid = {\n",
    "                'classifier__learning_rate': learning_rates,\n",
    "                'classifier__max_depth': max_depths,\n",
    "                'classifier__gamma': gammas,\n",
    "                'classifier__subsample': subsamples\n",
    "              }\n",
    "\n",
    "scale_features = x_train.columns\n",
    "oversampler = SMOTE(random_state=2021)\n",
    "scaler = ColumnTransformer(transformers=[ ('scaler', MinMaxScaler(), scale_features) ])\n",
    "xgb = XGBClassifier(eval_metric=\"logloss\", use_label_encoder=False, random_state=2021)\n",
    "\n",
    "pipeline = Pipeline(steps = [['scaler', scaler],\n",
    "                             ['smote', oversampler],\n",
    "                             ['classifier', xgb]])\n",
    "\n",
    "stratified_kfold = StratifiedKFold(shuffle=True, n_splits=5, random_state=2021)\n",
    "\n",
    "xgb_gridsearch = GridSearchCV(\n",
    "                                estimator = pipeline,\n",
    "                                param_grid = params_grid,\n",
    "                                scoring = 'recall',\n",
    "                                cv = stratified_kfold,\n",
    "                                refit = True,\n",
    "                                n_jobs = -1\n",
    "                             )\n",
    "\n",
    "xgb_gridsearch.fit(x_train, y_train.values.ravel())\n",
    "\n",
    "print(xgb_gridsearch.best_params_)"
   ]
  },
  {
   "cell_type": "markdown",
   "id": "a8aecf4b",
   "metadata": {},
   "source": [
    "# 4. Evaluation on test"
   ]
  },
  {
   "cell_type": "markdown",
   "id": "3dc6fdc6",
   "metadata": {},
   "source": [
    "#### Best params from First Grid Search:\n",
    "{'classifier__gamma': 1.0, 'classifier__learning_rate': 0.3, 'classifier__max_depth': 5, 'classifier__subsample': 0.9}\n",
    "#### Best params from Second & Third Grid Search:\n",
    "{'classifier__gamma': 1, 'classifier__learning_rate': 0.25, 'classifier__max_depth': 3, 'classifier__subsample': 0.9}"
   ]
  },
  {
   "cell_type": "code",
   "execution_count": 33,
   "id": "ae40c1d3",
   "metadata": {},
   "outputs": [
    {
     "name": "stdout",
     "output_type": "stream",
     "text": [
      "-------------------------TEST SCORES-----------------------  \n",
      "Recall: 0.8738461538461538  \n",
      "Fbeta2: 0.8647990255785628  \n",
      "AUC Score: 0.9198742820965042  \n"
     ]
    }
   ],
   "source": [
    "df_test = pd.read_csv(\"../data/test.csv\")\n",
    "y_test = df_test[[\"attrition_flag\"]]\n",
    "x_test = df_test.drop(\"attrition_flag\", axis=1)\n",
    "\n",
    "scale_features = x_train.columns\n",
    "oversampler = SMOTE(random_state=2021)\n",
    "scaler = ColumnTransformer(transformers=[ ('scaler', MinMaxScaler(), scale_features) ])\n",
    "xgb = XGBClassifier(learning_rate=0.25,\n",
    "                    max_depth=3,\n",
    "                    gamma=1,\n",
    "                    subsample=0.9,\n",
    "                    eval_metric=\"logloss\", \n",
    "                    use_label_encoder=False, \n",
    "                    random_state=2021)\n",
    "\n",
    "pipeline = Pipeline(steps = [['scaler', scaler],\n",
    "                             ['smote', oversampler],\n",
    "                             ['classifier', xgb]])\n",
    "\n",
    "pipeline.fit(x_train, y_train.values.ravel() )\n",
    "y_pred = pipeline.predict(x_test)\n",
    "\n",
    "print(\"-------------------------TEST SCORES-----------------------  \")\n",
    "print(f\"Recall: {recall_score(y_test, y_pred)}  \")\n",
    "print(f\"Fbeta2: {fbeta_score(y_test, y_pred, beta=2)}  \")\n",
    "print(f\"AUC Score: {roc_auc_score(y_test, y_pred)}  \")"
   ]
  }
 ],
 "metadata": {
  "kernelspec": {
   "display_name": "Python 3 (ipykernel)",
   "language": "python",
   "name": "python3"
  },
  "language_info": {
   "codemirror_mode": {
    "name": "ipython",
    "version": 3
   },
   "file_extension": ".py",
   "mimetype": "text/x-python",
   "name": "python",
   "nbconvert_exporter": "python",
   "pygments_lexer": "ipython3",
   "version": "3.8.10"
  }
 },
 "nbformat": 4,
 "nbformat_minor": 5
}
