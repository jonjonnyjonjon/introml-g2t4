{
 "cells": [
  {
   "cell_type": "markdown",
   "id": "58b687c1",
   "metadata": {},
   "source": [
    "# CS421: Introduction to Machine Learning\n",
    "## Project: Predicting Credit Card Customer Churn\n",
    "### Model: Logistic Regression\n",
    "---"
   ]
  },
  {
   "cell_type": "markdown",
   "id": "c91de7de",
   "metadata": {},
   "source": [
    "# 1. Importing packages and libraries"
   ]
  },
  {
   "cell_type": "code",
   "execution_count": 77,
   "id": "9b335f22",
   "metadata": {},
   "outputs": [],
   "source": [
    "import pandas as pd\n",
    "\n",
    "from imblearn.pipeline import Pipeline\n",
    "from sklearn.compose import ColumnTransformer\n",
    "from sklearn.preprocessing import MinMaxScaler\n",
    "from imblearn.over_sampling import SMOTE\n",
    "from sklearn.linear_model import LogisticRegression\n",
    "\n",
    "from sklearn.metrics import confusion_matrix, precision_score, recall_score, f1_score, fbeta_score, accuracy_score, roc_auc_score\n",
    "from sklearn.model_selection import GridSearchCV, StratifiedKFold\n",
    "\n",
    "\n",
    "import warnings\n",
    "warnings.filterwarnings('ignore')"
   ]
  },
  {
   "cell_type": "markdown",
   "id": "91d734cd",
   "metadata": {},
   "source": [
    "# 2. Reading file and tidying up columns"
   ]
  },
  {
   "cell_type": "code",
   "execution_count": 78,
   "id": "4817f49e",
   "metadata": {},
   "outputs": [],
   "source": [
    "df_train = pd.read_csv(\"../data/train.csv\")\n",
    "df_test = pd.read_csv(\"../data/test.csv\")\n",
    "\n",
    "y_train = df_train[[\"attrition_flag\"]]\n",
    "x_train = df_train.drop(\"attrition_flag\", axis=1)\n",
    "\n",
    "y_test = df_test[[\"attrition_flag\"]]\n",
    "x_test = df_test.drop(\"attrition_flag\", axis=1)"
   ]
  },
  {
   "cell_type": "code",
   "execution_count": 79,
   "metadata": {},
   "outputs": [],
   "source": [
    "def print_combis(param_grid):\n",
    "    '''\n",
    "    Print number of combinations in a param_grid\n",
    "    '''\n",
    "    total_combi = 1\n",
    "    for param, value in param_grid.items():\n",
    "        print(param, value)\n",
    "        total_combi *= len(value)\n",
    "\n",
    "    print('-----------------')\n",
    "    print('Total combinations:', total_combi)\n",
    "\n",
    "def print_scores(y_test, y_pred):\n",
    "    '''\n",
    "    Print evaluation metrics\n",
    "    '''\n",
    "    print(f\"-------------------------TEST SCORES-----------------------\")\n",
    "    print(f\"Recall: {recall_score(y_test, y_pred)}\")\n",
    "    print(f\"F2-Score: {fbeta_score(y_test, y_pred, beta=2)}\")\n",
    "    print(f\"AUC Score: {roc_auc_score(y_test, y_pred)}\")"
   ]
  },
  {
   "cell_type": "markdown",
   "id": "9da57ba6",
   "metadata": {},
   "source": [
    "# 3. Hyper paramter tuning with GridSearchCV"
   ]
  },
  {
   "cell_type": "code",
   "execution_count": 80,
   "metadata": {},
   "outputs": [
    {
     "data": {
      "text/plain": [
       "dict_keys(['memory', 'steps', 'verbose', 'scaler', 'smote', 'classifier', 'scaler__n_jobs', 'scaler__remainder', 'scaler__sparse_threshold', 'scaler__transformer_weights', 'scaler__transformers', 'scaler__verbose', 'scaler__verbose_feature_names_out', 'scaler__scaler', 'scaler__scaler__clip', 'scaler__scaler__copy', 'scaler__scaler__feature_range', 'smote__k_neighbors', 'smote__n_jobs', 'smote__random_state', 'smote__sampling_strategy', 'classifier__C', 'classifier__class_weight', 'classifier__dual', 'classifier__fit_intercept', 'classifier__intercept_scaling', 'classifier__l1_ratio', 'classifier__max_iter', 'classifier__multi_class', 'classifier__n_jobs', 'classifier__penalty', 'classifier__random_state', 'classifier__solver', 'classifier__tol', 'classifier__verbose', 'classifier__warm_start'])"
      ]
     },
     "execution_count": 80,
     "metadata": {},
     "output_type": "execute_result"
    }
   ],
   "source": [
    "# Define pipeline\n",
    "pipeline = Pipeline([\n",
    "    ('scaler', ColumnTransformer(transformers=[('scaler', MinMaxScaler(), x_train.columns[1:])])),\n",
    "    ('smote', SMOTE(random_state = 2021)), \n",
    "    ('classifier', LogisticRegression(random_state=2021))\n",
    "])\n",
    "pipeline.get_params().keys()"
   ]
  },
  {
   "cell_type": "markdown",
   "metadata": {},
   "source": [
    "## 3.1 Gridsearch 1"
   ]
  },
  {
   "cell_type": "code",
   "execution_count": 81,
   "metadata": {},
   "outputs": [
    {
     "name": "stdout",
     "output_type": "stream",
     "text": [
      "classifier__C [0.001, 0.01, 0.1, 1, 10, 100, 1000]\n",
      "classifier__fit_intercept [True, False]\n",
      "classifier__max_iter [100, 200, 300, 400, 500, 600, 700, 800, 900, 1000]\n",
      "classifier__multi_class ['auto', 'ovr', 'multinomial']\n",
      "classifier__penalty ['l1', 'l2', 'elasticnet', 'none']\n",
      "classifier__solver ['newton-cg', 'lbfgs', 'liblinear', 'sag', 'saga']\n",
      "-----------------\n",
      "Total combinations: 8400\n"
     ]
    }
   ],
   "source": [
    "param_grid = {\n",
    "    'classifier__C' : [0.001, 0.01, 0.1, 1, 10, 100, 1000],\n",
    "    'classifier__fit_intercept' : [True, False],\n",
    "    'classifier__max_iter' : [100, 200, 300, 400, 500, 600, 700, 800, 900, 1000],\n",
    "    'classifier__multi_class' : ['auto', 'ovr', 'multinomial'],\n",
    "    'classifier__penalty' : ['l1', 'l2', 'elasticnet', 'none'],\n",
    "    'classifier__solver' : ['newton-cg', 'lbfgs', 'liblinear', 'sag', 'saga']\n",
    "}\n",
    "\n",
    "print_combis(param_grid)"
   ]
  },
  {
   "cell_type": "code",
   "execution_count": 82,
   "metadata": {},
   "outputs": [],
   "source": [
    "logreg_gridsearch = GridSearchCV(\n",
    "    estimator = pipeline,\n",
    "    param_grid = param_grid,\n",
    "    scoring = 'recall',\n",
    "    cv = StratifiedKFold(shuffle=True, n_splits=5, random_state=2021),\n",
    "    refit = True,\n",
    "    n_jobs = -1\n",
    ")"
   ]
  },
  {
   "cell_type": "code",
   "execution_count": 83,
   "metadata": {},
   "outputs": [
    {
     "data": {
      "text/plain": [
       "GridSearchCV(cv=StratifiedKFold(n_splits=5, random_state=2021, shuffle=True),\n",
       "             estimator=Pipeline(steps=[('scaler',\n",
       "                                        ColumnTransformer(transformers=[('scaler',\n",
       "                                                                         MinMaxScaler(),\n",
       "                                                                         Index(['dependent_count', 'total_relationship_count', 'months_inactive_12_mon',\n",
       "       'contacts_count_12_mon', 'credit_limit', 'total_revolving_bal',\n",
       "       'total_amt_change_q4_q1', 'total_trans_amt', '...\n",
       "             param_grid={'classifier__C': [0.001, 0.01, 0.1, 1, 10, 100, 1000],\n",
       "                         'classifier__fit_intercept': [True, False],\n",
       "                         'classifier__max_iter': [100, 200, 300, 400, 500, 600,\n",
       "                                                  700, 800, 900, 1000],\n",
       "                         'classifier__multi_class': ['auto', 'ovr',\n",
       "                                                     'multinomial'],\n",
       "                         'classifier__penalty': ['l1', 'l2', 'elasticnet',\n",
       "                                                 'none'],\n",
       "                         'classifier__solver': ['newton-cg', 'lbfgs',\n",
       "                                                'liblinear', 'sag', 'saga']},\n",
       "             scoring='recall')"
      ]
     },
     "execution_count": 83,
     "metadata": {},
     "output_type": "execute_result"
    }
   ],
   "source": [
    "logreg_gridsearch.fit(x_train, y_train.values.ravel())"
   ]
  },
  {
   "cell_type": "code",
   "execution_count": 84,
   "metadata": {},
   "outputs": [
    {
     "name": "stdout",
     "output_type": "stream",
     "text": [
      "{'classifier__C': 1, 'classifier__fit_intercept': True, 'classifier__max_iter': 100, 'classifier__multi_class': 'auto', 'classifier__penalty': 'l2', 'classifier__solver': 'newton-cg'}\n"
     ]
    }
   ],
   "source": [
    "best_params = logreg_gridsearch.best_params_\n",
    "print(best_params)"
   ]
  },
  {
   "cell_type": "code",
   "execution_count": 85,
   "id": "21e68819",
   "metadata": {},
   "outputs": [
    {
     "name": "stdout",
     "output_type": "stream",
     "text": [
      "-------------------------TEST SCORES-----------------------\n",
      "Recall: 0.7107692307692308\n",
      "F2-Score: 0.630802839978154\n",
      "AUC Score: 0.7672011938678606\n"
     ]
    }
   ],
   "source": [
    "logreg_clf = logreg_gridsearch.best_estimator_\n",
    "y_pred = logreg_clf.predict(x_test)\n",
    "\n",
    "print_scores(y_test, y_pred)"
   ]
  },
  {
   "cell_type": "markdown",
   "metadata": {},
   "source": [
    "## 3.2 Gridsearch 2"
   ]
  },
  {
   "cell_type": "markdown",
   "metadata": {},
   "source": [
    "Previous best params: {'classifier__C': 1, 'classifier__fit_intercept': True, 'classifier__max_iter': 100, 'classifier__multi_class': 'auto', 'classifier__penalty': 'l2', 'classifier__solver': 'newton-cg'}"
   ]
  },
  {
   "cell_type": "code",
   "execution_count": 86,
   "metadata": {},
   "outputs": [
    {
     "name": "stdout",
     "output_type": "stream",
     "text": [
      "classifier__C [1, 2, 3, 4, 5]\n",
      "classifier__fit_intercept [True, False]\n",
      "classifier__max_iter [70, 80, 90, 100, 110, 120, 130]\n",
      "classifier__multi_class ['auto', 'ovr', 'multinomial']\n",
      "classifier__penalty ['l1', 'l2', 'elasticnet', 'none']\n",
      "classifier__solver ['newton-cg', 'lbfgs', 'liblinear', 'sag', 'saga']\n",
      "-----------------\n",
      "Total combinations: 4200\n"
     ]
    }
   ],
   "source": [
    "param_grid2 = {\n",
    "    'classifier__C' : [1, 2, 3, 4, 5],\n",
    "    'classifier__fit_intercept' : [True, False],\n",
    "    'classifier__max_iter' : [70, 80, 90, 100, 110, 120, 130],\n",
    "    'classifier__multi_class' : ['auto', 'ovr', 'multinomial'],\n",
    "    'classifier__penalty' : ['l1', 'l2', 'elasticnet', 'none'],\n",
    "    'classifier__solver' : ['newton-cg', 'lbfgs', 'liblinear', 'sag', 'saga']\n",
    "}\n",
    "\n",
    "print_combis(param_grid2)"
   ]
  },
  {
   "cell_type": "code",
   "execution_count": 87,
   "metadata": {},
   "outputs": [],
   "source": [
    "logreg_gridsearch2 = GridSearchCV(\n",
    "    estimator = pipeline,\n",
    "    param_grid = param_grid2,\n",
    "    scoring = 'recall',\n",
    "    cv = StratifiedKFold(shuffle=True, n_splits=5, random_state=2021),\n",
    "    refit = True,\n",
    "    n_jobs = -1\n",
    ")"
   ]
  },
  {
   "cell_type": "code",
   "execution_count": 88,
   "metadata": {},
   "outputs": [
    {
     "data": {
      "text/plain": [
       "GridSearchCV(cv=StratifiedKFold(n_splits=5, random_state=2021, shuffle=True),\n",
       "             estimator=Pipeline(steps=[('scaler',\n",
       "                                        ColumnTransformer(transformers=[('scaler',\n",
       "                                                                         MinMaxScaler(),\n",
       "                                                                         Index(['dependent_count', 'total_relationship_count', 'months_inactive_12_mon',\n",
       "       'contacts_count_12_mon', 'credit_limit', 'total_revolving_bal',\n",
       "       'total_amt_change_q4_q1', 'total_trans_amt', '...\n",
       "                                        LogisticRegression(random_state=2021))]),\n",
       "             n_jobs=-1,\n",
       "             param_grid={'classifier__C': [1, 2, 3, 4, 5],\n",
       "                         'classifier__fit_intercept': [True, False],\n",
       "                         'classifier__max_iter': [70, 80, 90, 100, 110, 120,\n",
       "                                                  130],\n",
       "                         'classifier__multi_class': ['auto', 'ovr',\n",
       "                                                     'multinomial'],\n",
       "                         'classifier__penalty': ['l1', 'l2', 'elasticnet',\n",
       "                                                 'none'],\n",
       "                         'classifier__solver': ['newton-cg', 'lbfgs',\n",
       "                                                'liblinear', 'sag', 'saga']},\n",
       "             scoring='recall')"
      ]
     },
     "execution_count": 88,
     "metadata": {},
     "output_type": "execute_result"
    }
   ],
   "source": [
    "logreg_gridsearch2.fit(x_train, y_train.values.ravel())"
   ]
  },
  {
   "cell_type": "code",
   "execution_count": 89,
   "metadata": {},
   "outputs": [
    {
     "name": "stdout",
     "output_type": "stream",
     "text": [
      "{'classifier__C': 1, 'classifier__fit_intercept': True, 'classifier__max_iter': 70, 'classifier__multi_class': 'auto', 'classifier__penalty': 'l2', 'classifier__solver': 'newton-cg'}\n"
     ]
    }
   ],
   "source": [
    "best_params2 = logreg_gridsearch2.best_params_\n",
    "print(best_params2)"
   ]
  },
  {
   "cell_type": "code",
   "execution_count": 90,
   "metadata": {},
   "outputs": [
    {
     "name": "stdout",
     "output_type": "stream",
     "text": [
      "-------------------------TEST SCORES-----------------------\n",
      "Recall: 0.7107692307692308\n",
      "F2-Score: 0.630802839978154\n",
      "AUC Score: 0.7672011938678606\n"
     ]
    }
   ],
   "source": [
    "logreg_clf2 = logreg_gridsearch2.best_estimator_\n",
    "\n",
    "y_pred2 = logreg_clf2.predict(x_test)\n",
    "\n",
    "print_scores(y_test, y_pred2)"
   ]
  },
  {
   "cell_type": "markdown",
   "metadata": {},
   "source": [
    "## 3.3 Gridsearch 3"
   ]
  },
  {
   "cell_type": "markdown",
   "metadata": {},
   "source": [
    "Previous best params: {'classifier__C': 1, 'classifier__fit_intercept': True, 'classifier__max_iter': 70, 'classifier__multi_class': 'auto', 'classifier__penalty': 'l2', 'classifier__solver': 'newton-cg'}"
   ]
  },
  {
   "cell_type": "code",
   "execution_count": 91,
   "metadata": {},
   "outputs": [
    {
     "name": "stdout",
     "output_type": "stream",
     "text": [
      "classifier__C [0.5, 0.6, 0.7, 0.8, 0.9, 1.0]\n",
      "classifier__fit_intercept [True, False]\n",
      "classifier__max_iter [10, 20, 30, 40, 50, 60, 70]\n",
      "classifier__multi_class ['auto', 'ovr', 'multinomial']\n",
      "classifier__penalty ['l1', 'l2', 'elasticnet', 'none']\n",
      "classifier__solver ['newton-cg', 'lbfgs', 'liblinear', 'sag', 'saga']\n",
      "-----------------\n",
      "Total combinations: 5040\n"
     ]
    }
   ],
   "source": [
    "param_grid3 = {\n",
    "    'classifier__C' : [0.5, 0.6, 0.7, 0.8, 0.9, 1.0],\n",
    "    'classifier__fit_intercept' : [True, False],\n",
    "    'classifier__max_iter' : [10, 20, 30, 40, 50, 60, 70],\n",
    "    'classifier__multi_class' : ['auto', 'ovr', 'multinomial'],\n",
    "    'classifier__penalty' : ['l1', 'l2', 'elasticnet', 'none'],\n",
    "    'classifier__solver' : ['newton-cg', 'lbfgs', 'liblinear', 'sag', 'saga']\n",
    "}\n",
    "\n",
    "print_combis(param_grid3)"
   ]
  },
  {
   "cell_type": "code",
   "execution_count": 92,
   "metadata": {},
   "outputs": [],
   "source": [
    "logreg_gridsearch3 = GridSearchCV(\n",
    "    estimator = pipeline,\n",
    "    param_grid = param_grid3,\n",
    "    scoring = 'recall',\n",
    "    cv = StratifiedKFold(shuffle=True, n_splits=5, random_state=2021),\n",
    "    refit = True,\n",
    "    n_jobs = -1\n",
    ")"
   ]
  },
  {
   "cell_type": "code",
   "execution_count": 93,
   "metadata": {},
   "outputs": [
    {
     "data": {
      "text/plain": [
       "GridSearchCV(cv=StratifiedKFold(n_splits=5, random_state=2021, shuffle=True),\n",
       "             estimator=Pipeline(steps=[('scaler',\n",
       "                                        ColumnTransformer(transformers=[('scaler',\n",
       "                                                                         MinMaxScaler(),\n",
       "                                                                         Index(['dependent_count', 'total_relationship_count', 'months_inactive_12_mon',\n",
       "       'contacts_count_12_mon', 'credit_limit', 'total_revolving_bal',\n",
       "       'total_amt_change_q4_q1', 'total_trans_amt', '...\n",
       "                                        LogisticRegression(random_state=2021))]),\n",
       "             n_jobs=-1,\n",
       "             param_grid={'classifier__C': [0.5, 0.6, 0.7, 0.8, 0.9, 1.0],\n",
       "                         'classifier__fit_intercept': [True, False],\n",
       "                         'classifier__max_iter': [10, 20, 30, 40, 50, 60, 70],\n",
       "                         'classifier__multi_class': ['auto', 'ovr',\n",
       "                                                     'multinomial'],\n",
       "                         'classifier__penalty': ['l1', 'l2', 'elasticnet',\n",
       "                                                 'none'],\n",
       "                         'classifier__solver': ['newton-cg', 'lbfgs',\n",
       "                                                'liblinear', 'sag', 'saga']},\n",
       "             scoring='recall')"
      ]
     },
     "execution_count": 93,
     "metadata": {},
     "output_type": "execute_result"
    }
   ],
   "source": [
    "logreg_gridsearch3.fit(x_train, y_train.values.ravel())"
   ]
  },
  {
   "cell_type": "code",
   "execution_count": 94,
   "metadata": {},
   "outputs": [
    {
     "name": "stdout",
     "output_type": "stream",
     "text": [
      "{'classifier__C': 0.5, 'classifier__fit_intercept': True, 'classifier__max_iter': 10, 'classifier__multi_class': 'auto', 'classifier__penalty': 'l2', 'classifier__solver': 'sag'}\n"
     ]
    }
   ],
   "source": [
    "best_params3 = logreg_gridsearch3.best_params_\n",
    "print(best_params3)"
   ]
  },
  {
   "cell_type": "code",
   "execution_count": 95,
   "metadata": {},
   "outputs": [
    {
     "name": "stdout",
     "output_type": "stream",
     "text": [
      "-------------------------TEST SCORES-----------------------\n",
      "Recall: 0.7169230769230769\n",
      "F2-Score: 0.6328082563824009\n",
      "AUC Score: 0.76792655903767\n"
     ]
    }
   ],
   "source": [
    "logreg_clf3 = logreg_gridsearch3.best_estimator_\n",
    "\n",
    "y_pred3 = logreg_clf3.predict(x_test)\n",
    "\n",
    "print_scores(y_test, y_pred3)"
   ]
  },
  {
   "cell_type": "markdown",
   "metadata": {},
   "source": [
    "# 4. Results"
   ]
  },
  {
   "cell_type": "markdown",
   "metadata": {},
   "source": [
    "**Obtained results:**\n",
    "\n",
    "| Feature           | GridSearch1 | GridSearch2 | GridSearch3 |\n",
    "|-------------------|:-----------:|:-----------:|:-----------:|\n",
    "|     Recall        |      0.7107692307692308      |      0.7107692307692308      |     0.7169230769230769      |  \n",
    "|     F2-Score      |      0.630802839978154      |      0.630802839978154      |     0.6328082563824009      |\n",
    "|     AUC Score     |     0.7672011938678606      |      0.7672011938678606      |     0.76792655903767      |"
   ]
  }
 ],
 "metadata": {
  "kernelspec": {
   "display_name": "Python 3 (ipykernel)",
   "language": "python",
   "name": "python3"
  },
  "language_info": {
   "codemirror_mode": {
    "name": "ipython",
    "version": 3
   },
   "file_extension": ".py",
   "mimetype": "text/x-python",
   "name": "python",
   "nbconvert_exporter": "python",
   "pygments_lexer": "ipython3",
   "version": "3.8.10"
  }
 },
 "nbformat": 4,
 "nbformat_minor": 5
}
