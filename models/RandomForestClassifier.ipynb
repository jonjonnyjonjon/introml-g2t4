{
 "cells": [
  {
   "cell_type": "markdown",
   "metadata": {},
   "source": [
    "# CS421: Introduction to Machine Learning\n",
    "## Project: Predicting Credit Card Customer Churn\n",
    "### Model: Random Forest\n",
    "---"
   ]
  },
  {
   "cell_type": "markdown",
   "metadata": {},
   "source": [
    "# 1. Importing packages and libraries"
   ]
  },
  {
   "cell_type": "code",
   "execution_count": 1,
   "metadata": {
    "execution": {
     "iopub.execute_input": "2021-11-07T00:58:15.944510Z",
     "iopub.status.busy": "2021-11-07T00:58:15.944205Z",
     "iopub.status.idle": "2021-11-07T00:58:16.274881Z",
     "shell.execute_reply": "2021-11-07T00:58:16.274008Z",
     "shell.execute_reply.started": "2021-11-07T00:58:15.944467Z"
    }
   },
   "outputs": [],
   "source": [
    "import pandas as pd\n",
    "import numpy as np\n",
    "import seaborn as sns\n",
    "import matplotlib.pyplot as plt\n",
    "%matplotlib inline\n",
    "\n",
    "from sklearn.preprocessing import MinMaxScaler\n",
    "from imblearn.over_sampling import SMOTE\n",
    "from imblearn.pipeline import Pipeline\n",
    "from sklearn.compose import ColumnTransformer\n",
    "\n",
    "from sklearn.ensemble import RandomForestClassifier\n",
    "from sklearn.model_selection import StratifiedKFold, GridSearchCV, RandomizedSearchCV\n",
    "\n",
    "from sklearn.metrics import make_scorer, recall_score, fbeta_score, roc_auc_score, ConfusionMatrixDisplay, confusion_matrix"
   ]
  },
  {
   "cell_type": "markdown",
   "metadata": {},
   "source": [
    "# 2. Reading file and tidying up columns"
   ]
  },
  {
   "cell_type": "code",
   "execution_count": 2,
   "metadata": {
    "execution": {
     "iopub.execute_input": "2021-11-07T00:58:16.276831Z",
     "iopub.status.busy": "2021-11-07T00:58:16.276199Z",
     "iopub.status.idle": "2021-11-07T00:58:16.309811Z",
     "shell.execute_reply": "2021-11-07T00:58:16.308881Z",
     "shell.execute_reply.started": "2021-11-07T00:58:16.276784Z"
    }
   },
   "outputs": [],
   "source": [
    "df_train = pd.read_csv(\"../data/train.csv\")\n",
    "df_test = pd.read_csv(\"../data/test.csv\")\n",
    "\n",
    "\n",
    "y_train = df_train[[\"attrition_flag\"]]\n",
    "x_train = df_train.drop(\"attrition_flag\", axis=1)\n",
    "\n",
    "y_test = df_test[[\"attrition_flag\"]]\n",
    "x_test = df_test.drop(\"attrition_flag\", axis=1)"
   ]
  },
  {
   "cell_type": "markdown",
   "metadata": {},
   "source": [
    "# 3. Model Performance before Hyperparameter tuning"
   ]
  },
  {
   "cell_type": "code",
   "execution_count": 3,
   "metadata": {
    "execution": {
     "iopub.execute_input": "2021-11-07T00:58:16.311870Z",
     "iopub.status.busy": "2021-11-07T00:58:16.311440Z",
     "iopub.status.idle": "2021-11-07T00:58:16.324376Z",
     "shell.execute_reply": "2021-11-07T00:58:16.323498Z",
     "shell.execute_reply.started": "2021-11-07T00:58:16.311823Z"
    }
   },
   "outputs": [
    {
     "name": "stdout",
     "output_type": "stream",
     "text": [
      "-----------------------PERFORMANCE EVALUATION--------------------  \n",
      "Recall: 0.8369230769230769 \n",
      "Fbeta2: 0.8287629494210846 \n",
      "AUC Score: 0.8981793515126848 \n"
     ]
    }
   ],
   "source": [
    "from imblearn.pipeline import Pipeline\n",
    "from sklearn.model_selection import StratifiedKFold, cross_validate\n",
    "from sklearn.compose import ColumnTransformer\n",
    "\n",
    "smote_sampler = SMOTE(random_state=2021)\n",
    "\n",
    "rf_clf = RandomForestClassifier(random_state=2021)\n",
    "\n",
    "scale_features = x_train.columns\n",
    "\n",
    "scaler = ColumnTransformer(transformers=[ ('scaler', MinMaxScaler(), scale_features) ])\n",
    "\n",
    "pipeline = Pipeline(steps = [['scaler', scaler],\n",
    "                             ['smote', smote_sampler],\n",
    "                             ['classifier', rf_clf]])\n",
    "\n",
    "pipeline.fit(x_train, y_train.values.ravel() )\n",
    "\n",
    "y_pred = pipeline.predict(x_test)\n",
    "recall = recall_score(y_test, y_pred)\n",
    "fbeta2 = fbeta_score(y_test, y_pred, beta=2)\n",
    "auc = roc_auc_score(y_test, y_pred)\n",
    "\n",
    "base_results = [recall, fbeta2, auc]\n",
    "\n",
    "print(\"-----------------------PERFORMANCE EVALUATION--------------------  \")\n",
    "print(f\"Recall: {recall} \")\n",
    "print(f\"Fbeta2: {fbeta2} \")\n",
    "print(f\"AUC Score: {auc} \")"
   ]
  },
  {
   "cell_type": "markdown",
   "metadata": {},
   "source": [
    "# 4. Hyper parameter tuning with GridSearchCV"
   ]
  },
  {
   "cell_type": "markdown",
   "metadata": {},
   "source": [
    "## 4.1 First GridSearchCV"
   ]
  },
  {
   "cell_type": "code",
   "execution_count": 4,
   "metadata": {
    "execution": {
     "iopub.execute_input": "2021-11-07T00:58:26.765506Z",
     "iopub.status.busy": "2021-11-07T00:58:26.765201Z",
     "iopub.status.idle": "2021-11-07T00:58:26.775473Z",
     "shell.execute_reply": "2021-11-07T00:58:26.774665Z",
     "shell.execute_reply.started": "2021-11-07T00:58:26.765476Z"
    }
   },
   "outputs": [
    {
     "name": "stdout",
     "output_type": "stream",
     "text": [
      "classifier__n_estimators [100, 300, 500, 700, 900]\n",
      "classifier__max_features ['sqrt', 'log2']\n",
      "classifier__min_samples_split [3, 5, 8, 10, 13]\n",
      "classifier__min_samples_leaf [1, 3, 5, 8, 10]\n",
      "classifier__max_depth [5, 10, 15, 20]\n",
      "-----------------\n",
      "Total combinations: 1000\n",
      "Across 5-folds = 5000\n"
     ]
    }
   ],
   "source": [
    "# Creating parameter grid to search\n",
    "n_estimators = [100, 300, 500, 700, 900]\n",
    "\n",
    "max_features = ['sqrt', 'log2']\n",
    "\n",
    "max_depth = [5, 10, 15, 20]\n",
    "\n",
    "min_samples_split = [3, 5, 8, 10, 13]\n",
    "\n",
    "min_samples_leaf = [1, 3, 5, 8, 10]\n",
    "\n",
    "params_grid = {\n",
    "                'classifier__n_estimators': n_estimators,\n",
    "                'classifier__max_features': max_features,\n",
    "                'classifier__min_samples_split': min_samples_split,\n",
    "                'classifier__min_samples_leaf': min_samples_leaf,\n",
    "                'classifier__max_depth': max_depth\n",
    "              }\n",
    "\n",
    "total_combi = 1\n",
    "for param, value in params_grid.items():\n",
    "    print(param, value)\n",
    "    total_combi *= len(value)\n",
    "\n",
    "print('-----------------')\n",
    "print('Total combinations:', total_combi)\n",
    "print('Across 5-folds =',total_combi*5)"
   ]
  },
  {
   "cell_type": "code",
   "execution_count": 5,
   "metadata": {
    "execution": {
     "iopub.execute_input": "2021-11-07T00:58:26.777811Z",
     "iopub.status.busy": "2021-11-07T00:58:26.776780Z",
     "iopub.status.idle": "2021-11-07T00:58:26.790819Z",
     "shell.execute_reply": "2021-11-07T00:58:26.789887Z",
     "shell.execute_reply.started": "2021-11-07T00:58:26.777765Z"
    }
   },
   "outputs": [],
   "source": [
    "# # running grid search 1\n",
    "# smote_sampler = SMOTE(random_state=2021)\n",
    "# rf_clf = RandomForestClassifier(random_state=2021)\n",
    "\n",
    "# scale_features = x_train.columns\n",
    "\n",
    "# scaler = ColumnTransformer(transformers=[ ('scaler', MinMaxScaler(), scale_features) ])\n",
    "\n",
    "# pipeline = Pipeline(steps = [['scaler', scaler],\n",
    "#                              ['smote', smote_sampler],\n",
    "#                              ['classifier', rf_clf]])\n",
    "\n",
    "# stratified_kfold = StratifiedKFold(shuffle=True, n_splits=5, random_state=2021)\n",
    "\n",
    "# rf_gridsearch = GridSearchCV(estimator = pipeline,\n",
    "#                            param_grid = params_grid,\n",
    "#                            scoring = 'recall',\n",
    "#                            cv = stratified_kfold,\n",
    "#                            refit = True,\n",
    "#                            n_jobs = -1)\n",
    "\n",
    "# rf_gridsearch.fit(x_train, y_train.values.ravel() )\n",
    "\n",
    "# best_parameters = rf_gridsearch.best_params_\n",
    "# print(best_parameters)"
   ]
  },
  {
   "cell_type": "markdown",
   "metadata": {},
   "source": [
    "{'classifier__max_depth': 10, 'classifier__max_features': 'sqrt', 'classifier__min_samples_leaf': 8, 'classifier__min_samples_split': 3, 'classifier__n_estimators': 100}"
   ]
  },
  {
   "cell_type": "markdown",
   "metadata": {},
   "source": [
    "## 4.2 Second GridSearchCV\n",
    "This second parameter search space aims to narrow down the search space based on the results obtained in the first grid search.\n",
    "\n",
    "**Previous parameter search space:**\n",
    "- n_estimators [100, 300, 500, 700, 900]\n",
    "- max_features ['sqrt', 'log2']\n",
    "- min_samples_split [3, 5, 8, 10, 13]\n",
    "- min_samples_leaf [1, 3, 5, 8, 10]\n",
    "- max_depth [5, 10, 15, 20]\n",
    "\n",
    "**Obtained results:**\n",
    "\n",
    "| Feature           | Value | New search space |\n",
    "|-------------------|:-----:|------------|\n",
    "| n_estimators      | 100   | [50, 75, 100, 125, 150] |\n",
    "| max_features      |'sqrt' | Leave as sqrt |\n",
    "| min_samples_split | 3     | [2, 3, 4] |\n",
    "| min_samples_leaf  | 8     | [6, 7, 8, 9] |\n",
    "| max_depth         | 10    | [8, 9, 10, 11, 12] |\n"
   ]
  },
  {
   "cell_type": "code",
   "execution_count": 6,
   "metadata": {
    "execution": {
     "iopub.execute_input": "2021-11-07T00:58:35.526828Z",
     "iopub.status.busy": "2021-11-07T00:58:35.526411Z",
     "iopub.status.idle": "2021-11-07T00:58:35.535333Z",
     "shell.execute_reply": "2021-11-07T00:58:35.534376Z",
     "shell.execute_reply.started": "2021-11-07T00:58:35.526798Z"
    }
   },
   "outputs": [
    {
     "name": "stdout",
     "output_type": "stream",
     "text": [
      "classifier__n_estimators [50, 75, 100, 125, 150]\n",
      "classifier__min_samples_split [2, 3, 4]\n",
      "classifier__min_samples_leaf [6, 7, 8, 9, 10]\n",
      "classifier__max_depth [8, 9, 10, 11, 12]\n",
      "-----------------\n",
      "Total combinations: 375\n",
      "Across 5-folds = 1875\n"
     ]
    }
   ],
   "source": [
    "# Creating parameter grid to search\n",
    "n_estimators = [50, 75, 100, 125, 150]\n",
    "\n",
    "min_samples_split = [2, 3, 4]\n",
    "\n",
    "min_samples_leaf = [6, 7, 8, 9, 10]\n",
    "\n",
    "max_depth = [8, 9, 10, 11, 12]\n",
    "\n",
    "params_grid = {\n",
    "                'classifier__n_estimators': n_estimators,\n",
    "                'classifier__min_samples_split': min_samples_split,\n",
    "                'classifier__min_samples_leaf': min_samples_leaf,\n",
    "                'classifier__max_depth': max_depth\n",
    "              }\n",
    "\n",
    "total_combi = 1\n",
    "for param, value in params_grid.items():\n",
    "    print(param, value)\n",
    "    total_combi *= len(value)\n",
    "\n",
    "print('-----------------')\n",
    "print('Total combinations:', total_combi)\n",
    "print('Across 5-folds =',total_combi*5)"
   ]
  },
  {
   "cell_type": "code",
   "execution_count": 7,
   "metadata": {
    "execution": {
     "iopub.execute_input": "2021-11-07T00:58:35.537190Z",
     "iopub.status.busy": "2021-11-07T00:58:35.536854Z",
     "iopub.status.idle": "2021-11-07T00:58:35.552911Z",
     "shell.execute_reply": "2021-11-07T00:58:35.552179Z",
     "shell.execute_reply.started": "2021-11-07T00:58:35.537147Z"
    }
   },
   "outputs": [],
   "source": [
    "# # running grid search 2\n",
    "# smote_sampler = SMOTE(random_state=2021)\n",
    "# rf_clf = RandomForestClassifier(max_features='sqrt', random_state=2021)\n",
    "\n",
    "# scale_features = x_train.columns\n",
    "\n",
    "# scaler = ColumnTransformer(transformers=[ ('scaler', MinMaxScaler(), scale_features) ])\n",
    "\n",
    "# pipeline = Pipeline(steps = [['scaler', scaler],\n",
    "#                              ['smote', smote_sampler],\n",
    "#                              ['classifier', rf_clf]])\n",
    "\n",
    "# stratified_kfold = StratifiedKFold(shuffle=True, n_splits=5, random_state=2021)\n",
    "\n",
    "# rf_gridsearch = GridSearchCV(estimator = pipeline,\n",
    "#                            param_grid = params_grid,\n",
    "#                            scoring = 'recall',\n",
    "#                            cv = stratified_kfold,\n",
    "#                            refit = True,\n",
    "#                            n_jobs = -1)\n",
    "\n",
    "# rf_gridsearch.fit(x_train, y_train.values.ravel() )\n",
    "\n",
    "# best_parameters = rf_gridsearch.best_params_\n",
    "# print(best_parameters)"
   ]
  },
  {
   "cell_type": "markdown",
   "metadata": {},
   "source": [
    "{'classifier__max_depth': 10, 'classifier__min_samples_leaf': 8, 'classifier__min_samples_split': 2, 'classifier__n_estimators': 125}"
   ]
  },
  {
   "cell_type": "markdown",
   "metadata": {},
   "source": [
    "## 4.3 Third GridSearchCV\n",
    "This third parameter search space aims to narrow down the search space based on the results obtained in the first grid search.\n",
    "\n",
    "**Previous parameter search spaces:**\n",
    "1. GridSearch 1\n",
    "- n_estimators = [100, 300, 500, 700, 900]\n",
    "- max_features = ['sqrt', 'log2']\n",
    "- min_samples_split = [3, 5, 8, 10, 13]\n",
    "- min_samples_leaf = [1, 3, 5, 8, 10]\n",
    "- max_depth = [5, 10, 15, 20]\n",
    "\n",
    "2. GridSearch 2\n",
    "- n_estimators = [50, 75, 100, 125, 150]\n",
    "- min_samples_split = [2, 3, 4]\n",
    "- min_samples_leaf = [6, 7, 8, 9, 10]\n",
    "- max_depth = [8, 9, 10, 11, 12]\n",
    "\n",
    "**Obtained results:**\n",
    "\n",
    "| Feature           | GridSearch1 | GridSearch2 |      New search space     |\n",
    "|-------------------|:-----------:|:-----------:|:-------------------------:|\n",
    "| n_estimators      |     100     |     125     | [100, 105, 110, 115, 120, 125, 130, 135, 140, 145, 150] |\n",
    "| min_samples_split |      3      |      2      |         [2,3]             |\n",
    "| min_samples_leaf  |      8      |      8      |         Leave as 8        |\n",
    "|    max_depth      |     10      |     10      |         Leave as 10       |\n",
    "\n"
   ]
  },
  {
   "cell_type": "code",
   "execution_count": 8,
   "metadata": {
    "execution": {
     "iopub.execute_input": "2021-11-07T00:58:46.459703Z",
     "iopub.status.busy": "2021-11-07T00:58:46.459364Z",
     "iopub.status.idle": "2021-11-07T00:58:46.468047Z",
     "shell.execute_reply": "2021-11-07T00:58:46.467159Z",
     "shell.execute_reply.started": "2021-11-07T00:58:46.459661Z"
    }
   },
   "outputs": [
    {
     "name": "stdout",
     "output_type": "stream",
     "text": [
      "classifier__n_estimators [100, 105, 110, 115, 120, 125, 130, 135, 140, 145, 150]\n",
      "classifier__min_samples_split [2, 3]\n",
      "-----------------\n",
      "Total combinations: 22\n",
      "Across 5-folds = 110\n"
     ]
    }
   ],
   "source": [
    "# Creating parameter grid to search\n",
    "n_estimators = [100, 105, 110, 115, 120, 125, 130, 135, 140, 145, 150]\n",
    "min_samples_split = [2, 3]\n",
    "\n",
    "params_grid = {\n",
    "                'classifier__n_estimators': n_estimators,\n",
    "                'classifier__min_samples_split': min_samples_split\n",
    "              }\n",
    "\n",
    "total_combi = 1\n",
    "for param, value in params_grid.items():\n",
    "    print(param, value)\n",
    "    total_combi *= len(value)\n",
    "\n",
    "print('-----------------')\n",
    "print('Total combinations:', total_combi)\n",
    "print('Across 5-folds =', total_combi*5)"
   ]
  },
  {
   "cell_type": "code",
   "execution_count": 9,
   "metadata": {
    "execution": {
     "iopub.execute_input": "2021-11-07T00:58:46.470070Z",
     "iopub.status.busy": "2021-11-07T00:58:46.469768Z",
     "iopub.status.idle": "2021-11-07T00:58:46.484911Z",
     "shell.execute_reply": "2021-11-07T00:58:46.484014Z",
     "shell.execute_reply.started": "2021-11-07T00:58:46.470030Z"
    }
   },
   "outputs": [],
   "source": [
    "# # running grid search 3\n",
    "# smote_sampler = SMOTE(random_state=2021)\n",
    "# rf_clf = RandomForestClassifier(min_samples_leaf=8, max_depth=10, max_features='sqrt', random_state=2021)\n",
    "\n",
    "# scale_features = x_train.columns\n",
    "\n",
    "# scaler = ColumnTransformer(transformers=[ ('scaler', MinMaxScaler(), scale_features) ])\n",
    "\n",
    "# pipeline = Pipeline(steps = [['scaler', scaler],\n",
    "#                              ['smote', smote_sampler],\n",
    "#                              ['classifier', rf_clf]])\n",
    "\n",
    "# stratified_kfold = StratifiedKFold(shuffle=True, n_splits=5, random_state=2021)\n",
    "\n",
    "# rf_gridsearch = GridSearchCV(estimator = pipeline,\n",
    "#                            param_grid = params_grid,\n",
    "#                            scoring = 'recall',\n",
    "#                            cv = stratified_kfold,\n",
    "#                            refit = True,\n",
    "#                            n_jobs = -1)\n",
    "\n",
    "# rf_gridsearch.fit(x_train, y_train.values.ravel() )\n",
    "\n",
    "# best_parameters = rf_gridsearch.best_params_\n",
    "# print(best_parameters)"
   ]
  },
  {
   "cell_type": "markdown",
   "metadata": {},
   "source": [
    "{'classifier__min_samples_split': 2, 'classifier__n_estimators': 105}"
   ]
  },
  {
   "cell_type": "markdown",
   "metadata": {},
   "source": [
    "# 4. Evaluation on Test"
   ]
  },
  {
   "cell_type": "code",
   "execution_count": null,
   "metadata": {},
   "outputs": [],
   "source": [
    "smote_sampler = SMOTE(random_state=2021)\n",
    "\n",
    "rf_clf = RandomForestClassifier(max_depth=10, max_features='sqrt', min_samples_leaf=8,\n",
    "                                min_samples_split=2, n_estimators=105,\n",
    "                                random_state=2021)\n",
    "\n",
    "scale_features = x_train.columns\n",
    "\n",
    "scaler = ColumnTransformer(transformers=[ ('scaler', MinMaxScaler(), scale_features) ])\n",
    "\n",
    "pipeline = Pipeline(steps = [['scaler', scaler],\n",
    "                             ['smote', smote_sampler],\n",
    "                             ['classifier', rf_clf]])\n",
    "\n",
    "pipeline.fit(x_train, y_train.values.ravel() )\n",
    "\n",
    "y_pred = pipeline.predict(x_test)\n",
    "\n",
    "recall = recall_score(y_test, y_pred)\n",
    "fbeta2 = fbeta_score(y_test, y_pred, beta=2)\n",
    "auc = roc_auc_score(y_test, y_pred)\n",
    "\n",
    "final_results = [recall, fbeta2, auc]\n",
    "\n",
    "print(\"-----------------------PERFORMANCE EVALUATION--------------------  \")\n",
    "print(f\"Recall: {recall} \")\n",
    "print(f\"Fbeta2: {fbeta2} \")\n",
    "print(f\"AUC Score: {auc} \")"
   ]
  },
  {
   "cell_type": "code",
   "execution_count": null,
   "metadata": {},
   "outputs": [],
   "source": [
    "p"
   ]
  },
  {
   "cell_type": "code",
   "execution_count": null,
   "metadata": {
    "execution": {
     "iopub.execute_input": "2021-11-07T00:58:58.004660Z",
     "iopub.status.busy": "2021-11-07T00:58:58.004419Z",
     "iopub.status.idle": "2021-11-07T00:58:58.234883Z",
     "shell.execute_reply": "2021-11-07T00:58:58.233904Z",
     "shell.execute_reply.started": "2021-11-07T00:58:58.004623Z"
    }
   },
   "outputs": [],
   "source": [
    "cm = confusion_matrix(y_test, y_pred)\n",
    "labels = ['Existing Customer', 'Attrited Customer']\n",
    "\n",
    "diagram = ConfusionMatrixDisplay(confusion_matrix=cm, display_labels=labels)\n",
    "diagram.plot(cmap=plt.cm.Blues)\n",
    "plt.show()"
   ]
  }
 ],
 "metadata": {
  "kernelspec": {
   "display_name": "Python 3 (ipykernel)",
   "language": "python",
   "name": "python3"
  },
  "language_info": {
   "codemirror_mode": {
    "name": "ipython",
    "version": 3
   },
   "file_extension": ".py",
   "mimetype": "text/x-python",
   "name": "python",
   "nbconvert_exporter": "python",
   "pygments_lexer": "ipython3",
   "version": "3.8.10"
  }
 },
 "nbformat": 4,
 "nbformat_minor": 4
}
