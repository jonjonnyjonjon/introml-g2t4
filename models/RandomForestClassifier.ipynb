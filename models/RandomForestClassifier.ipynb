{
 "cells": [
  {
   "cell_type": "markdown",
   "metadata": {},
   "source": [
    "# CS421: Introduction to Machine Learning\n",
    "## Project: Predicting Credit Card Customer Churn\n",
    "### Model: Random Forest\n",
    "---"
   ]
  },
  {
   "cell_type": "markdown",
   "metadata": {},
   "source": [
    "# 1. Importing packages and libraries"
   ]
  },
  {
   "cell_type": "code",
   "execution_count": 1,
   "metadata": {
    "execution": {
     "iopub.execute_input": "2021-11-07T00:58:15.944510Z",
     "iopub.status.busy": "2021-11-07T00:58:15.944205Z",
     "iopub.status.idle": "2021-11-07T00:58:16.274881Z",
     "shell.execute_reply": "2021-11-07T00:58:16.274008Z",
     "shell.execute_reply.started": "2021-11-07T00:58:15.944467Z"
    }
   },
   "outputs": [],
   "source": [
    "import pandas as pd\n",
    "import numpy as np\n",
    "import seaborn as sns\n",
    "import matplotlib.pyplot as plt\n",
    "%matplotlib inline\n",
    "\n",
    "from sklearn.preprocessing import MinMaxScaler\n",
    "from imblearn.over_sampling import SMOTE\n",
    "from imblearn.pipeline import Pipeline\n",
    "from sklearn.compose import ColumnTransformer\n",
    "\n",
    "from sklearn.ensemble import RandomForestClassifier\n",
    "from sklearn.model_selection import StratifiedKFold, GridSearchCV, RandomizedSearchCV\n",
    "\n",
    "from sklearn.metrics import make_scorer, recall_score, fbeta_score, roc_auc_score, ConfusionMatrixDisplay, confusion_matrix"
   ]
  },
  {
   "cell_type": "markdown",
   "metadata": {},
   "source": [
    "# 2. Reading file and tidying up columns"
   ]
  },
  {
   "cell_type": "code",
   "execution_count": 2,
   "metadata": {
    "execution": {
     "iopub.execute_input": "2021-11-07T00:58:16.276831Z",
     "iopub.status.busy": "2021-11-07T00:58:16.276199Z",
     "iopub.status.idle": "2021-11-07T00:58:16.309811Z",
     "shell.execute_reply": "2021-11-07T00:58:16.308881Z",
     "shell.execute_reply.started": "2021-11-07T00:58:16.276784Z"
    }
   },
   "outputs": [],
   "source": [
    "environment = 'local' # change this\n",
    "\n",
    "if environment == 'local':\n",
    "    df_train = pd.read_csv(\"../data/train.csv\")\n",
    "    df_test = pd.read_csv(\"../data/test.csv\")\n",
    "elif enviroment == 'kaggle':\n",
    "    df_train = pd.read_csv(\"./train.csv\")\n",
    "    df_test = pd.read_csv(\"./test.csv\")\n",
    "\n",
    "y_train = df_train[[\"attrition_flag\"]]\n",
    "x_train = df_train.drop(\"attrition_flag\", axis=1)\n",
    "\n",
    "y_test = df_test[[\"attrition_flag\"]]\n",
    "x_test = df_test.drop(\"attrition_flag\", axis=1)"
   ]
  },
  {
   "cell_type": "markdown",
   "metadata": {},
   "source": [
    "# 3. Model Performance before Hyperparameter tuning"
   ]
  },
  {
   "cell_type": "code",
   "execution_count": 3,
   "metadata": {
    "execution": {
     "iopub.execute_input": "2021-11-07T00:58:16.311870Z",
     "iopub.status.busy": "2021-11-07T00:58:16.311440Z",
     "iopub.status.idle": "2021-11-07T00:58:16.324376Z",
     "shell.execute_reply": "2021-11-07T00:58:16.323498Z",
     "shell.execute_reply.started": "2021-11-07T00:58:16.311823Z"
    }
   },
   "outputs": [],
   "source": [
    "from imblearn.pipeline import Pipeline\n",
    "from sklearn.model_selection import StratifiedKFold, cross_validate\n",
    "from sklearn.compose import ColumnTransformer\n",
    "\n",
    "def cv_evaluate_model(rf_clf):\n",
    "    smote_sampler = SMOTE(random_state=2021)\n",
    "\n",
    "    scale_features = x_train.columns\n",
    "\n",
    "    scaler = ColumnTransformer(transformers=[ ('scaler', MinMaxScaler(), scale_features) ])\n",
    "\n",
    "    pipeline = Pipeline(steps = [['scaler', scaler],\n",
    "                                 ['smote', smote_sampler],\n",
    "                                 ['classifier', rf_clf]])\n",
    "\n",
    "    stratified_kfold = StratifiedKFold(shuffle=True, n_splits=5, random_state=2021)\n",
    "\n",
    "    scoring = {\"recall\": 'recall',\n",
    "               \"fbeta_2\": make_scorer(fbeta_score, beta=2),\n",
    "               \"roc_auc\": make_scorer(roc_auc_score),\n",
    "              }\n",
    "\n",
    "    scores = cross_validate(pipeline, x_train, y_train.values.ravel(), cv=stratified_kfold,\n",
    "                           scoring = scoring)\n",
    "\n",
    "    recall = [ val for val in scores['test_recall'] ]\n",
    "    fbeta_2 = [ val for val in scores['test_fbeta_2'] ]\n",
    "    auc = [ val for val in scores['test_roc_auc'] ]\n",
    "    recall.append( sum(recall) / len(recall) )\n",
    "    fbeta_2.append( sum(fbeta_2) / len(fbeta_2) )\n",
    "    auc.append( sum(auc) / len(auc) )\n",
    "\n",
    "    score_df = pd.DataFrame(data=[recall, fbeta_2, auc], columns=['Fold 1','Fold 2','Fold 3','Fold 4','Fold 5', 'Average'],\n",
    "                            index=['Recall','Fbeta2','AUC'])\n",
    "    return score_df"
   ]
  },
  {
   "cell_type": "code",
   "execution_count": 6,
   "metadata": {
    "execution": {
     "iopub.execute_input": "2021-11-07T00:58:16.326748Z",
     "iopub.status.busy": "2021-11-07T00:58:16.325641Z",
     "iopub.status.idle": "2021-11-07T00:58:26.763987Z",
     "shell.execute_reply": "2021-11-07T00:58:26.763079Z",
     "shell.execute_reply.started": "2021-11-07T00:58:16.326707Z"
    }
   },
   "outputs": [
    {
     "data": {
      "text/html": [
       "<div>\n",
       "<style scoped>\n",
       "    .dataframe tbody tr th:only-of-type {\n",
       "        vertical-align: middle;\n",
       "    }\n",
       "\n",
       "    .dataframe tbody tr th {\n",
       "        vertical-align: top;\n",
       "    }\n",
       "\n",
       "    .dataframe thead th {\n",
       "        text-align: right;\n",
       "    }\n",
       "</style>\n",
       "<table border=\"1\" class=\"dataframe\">\n",
       "  <thead>\n",
       "    <tr style=\"text-align: right;\">\n",
       "      <th></th>\n",
       "      <th>Fold 1</th>\n",
       "      <th>Fold 2</th>\n",
       "      <th>Fold 3</th>\n",
       "      <th>Fold 4</th>\n",
       "      <th>Fold 5</th>\n",
       "      <th>Average</th>\n",
       "    </tr>\n",
       "  </thead>\n",
       "  <tbody>\n",
       "    <tr>\n",
       "      <th>Recall</th>\n",
       "      <td>0.831418</td>\n",
       "      <td>0.846154</td>\n",
       "      <td>0.800000</td>\n",
       "      <td>0.826923</td>\n",
       "      <td>0.869732</td>\n",
       "      <td>0.834845</td>\n",
       "    </tr>\n",
       "    <tr>\n",
       "      <th>Fbeta2</th>\n",
       "      <td>0.830145</td>\n",
       "      <td>0.828313</td>\n",
       "      <td>0.803089</td>\n",
       "      <td>0.818736</td>\n",
       "      <td>0.859848</td>\n",
       "      <td>0.828026</td>\n",
       "    </tr>\n",
       "    <tr>\n",
       "      <th>AUC</th>\n",
       "      <td>0.898797</td>\n",
       "      <td>0.898077</td>\n",
       "      <td>0.882721</td>\n",
       "      <td>0.892138</td>\n",
       "      <td>0.916838</td>\n",
       "      <td>0.897714</td>\n",
       "    </tr>\n",
       "  </tbody>\n",
       "</table>\n",
       "</div>"
      ],
      "text/plain": [
       "          Fold 1    Fold 2    Fold 3    Fold 4    Fold 5   Average\n",
       "Recall  0.831418  0.846154  0.800000  0.826923  0.869732  0.834845\n",
       "Fbeta2  0.830145  0.828313  0.803089  0.818736  0.859848  0.828026\n",
       "AUC     0.898797  0.898077  0.882721  0.892138  0.916838  0.897714"
      ]
     },
     "metadata": {},
     "output_type": "display_data"
    }
   ],
   "source": [
    "base_rf_clf = RandomForestClassifier(random_state=2021)\n",
    "\n",
    "results = cv_evaluate_model(base_rf_clf)\n",
    "\n",
    "display(results)\n",
    "\n",
    "results_base = results['Average'] # retrieve performance"
   ]
  },
  {
   "cell_type": "markdown",
   "metadata": {},
   "source": [
    "# 4. Hyper parameter tuning with GridSearchCV"
   ]
  },
  {
   "cell_type": "markdown",
   "metadata": {},
   "source": [
    "## 4.1 First GridSearchCV"
   ]
  },
  {
   "cell_type": "code",
   "execution_count": 5,
   "metadata": {
    "execution": {
     "iopub.execute_input": "2021-11-07T00:58:26.765506Z",
     "iopub.status.busy": "2021-11-07T00:58:26.765201Z",
     "iopub.status.idle": "2021-11-07T00:58:26.775473Z",
     "shell.execute_reply": "2021-11-07T00:58:26.774665Z",
     "shell.execute_reply.started": "2021-11-07T00:58:26.765476Z"
    }
   },
   "outputs": [
    {
     "name": "stdout",
     "output_type": "stream",
     "text": [
      "classifier__n_estimators [100, 300, 500, 700, 900]\n",
      "classifier__max_features ['sqrt', 'log2']\n",
      "classifier__min_samples_split [3, 5, 8, 10, 13]\n",
      "classifier__min_samples_leaf [1, 3, 5, 8, 10]\n",
      "classifier__max_depth [5, 10, 15, 20]\n",
      "-----------------\n",
      "Total combinations: 1000\n",
      "Across 5-folds = 5000\n"
     ]
    }
   ],
   "source": [
    "# Creating parameter grid to search\n",
    "n_estimators = [100, 300, 500, 700, 900]\n",
    "\n",
    "max_features = ['sqrt', 'log2']\n",
    "\n",
    "max_depth = [5, 10, 15, 20]\n",
    "\n",
    "min_samples_split = [3, 5, 8, 10, 13]\n",
    "\n",
    "min_samples_leaf = [1, 3, 5, 8, 10]\n",
    "\n",
    "params_grid = {\n",
    "                'classifier__n_estimators': n_estimators,\n",
    "                'classifier__max_features': max_features,\n",
    "                'classifier__min_samples_split': min_samples_split,\n",
    "                'classifier__min_samples_leaf': min_samples_leaf,\n",
    "                'classifier__max_depth': max_depth\n",
    "              }\n",
    "\n",
    "total_combi = 1\n",
    "for param, value in params_grid.items():\n",
    "    print(param, value)\n",
    "    total_combi *= len(value)\n",
    "\n",
    "print('-----------------')\n",
    "print('Total combinations:', total_combi)\n",
    "print('Across 5-folds =',total_combi*5)"
   ]
  },
  {
   "cell_type": "code",
   "execution_count": 6,
   "metadata": {
    "execution": {
     "iopub.execute_input": "2021-11-07T00:58:26.777811Z",
     "iopub.status.busy": "2021-11-07T00:58:26.776780Z",
     "iopub.status.idle": "2021-11-07T00:58:26.790819Z",
     "shell.execute_reply": "2021-11-07T00:58:26.789887Z",
     "shell.execute_reply.started": "2021-11-07T00:58:26.777765Z"
    }
   },
   "outputs": [],
   "source": [
    "# # running grid search 1\n",
    "# smote_sampler = SMOTE(random_state=2021)\n",
    "# rf_clf = RandomForestClassifier(random_state=2021)\n",
    "\n",
    "# scale_features = x_train.columns\n",
    "\n",
    "# scaler = ColumnTransformer(transformers=[ ('scaler', MinMaxScaler(), scale_features) ])\n",
    "\n",
    "# pipeline = Pipeline(steps = [['scaler', scaler],\n",
    "#                              ['smote', smote_sampler],\n",
    "#                              ['classifier', rf_clf]])\n",
    "\n",
    "# stratified_kfold = StratifiedKFold(shuffle=True, n_splits=5, random_state=2021)\n",
    "\n",
    "# rf_gridsearch = GridSearchCV(estimator = pipeline,\n",
    "#                            param_grid = params_grid,\n",
    "#                            scoring = 'recall',\n",
    "#                            cv = stratified_kfold,\n",
    "#                            refit = True,\n",
    "#                            n_jobs = -1)\n",
    "\n",
    "# rf_gridsearch.fit(x_train, y_train.values.ravel() )\n",
    "\n",
    "# best_parameters = rf_gridsearch.best_params_\n",
    "# print(best_parameters)"
   ]
  },
  {
   "cell_type": "markdown",
   "metadata": {},
   "source": [
    "{'classifier__max_depth': 10, 'classifier__max_features': 'sqrt', 'classifier__min_samples_leaf': 8, 'classifier__min_samples_split': 3, 'classifier__n_estimators': 100}"
   ]
  },
  {
   "cell_type": "code",
   "execution_count": 25,
   "metadata": {
    "execution": {
     "iopub.execute_input": "2021-11-07T00:58:26.792719Z",
     "iopub.status.busy": "2021-11-07T00:58:26.792087Z",
     "iopub.status.idle": "2021-11-07T00:58:35.523999Z",
     "shell.execute_reply": "2021-11-07T00:58:35.523451Z",
     "shell.execute_reply.started": "2021-11-07T00:58:26.792673Z"
    }
   },
   "outputs": [
    {
     "data": {
      "text/html": [
       "<div>\n",
       "<style scoped>\n",
       "    .dataframe tbody tr th:only-of-type {\n",
       "        vertical-align: middle;\n",
       "    }\n",
       "\n",
       "    .dataframe tbody tr th {\n",
       "        vertical-align: top;\n",
       "    }\n",
       "\n",
       "    .dataframe thead th {\n",
       "        text-align: right;\n",
       "    }\n",
       "</style>\n",
       "<table border=\"1\" class=\"dataframe\">\n",
       "  <thead>\n",
       "    <tr style=\"text-align: right;\">\n",
       "      <th></th>\n",
       "      <th>Fold 1</th>\n",
       "      <th>Fold 2</th>\n",
       "      <th>Fold 3</th>\n",
       "      <th>Fold 4</th>\n",
       "      <th>Fold 5</th>\n",
       "      <th>Average</th>\n",
       "    </tr>\n",
       "  </thead>\n",
       "  <tbody>\n",
       "    <tr>\n",
       "      <th>Recall</th>\n",
       "      <td>0.869732</td>\n",
       "      <td>0.869231</td>\n",
       "      <td>0.838462</td>\n",
       "      <td>0.853846</td>\n",
       "      <td>0.888889</td>\n",
       "      <td>0.864032</td>\n",
       "    </tr>\n",
       "    <tr>\n",
       "      <th>Fbeta2</th>\n",
       "      <td>0.850187</td>\n",
       "      <td>0.835799</td>\n",
       "      <td>0.817091</td>\n",
       "      <td>0.822832</td>\n",
       "      <td>0.856089</td>\n",
       "      <td>0.836400</td>\n",
       "    </tr>\n",
       "    <tr>\n",
       "      <th>AUC</th>\n",
       "      <td>0.911336</td>\n",
       "      <td>0.902998</td>\n",
       "      <td>0.891290</td>\n",
       "      <td>0.894938</td>\n",
       "      <td>0.915379</td>\n",
       "      <td>0.903188</td>\n",
       "    </tr>\n",
       "  </tbody>\n",
       "</table>\n",
       "</div>"
      ],
      "text/plain": [
       "          Fold 1    Fold 2    Fold 3    Fold 4    Fold 5   Average\n",
       "Recall  0.869732  0.869231  0.838462  0.853846  0.888889  0.864032\n",
       "Fbeta2  0.850187  0.835799  0.817091  0.822832  0.856089  0.836400\n",
       "AUC     0.911336  0.902998  0.891290  0.894938  0.915379  0.903188"
      ]
     },
     "metadata": {},
     "output_type": "display_data"
    }
   ],
   "source": [
    "# classifier trained on the latest hyper parameters\n",
    "gs_clf1 = RandomForestClassifier(max_depth=10, max_features='sqrt', min_samples_leaf=8,\n",
    "                                min_samples_split=3, n_estimators=100,\n",
    "                                random_state=2021)\n",
    "\n",
    "results = cv_evaluate_model(gs_clf1)\n",
    "display(results)\n",
    "\n",
    "results_gs1 = results['Average'] # retrieve results"
   ]
  },
  {
   "cell_type": "markdown",
   "metadata": {},
   "source": [
    "## 4.2 Second GridSearchCV\n",
    "This second parameter search space aims to narrow down the search space based on the results obtained in the first grid search.\n",
    "\n",
    "**Previous parameter search space:**\n",
    "- n_estimators [100, 300, 500, 700, 900]\n",
    "- max_features ['sqrt', 'log2']\n",
    "- min_samples_split [3, 5, 8, 10, 13]\n",
    "- min_samples_leaf [1, 3, 5, 8, 10]\n",
    "- max_depth [5, 10, 15, 20]\n",
    "\n",
    "**Obtained results:**\n",
    "\n",
    "| Feature           | Value | New search space |\n",
    "|-------------------|:-----:|------------|\n",
    "| n_estimators      | 100   | [50, 75, 100, 125, 150] |\n",
    "| max_features      |'sqrt' | Leave as sqrt |\n",
    "| min_samples_split | 3     | [2, 3, 4] |\n",
    "| min_samples_leaf  | 8     | [6, 7, 8, 9] |\n",
    "| max_depth         | 10    | [8, 9, 10, 11, 12] |\n"
   ]
  },
  {
   "cell_type": "code",
   "execution_count": 8,
   "metadata": {
    "execution": {
     "iopub.execute_input": "2021-11-07T00:58:35.526828Z",
     "iopub.status.busy": "2021-11-07T00:58:35.526411Z",
     "iopub.status.idle": "2021-11-07T00:58:35.535333Z",
     "shell.execute_reply": "2021-11-07T00:58:35.534376Z",
     "shell.execute_reply.started": "2021-11-07T00:58:35.526798Z"
    }
   },
   "outputs": [
    {
     "name": "stdout",
     "output_type": "stream",
     "text": [
      "classifier__n_estimators [50, 75, 100, 125, 150]\n",
      "classifier__min_samples_split [2, 3, 4]\n",
      "classifier__min_samples_leaf [6, 7, 8, 9, 10]\n",
      "classifier__max_depth [8, 9, 10, 11, 12]\n",
      "-----------------\n",
      "Total combinations: 375\n",
      "Across 5-folds = 1875\n"
     ]
    }
   ],
   "source": [
    "# Creating parameter grid to search\n",
    "n_estimators = [50, 75, 100, 125, 150]\n",
    "\n",
    "min_samples_split = [2, 3, 4]\n",
    "\n",
    "min_samples_leaf = [6, 7, 8, 9, 10]\n",
    "\n",
    "max_depth = [8, 9, 10, 11, 12]\n",
    "\n",
    "params_grid = {\n",
    "                'classifier__n_estimators': n_estimators,\n",
    "                'classifier__min_samples_split': min_samples_split,\n",
    "                'classifier__min_samples_leaf': min_samples_leaf,\n",
    "                'classifier__max_depth': max_depth\n",
    "              }\n",
    "\n",
    "total_combi = 1\n",
    "for param, value in params_grid.items():\n",
    "    print(param, value)\n",
    "    total_combi *= len(value)\n",
    "\n",
    "print('-----------------')\n",
    "print('Total combinations:', total_combi)\n",
    "print('Across 5-folds =',total_combi*5)"
   ]
  },
  {
   "cell_type": "code",
   "execution_count": 9,
   "metadata": {
    "execution": {
     "iopub.execute_input": "2021-11-07T00:58:35.537190Z",
     "iopub.status.busy": "2021-11-07T00:58:35.536854Z",
     "iopub.status.idle": "2021-11-07T00:58:35.552911Z",
     "shell.execute_reply": "2021-11-07T00:58:35.552179Z",
     "shell.execute_reply.started": "2021-11-07T00:58:35.537147Z"
    }
   },
   "outputs": [],
   "source": [
    "# # running grid search 2\n",
    "# smote_sampler = SMOTE(random_state=2021)\n",
    "# rf_clf = RandomForestClassifier(max_features='sqrt', random_state=2021)\n",
    "\n",
    "# scale_features = x_train.columns\n",
    "\n",
    "# scaler = ColumnTransformer(transformers=[ ('scaler', MinMaxScaler(), scale_features) ])\n",
    "\n",
    "# pipeline = Pipeline(steps = [['scaler', scaler],\n",
    "#                              ['smote', smote_sampler],\n",
    "#                              ['classifier', rf_clf]])\n",
    "\n",
    "# stratified_kfold = StratifiedKFold(shuffle=True, n_splits=5, random_state=2021)\n",
    "\n",
    "# rf_gridsearch = GridSearchCV(estimator = pipeline,\n",
    "#                            param_grid = params_grid,\n",
    "#                            scoring = 'recall',\n",
    "#                            cv = stratified_kfold,\n",
    "#                            refit = True,\n",
    "#                            n_jobs = -1)\n",
    "\n",
    "# rf_gridsearch.fit(x_train, y_train.values.ravel() )\n",
    "\n",
    "# best_parameters = rf_gridsearch.best_params_\n",
    "# print(best_parameters)"
   ]
  },
  {
   "cell_type": "markdown",
   "metadata": {},
   "source": [
    "{'classifier__max_depth': 10, 'classifier__min_samples_leaf': 8, 'classifier__min_samples_split': 2, 'classifier__n_estimators': 125}"
   ]
  },
  {
   "cell_type": "code",
   "execution_count": 37,
   "metadata": {
    "execution": {
     "iopub.execute_input": "2021-11-07T00:58:35.554726Z",
     "iopub.status.busy": "2021-11-07T00:58:35.554227Z",
     "iopub.status.idle": "2021-11-07T00:58:46.457883Z",
     "shell.execute_reply": "2021-11-07T00:58:46.456885Z",
     "shell.execute_reply.started": "2021-11-07T00:58:35.554692Z"
    }
   },
   "outputs": [
    {
     "data": {
      "text/html": [
       "<div>\n",
       "<style scoped>\n",
       "    .dataframe tbody tr th:only-of-type {\n",
       "        vertical-align: middle;\n",
       "    }\n",
       "\n",
       "    .dataframe tbody tr th {\n",
       "        vertical-align: top;\n",
       "    }\n",
       "\n",
       "    .dataframe thead th {\n",
       "        text-align: right;\n",
       "    }\n",
       "</style>\n",
       "<table border=\"1\" class=\"dataframe\">\n",
       "  <thead>\n",
       "    <tr style=\"text-align: right;\">\n",
       "      <th></th>\n",
       "      <th>Fold 1</th>\n",
       "      <th>Fold 2</th>\n",
       "      <th>Fold 3</th>\n",
       "      <th>Fold 4</th>\n",
       "      <th>Fold 5</th>\n",
       "      <th>Average</th>\n",
       "    </tr>\n",
       "  </thead>\n",
       "  <tbody>\n",
       "    <tr>\n",
       "      <th>Recall</th>\n",
       "      <td>0.873563</td>\n",
       "      <td>0.869231</td>\n",
       "      <td>0.834615</td>\n",
       "      <td>0.861538</td>\n",
       "      <td>0.888889</td>\n",
       "      <td>0.865567</td>\n",
       "    </tr>\n",
       "    <tr>\n",
       "      <th>Fbeta2</th>\n",
       "      <td>0.852655</td>\n",
       "      <td>0.835799</td>\n",
       "      <td>0.814565</td>\n",
       "      <td>0.829016</td>\n",
       "      <td>0.857988</td>\n",
       "      <td>0.838004</td>\n",
       "    </tr>\n",
       "    <tr>\n",
       "      <th>AUC</th>\n",
       "      <td>0.912885</td>\n",
       "      <td>0.902998</td>\n",
       "      <td>0.889734</td>\n",
       "      <td>0.898784</td>\n",
       "      <td>0.916483</td>\n",
       "      <td>0.904177</td>\n",
       "    </tr>\n",
       "  </tbody>\n",
       "</table>\n",
       "</div>"
      ],
      "text/plain": [
       "          Fold 1    Fold 2    Fold 3    Fold 4    Fold 5   Average\n",
       "Recall  0.873563  0.869231  0.834615  0.861538  0.888889  0.865567\n",
       "Fbeta2  0.852655  0.835799  0.814565  0.829016  0.857988  0.838004\n",
       "AUC     0.912885  0.902998  0.889734  0.898784  0.916483  0.904177"
      ]
     },
     "metadata": {},
     "output_type": "display_data"
    }
   ],
   "source": [
    "rf_clf2 = RandomForestClassifier(max_depth=10, max_features='sqrt', min_samples_leaf=8,\n",
    "                                min_samples_split=2, n_estimators=125,\n",
    "                                random_state=2021)\n",
    "\n",
    "results = cv_evaluate_model(rf_clf2)\n",
    "display(results)\n",
    "\n",
    "results_gs2 = results['Average'] # retrieve performance"
   ]
  },
  {
   "cell_type": "markdown",
   "metadata": {},
   "source": [
    "## 4.3 Third GridSearchCV\n",
    "This third parameter search space aims to narrow down the search space based on the results obtained in the first grid search.\n",
    "\n",
    "**Previous parameter search spaces:**\n",
    "1. GridSearch 1\n",
    "- n_estimators = [100, 300, 500, 700, 900]\n",
    "- max_features = ['sqrt', 'log2']\n",
    "- min_samples_split = [3, 5, 8, 10, 13]\n",
    "- min_samples_leaf = [1, 3, 5, 8, 10]\n",
    "- max_depth = [5, 10, 15, 20]\n",
    "\n",
    "2. GridSearch 2\n",
    "- n_estimators = [50, 75, 100, 125, 150]\n",
    "- min_samples_split = [2, 3, 4]\n",
    "- min_samples_leaf = [6, 7, 8, 9, 10]\n",
    "- max_depth = [8, 9, 10, 11, 12]\n",
    "\n",
    "**Obtained results:**\n",
    "\n",
    "| Feature           | GridSearch1 | GridSearch2 |      New search space     |\n",
    "|-------------------|:-----------:|:-----------:|:-------------------------:|\n",
    "| n_estimators      |     100     |     125     | [100, 105, 110, 115, 120, 125, 130, 135, 140, 145, 150] |\n",
    "| min_samples_split |      3      |      2      |         [2,3]           |\n",
    "| min_samples_leaf  |      8      |      8      |         Leave as 8        |\n",
    "|    max_depth      |     10      |     10      |         Leave as 10       |\n",
    "\n"
   ]
  },
  {
   "cell_type": "code",
   "execution_count": 11,
   "metadata": {
    "execution": {
     "iopub.execute_input": "2021-11-07T00:58:46.459703Z",
     "iopub.status.busy": "2021-11-07T00:58:46.459364Z",
     "iopub.status.idle": "2021-11-07T00:58:46.468047Z",
     "shell.execute_reply": "2021-11-07T00:58:46.467159Z",
     "shell.execute_reply.started": "2021-11-07T00:58:46.459661Z"
    }
   },
   "outputs": [
    {
     "name": "stdout",
     "output_type": "stream",
     "text": [
      "classifier__n_estimators [100, 105, 110, 115, 120, 125, 130, 135, 140, 145, 150]\n",
      "classifier__min_samples_split [2, 3]\n",
      "-----------------\n",
      "Total combinations: 22\n",
      "Across 5-folds = 110\n"
     ]
    }
   ],
   "source": [
    "# Creating parameter grid to search\n",
    "n_estimators = [100, 105, 110, 115, 120, 125, 130, 135, 140, 145, 150]\n",
    "min_samples_split = [2, 3]\n",
    "\n",
    "params_grid = {\n",
    "                'classifier__n_estimators': n_estimators,\n",
    "                'classifier__min_samples_split': min_samples_split\n",
    "              }\n",
    "\n",
    "total_combi = 1\n",
    "for param, value in params_grid.items():\n",
    "    print(param, value)\n",
    "    total_combi *= len(value)\n",
    "\n",
    "print('-----------------')\n",
    "print('Total combinations:', total_combi)\n",
    "print('Across 5-folds =',total_combi*5)"
   ]
  },
  {
   "cell_type": "code",
   "execution_count": 12,
   "metadata": {
    "execution": {
     "iopub.execute_input": "2021-11-07T00:58:46.470070Z",
     "iopub.status.busy": "2021-11-07T00:58:46.469768Z",
     "iopub.status.idle": "2021-11-07T00:58:46.484911Z",
     "shell.execute_reply": "2021-11-07T00:58:46.484014Z",
     "shell.execute_reply.started": "2021-11-07T00:58:46.470030Z"
    }
   },
   "outputs": [],
   "source": [
    "# # running grid search 3\n",
    "# smote_sampler = SMOTE(random_state=2021)\n",
    "# rf_clf = RandomForestClassifier(min_samples_leaf=8, max_depth=10, max_features='sqrt', random_state=2021)\n",
    "\n",
    "# scale_features = x_train.columns\n",
    "\n",
    "# scaler = ColumnTransformer(transformers=[ ('scaler', MinMaxScaler(), scale_features) ])\n",
    "\n",
    "# pipeline = Pipeline(steps = [['scaler', scaler],\n",
    "#                              ['smote', smote_sampler],\n",
    "#                              ['classifier', rf_clf]])\n",
    "\n",
    "# stratified_kfold = StratifiedKFold(shuffle=True, n_splits=5, random_state=2021)\n",
    "\n",
    "# rf_gridsearch = GridSearchCV(estimator = pipeline,\n",
    "#                            param_grid = params_grid,\n",
    "#                            scoring = 'recall',\n",
    "#                            cv = stratified_kfold,\n",
    "#                            refit = True,\n",
    "#                            n_jobs = -1)\n",
    "\n",
    "# rf_gridsearch.fit(x_train, y_train.values.ravel() )\n",
    "\n",
    "# best_parameters = rf_gridsearch.best_params_\n",
    "# print(best_parameters)"
   ]
  },
  {
   "cell_type": "markdown",
   "metadata": {},
   "source": [
    "{'classifier__min_samples_split': 2, 'classifier__n_estimators': 105}"
   ]
  },
  {
   "cell_type": "code",
   "execution_count": 36,
   "metadata": {
    "execution": {
     "iopub.execute_input": "2021-11-07T00:58:46.486299Z",
     "iopub.status.busy": "2021-11-07T00:58:46.485945Z",
     "iopub.status.idle": "2021-11-07T00:58:55.673515Z",
     "shell.execute_reply": "2021-11-07T00:58:55.672663Z",
     "shell.execute_reply.started": "2021-11-07T00:58:46.486263Z"
    }
   },
   "outputs": [
    {
     "data": {
      "text/html": [
       "<div>\n",
       "<style scoped>\n",
       "    .dataframe tbody tr th:only-of-type {\n",
       "        vertical-align: middle;\n",
       "    }\n",
       "\n",
       "    .dataframe tbody tr th {\n",
       "        vertical-align: top;\n",
       "    }\n",
       "\n",
       "    .dataframe thead th {\n",
       "        text-align: right;\n",
       "    }\n",
       "</style>\n",
       "<table border=\"1\" class=\"dataframe\">\n",
       "  <thead>\n",
       "    <tr style=\"text-align: right;\">\n",
       "      <th></th>\n",
       "      <th>Fold 1</th>\n",
       "      <th>Fold 2</th>\n",
       "      <th>Fold 3</th>\n",
       "      <th>Fold 4</th>\n",
       "      <th>Fold 5</th>\n",
       "      <th>Average</th>\n",
       "    </tr>\n",
       "  </thead>\n",
       "  <tbody>\n",
       "    <tr>\n",
       "      <th>Recall</th>\n",
       "      <td>0.869732</td>\n",
       "      <td>0.869231</td>\n",
       "      <td>0.838462</td>\n",
       "      <td>0.861538</td>\n",
       "      <td>0.888889</td>\n",
       "      <td>0.865570</td>\n",
       "    </tr>\n",
       "    <tr>\n",
       "      <th>Fbeta2</th>\n",
       "      <td>0.850187</td>\n",
       "      <td>0.835181</td>\n",
       "      <td>0.817704</td>\n",
       "      <td>0.828402</td>\n",
       "      <td>0.857354</td>\n",
       "      <td>0.837766</td>\n",
       "    </tr>\n",
       "    <tr>\n",
       "      <th>AUC</th>\n",
       "      <td>0.911336</td>\n",
       "      <td>0.902630</td>\n",
       "      <td>0.891657</td>\n",
       "      <td>0.898416</td>\n",
       "      <td>0.916115</td>\n",
       "      <td>0.904031</td>\n",
       "    </tr>\n",
       "  </tbody>\n",
       "</table>\n",
       "</div>"
      ],
      "text/plain": [
       "          Fold 1    Fold 2    Fold 3    Fold 4    Fold 5   Average\n",
       "Recall  0.869732  0.869231  0.838462  0.861538  0.888889  0.865570\n",
       "Fbeta2  0.850187  0.835181  0.817704  0.828402  0.857354  0.837766\n",
       "AUC     0.911336  0.902630  0.891657  0.898416  0.916115  0.904031"
      ]
     },
     "metadata": {},
     "output_type": "display_data"
    }
   ],
   "source": [
    "rf_clf3 = RandomForestClassifier(max_depth=10, max_features='sqrt', min_samples_leaf=8,\n",
    "                                min_samples_split=2, n_estimators=105,\n",
    "                                random_state=2021)\n",
    "\n",
    "results = cv_evaluate_model(rf_clf3)\n",
    "display(results)\n",
    "\n",
    "results_gs3 = results['Average'] # retrieve performance"
   ]
  },
  {
   "cell_type": "markdown",
   "metadata": {},
   "source": [
    "## 4.4 Consolidating model improvements"
   ]
  },
  {
   "cell_type": "code",
   "execution_count": 54,
   "metadata": {},
   "outputs": [
    {
     "data": {
      "text/html": [
       "<div>\n",
       "<style scoped>\n",
       "    .dataframe tbody tr th:only-of-type {\n",
       "        vertical-align: middle;\n",
       "    }\n",
       "\n",
       "    .dataframe tbody tr th {\n",
       "        vertical-align: top;\n",
       "    }\n",
       "\n",
       "    .dataframe thead th {\n",
       "        text-align: right;\n",
       "    }\n",
       "</style>\n",
       "<table border=\"1\" class=\"dataframe\">\n",
       "  <thead>\n",
       "    <tr style=\"text-align: right;\">\n",
       "      <th></th>\n",
       "      <th>Recall</th>\n",
       "      <th>Fbeta2</th>\n",
       "      <th>AUC</th>\n",
       "    </tr>\n",
       "    <tr>\n",
       "      <th>Model</th>\n",
       "      <th></th>\n",
       "      <th></th>\n",
       "      <th></th>\n",
       "    </tr>\n",
       "  </thead>\n",
       "  <tbody>\n",
       "    <tr>\n",
       "      <th>GridSearch3</th>\n",
       "      <td>0.865570</td>\n",
       "      <td>0.837766</td>\n",
       "      <td>0.904031</td>\n",
       "    </tr>\n",
       "    <tr>\n",
       "      <th>GridSearch2</th>\n",
       "      <td>0.865567</td>\n",
       "      <td>0.838004</td>\n",
       "      <td>0.904177</td>\n",
       "    </tr>\n",
       "    <tr>\n",
       "      <th>GridSearch1</th>\n",
       "      <td>0.864032</td>\n",
       "      <td>0.836400</td>\n",
       "      <td>0.903188</td>\n",
       "    </tr>\n",
       "    <tr>\n",
       "      <th>Base</th>\n",
       "      <td>0.834845</td>\n",
       "      <td>0.828026</td>\n",
       "      <td>0.897714</td>\n",
       "    </tr>\n",
       "  </tbody>\n",
       "</table>\n",
       "</div>"
      ],
      "text/plain": [
       "               Recall    Fbeta2       AUC\n",
       "Model                                    \n",
       "GridSearch3  0.865570  0.837766  0.904031\n",
       "GridSearch2  0.865567  0.838004  0.904177\n",
       "GridSearch1  0.864032  0.836400  0.903188\n",
       "Base         0.834845  0.828026  0.897714"
      ]
     },
     "execution_count": 54,
     "metadata": {},
     "output_type": "execute_result"
    }
   ],
   "source": [
    "results_dict = {\n",
    "    \"Base\": results_base,\n",
    "    \"GridSearch1\": results_gs1,\n",
    "    \"GridSearch2\": results_gs2,\n",
    "    \"GridSearch3\": results_gs3\n",
    "}\n",
    "\n",
    "overall_results = pd.DataFrame(results_dict).T\n",
    "overall_results.index.name = 'Model'\n",
    "overall_results.sort_values(by=['Recall','Fbeta2','AUC'], ascending=False)"
   ]
  },
  {
   "cell_type": "markdown",
   "metadata": {},
   "source": [
    "### Conclusion:\n",
    "- Parameters obtained from GridSearch2 would be used to create the final model.\n",
    "- GridSearch2 performs worse on Recall by a marginal amount, but has better results on Fbeta2 and AUC"
   ]
  },
  {
   "cell_type": "markdown",
   "metadata": {},
   "source": [
    "# 4. Evaluation on Test"
   ]
  },
  {
   "cell_type": "code",
   "execution_count": 9,
   "metadata": {},
   "outputs": [
    {
     "name": "stdout",
     "output_type": "stream",
     "text": [
      "-----------------------PERFORMANCE EVALUATION--------------------  \n",
      "Recall: 0.8584615384615385 \n",
      "Fbeta2: 0.8323389021479715 \n",
      "AUC Score: 0.9007181296070186 \n"
     ]
    }
   ],
   "source": [
    "smote_sampler = SMOTE(random_state=2021)\n",
    "\n",
    "rf_clf = RandomForestClassifier(max_depth=10, max_features='sqrt', min_samples_leaf=8,\n",
    "                                min_samples_split=2, n_estimators=125,\n",
    "                                random_state=2021)\n",
    "\n",
    "scale_features = x_train.columns\n",
    "\n",
    "scaler = ColumnTransformer(transformers=[ ('scaler', MinMaxScaler(), scale_features) ])\n",
    "\n",
    "pipeline = Pipeline(steps = [['scaler', scaler],\n",
    "                             ['smote', smote_sampler],\n",
    "                             ['classifier', rf_clf]])\n",
    "\n",
    "pipeline.fit(x_train, y_train.values.ravel() )\n",
    "\n",
    "y_pred = pipeline.predict(x_test)\n",
    "\n",
    "print(\"-----------------------PERFORMANCE EVALUATION--------------------  \")\n",
    "print(f\"Recall: {recall_score(y_test, y_pred)} \")\n",
    "print(f\"Fbeta2: {fbeta_score(y_test, y_pred, beta=2)} \")\n",
    "print(f\"AUC Score: {roc_auc_score(y_test, y_pred)} \")"
   ]
  },
  {
   "cell_type": "code",
   "execution_count": 10,
   "metadata": {
    "execution": {
     "iopub.execute_input": "2021-11-07T00:58:58.004660Z",
     "iopub.status.busy": "2021-11-07T00:58:58.004419Z",
     "iopub.status.idle": "2021-11-07T00:58:58.234883Z",
     "shell.execute_reply": "2021-11-07T00:58:58.233904Z",
     "shell.execute_reply.started": "2021-11-07T00:58:58.004623Z"
    }
   },
   "outputs": [
    {
     "data": {
      "image/png": "[encoded data removed]",
      "text/plain": [
       "<Figure size 432x288 with 2 Axes>"
      ]
     },
     "metadata": {
      "needs_background": "light"
     },
     "output_type": "display_data"
    }
   ],
   "source": [
    "cm = confusion_matrix(y_test, y_pred)\n",
    "labels = ['Existing Customer', 'Attrited Customer']\n",
    "\n",
    "diagram = ConfusionMatrixDisplay(confusion_matrix=cm, display_labels=labels)\n",
    "diagram.plot(cmap=plt.cm.Blues)\n",
    "plt.show()"
   ]
  }
 ],
 "metadata": {
  "kernelspec": {
   "display_name": "Python 3 (ipykernel)",
   "language": "python",
   "name": "python3"
  },
  "language_info": {
   "codemirror_mode": {
    "name": "ipython",
    "version": 3
   },
   "file_extension": ".py",
   "mimetype": "text/x-python",
   "name": "python",
   "nbconvert_exporter": "python",
   "pygments_lexer": "ipython3",
   "version": "3.8.10"
  }
 },
 "nbformat": 4,
 "nbformat_minor": 4
}
