{
 "cells": [
  {
   "cell_type": "markdown",
   "id": "bcc719b2",
   "metadata": {},
   "source": [
    "# CS421: Introduction to Machine Learning\n",
    "## Project: Predicting Credit Card Customer Churn\n",
    "### Performance Evaluation\n",
    "---"
   ]
  },
  {
   "cell_type": "code",
   "execution_count": 4,
   "id": "74aba0a7",
   "metadata": {},
   "outputs": [],
   "source": [
    "import pandas as pd\n",
    "import numpy as np\n",
    "import seaborn as sns\n",
    "import matplotlib.pyplot as plt\n",
    "%matplotlib inline\n",
    "\n",
    "from sklearn.ensemble import RandomForestClassifier\n",
    "from xgboost import XGBClassifier"
   ]
  },
  {
   "cell_type": "code",
   "execution_count": 5,
   "id": "e5d486bd",
   "metadata": {},
   "outputs": [],
   "source": [
    "df_train = pd.read_csv(\"./data/train.csv\")\n",
    "df_test = pd.read_csv(\"./data/test.csv\")\n",
    "\n",
    "y_train = df_train[[\"attrition_flag\"]]\n",
    "x_train = df_train.drop(\"attrition_flag\", axis=1)\n",
    "\n",
    "y_test = df_test[[\"attrition_flag\"]]\n",
    "x_test = df_test.drop(\"attrition_flag\", axis=1)"
   ]
  },
  {
   "cell_type": "code",
   "execution_count": 6,
   "id": "10faa7ab",
   "metadata": {},
   "outputs": [],
   "source": [
    "from sklearn.preprocessing import MinMaxScaler\n",
    "from imblearn.over_sampling import SMOTE\n",
    "from imblearn.pipeline import Pipeline\n",
    "from sklearn.compose import ColumnTransformer\n",
    "\n",
    "def build_model(model):\n",
    "    global x_train\n",
    "    global y_train\n",
    "    \n",
    "    smote_sampler = SMOTE(random_state=2021)\n",
    "\n",
    "    scale_features = x_train.columns[1:]\n",
    "\n",
    "    scaler = ColumnTransformer(transformers=[ ('scaler', MinMaxScaler(), scale_features) ])\n",
    "\n",
    "    pipeline = Pipeline(steps = [['scaler', scaler],\n",
    "                                 ['smote', smote_sampler],\n",
    "                                 ['classifier', model]])\n",
    "\n",
    "    pipeline.fit(x_train, y_train.values.ravel() )\n",
    "\n",
    "    y_pred = pipeline.predict(x_test)\n",
    "    \n",
    "    return y_pred"
   ]
  },
  {
   "cell_type": "code",
   "execution_count": 7,
   "id": "1ee04772",
   "metadata": {},
   "outputs": [],
   "source": [
    "from sklearn.metrics import recall_score, fbeta_score, roc_auc_score, ConfusionMatrixDisplay, confusion_matrix\n",
    "\n",
    "def display_metrics(model_name, y_pred):\n",
    "    print(f\"-----------------------PERFORMANCE EVALUATION: {model_name}--------------------  \")\n",
    "    print(f\"Recall: {recall_score(y_test, y_pred)} \")\n",
    "    print(f\"Fbeta2: {fbeta_score(y_test, y_pred, beta=2)} \")\n",
    "    print(f\"AUC Score: {roc_auc_score(y_test, y_pred)} \")\n",
    "    \n",
    "    cm = confusion_matrix(y_test, y_pred)\n",
    "    labels = ['Existing Customer', 'Attrited Customer']\n",
    "\n",
    "    diagram = ConfusionMatrixDisplay(confusion_matrix=cm, display_labels=labels)\n",
    "    diagram.plot(cmap=plt.cm.Blues)\n",
    "    plt.show()"
   ]
  },
  {
   "cell_type": "markdown",
   "id": "31ad627e",
   "metadata": {},
   "source": [
    "# 1. Logistic Regression"
   ]
  },
  {
   "cell_type": "code",
   "execution_count": null,
   "id": "890e0e1a",
   "metadata": {},
   "outputs": [],
   "source": []
  },
  {
   "cell_type": "markdown",
   "id": "aff68a53",
   "metadata": {},
   "source": [
    "# 2. Support Vector Machine"
   ]
  },
  {
   "cell_type": "code",
   "execution_count": null,
   "id": "af805681",
   "metadata": {},
   "outputs": [],
   "source": []
  },
  {
   "cell_type": "markdown",
   "id": "4478415a",
   "metadata": {},
   "source": [
    "# 3. RandomForest"
   ]
  },
  {
   "cell_type": "code",
   "execution_count": 5,
   "id": "97fff7b3",
   "metadata": {},
   "outputs": [
    {
     "name": "stdout",
     "output_type": "stream",
     "text": [
      "-----------------------PERFORMANCE EVALUATION: Random Forest--------------------  \n",
      "Recall: 0.8584615384615385 \n",
      "Fbeta2: 0.8323389021479715 \n",
      "AUC Score: 0.9007181296070186 \n"
     ]
    },
    {
     "data": {
      "image/png": "[encoded data removed]",
      "text/plain": [
       "<Figure size 432x288 with 2 Axes>"
      ]
     },
     "metadata": {
      "needs_background": "light"
     },
     "output_type": "display_data"
    }
   ],
   "source": [
    "rf_clf = RandomForestClassifier(max_depth=10, max_features='sqrt', min_samples_leaf=8,\n",
    "                                    min_samples_split=2, n_estimators=125,\n",
    "                                    random_state=2021)\n",
    "\n",
    "rf_ypred = build_model(rf_clf)\n",
    "display_metrics('Random Forest', rf_ypred)"
   ]
  },
  {
   "cell_type": "markdown",
   "id": "7aadf0b9",
   "metadata": {},
   "source": [
    "# 4. XGBoost "
   ]
  },
  {
   "cell_type": "code",
   "execution_count": 8,
   "id": "f83add15",
   "metadata": {},
   "outputs": [
    {
     "name": "stdout",
     "output_type": "stream",
     "text": [
      "-----------------------PERFORMANCE EVALUATION: XGBoost--------------------  \n",
      "Recall: 0.8738461538461538 \n",
      "Fbeta2: 0.8647990255785628 \n",
      "AUC Score: 0.9198742820965042 \n"
     ]
    },
    {
     "data": {
      "image/png": "[encoded data removed]",
      "text/plain": [
       "<Figure size 432x288 with 2 Axes>"
      ]
     },
     "metadata": {
      "needs_background": "light"
     },
     "output_type": "display_data"
    }
   ],
   "source": [
    "xgb = XGBClassifier(learning_rate=0.25,\n",
    "                    max_depth=3,\n",
    "                    gamma=1,\n",
    "                    subsample=0.9,\n",
    "                    eval_metric=\"logloss\", \n",
    "                    use_label_encoder=False, \n",
    "                    random_state=2021)\n",
    "\n",
    "xgb_ypred = build_model(xgb)\n",
    "display_metrics(\"XGBoost\", xgb_ypred)"
   ]
  }
 ],
 "metadata": {
  "kernelspec": {
   "display_name": "Python 3 (ipykernel)",
   "language": "python",
   "name": "python3"
  },
  "language_info": {
   "codemirror_mode": {
    "name": "ipython",
    "version": 3
   },
   "file_extension": ".py",
   "mimetype": "text/x-python",
   "name": "python",
   "nbconvert_exporter": "python",
   "pygments_lexer": "ipython3",
   "version": "3.8.10"
  }
 },
 "nbformat": 4,
 "nbformat_minor": 5
}
